{
 "cells": [
  {
   "cell_type": "markdown",
   "metadata": {},
   "source": [
    "What if we wanted to use continue and break to stop the program if an item costs more than **$10** ?"
   ]
  },
  {
   "cell_type": "code",
   "execution_count": 1,
   "metadata": {},
   "outputs": [],
   "source": [
    "items = ['cheese', 'whole milk', 'kefir', 'tofu four-pack', 'kale', 'oranges', 'ham', 'ben & jerry\\'s']\n",
    "costs = [2.79, 3.42, 4.50, 12.00, 2.75, 3.64, 25.00, 5.29]\n",
    "\n",
    "shopping_list = dict(zip(items, costs))"
   ]
  },
  {
   "cell_type": "code",
   "execution_count": 14,
   "metadata": {},
   "outputs": [
    {
     "data": {
      "text/plain": [
       "{'cheese': 2.79,\n",
       " 'whole milk': 3.42,\n",
       " 'kefir': 4.5,\n",
       " 'tofu four-pack': 12.0,\n",
       " 'kale': 2.75,\n",
       " 'oranges': 3.64,\n",
       " 'ham': 25.0}"
      ]
     },
     "execution_count": 14,
     "metadata": {},
     "output_type": "execute_result"
    }
   ],
   "source": [
    "shopping_list # not showing 2 decimal points"
   ]
  },
  {
   "cell_type": "code",
   "execution_count": 15,
   "metadata": {},
   "outputs": [],
   "source": [
    "# use the enumerate method to show proper decimals"
   ]
  },
  {
   "cell_type": "code",
   "execution_count": 17,
   "metadata": {},
   "outputs": [
    {
     "name": "stdout",
     "output_type": "stream",
     "text": [
      "- [  ] cheese: $2.79\n",
      "- [  ] whole milk: $3.42\n",
      "- [  ] kefir: $4.50\n",
      "Total bill:    $0.00\n"
     ]
    }
   ],
   "source": [
    "total = 0\n",
    "for item, cost in shopping_list.items():\n",
    "    if cost > 10:\n",
    "        break                #stops the iteration.\n",
    "        total += cost\n",
    "    \n",
    "    print(f'- [  ] {item}: ${cost:.2f}')  #:.2f show 2 decimal places\n",
    "print(f'Total bill:    ${total:.2f}')     #:.2f show 2 decimal places"
   ]
  },
  {
   "cell_type": "code",
   "execution_count": 18,
   "metadata": {},
   "outputs": [
    {
     "name": "stdout",
     "output_type": "stream",
     "text": [
      "- [  ] cheese: $2.79\n",
      "- [  ] whole milk: $3.42\n",
      "- [  ] kefir: $4.50\n",
      "- [  ] kale: $2.75\n",
      "- [  ] oranges: $3.64\n",
      "Total bill:    $17.10\n"
     ]
    }
   ],
   "source": [
    "total = 0\n",
    "for item, cost in shopping_list.items():\n",
    "    if cost > 10:\n",
    "        continue                #continues the iteration.\n",
    "    total += cost\n",
    "    \n",
    "    print(f'- [  ] {item}: ${cost:.2f}')\n",
    "print(f'Total bill:    ${total:.2f}')"
   ]
  },
  {
   "cell_type": "code",
   "execution_count": 13,
   "metadata": {},
   "outputs": [
    {
     "name": "stdout",
     "output_type": "stream",
     "text": [
      "- [  ] cheese: $2.79\n",
      "- [  ] whole milk: $3.42\n",
      "- [  ] kefir: $4.5\n",
      "- [  ] kale: $2.75\n",
      "- [  ] oranges: $3.64\n",
      "Total bill:    $17.1\n"
     ]
    }
   ],
   "source": [
    "# .items() function\n",
    "\n",
    "total = 0\n",
    "for item in shopping_list:\n",
    "    cost = shopping_list[item]   # super inefficient. use .items()\n",
    "    if cost > 10:\n",
    "        continue                #continues the iteration.\n",
    "    total += cost\n",
    "    \n",
    "    print(f'- [  ] {item}: ${cost}')\n",
    "print(f'Total bill:    ${total}')"
   ]
  },
  {
   "cell_type": "markdown",
   "metadata": {},
   "source": [
    "### Nested Loops"
   ]
  },
  {
   "cell_type": "code",
   "execution_count": 22,
   "metadata": {},
   "outputs": [
    {
     "name": "stdout",
     "output_type": "stream",
     "text": [
      "loop1: 1\n",
      "loop2--- 1\n",
      "loop3xxxxx 1\n",
      "loop3xxxxx 2\n",
      "loop3xxxxx 3\n",
      "loop2--- 2\n",
      "loop3xxxxx 1\n",
      "loop3xxxxx 2\n",
      "loop3xxxxx 3\n",
      "loop2--- 3\n",
      "loop3xxxxx 1\n",
      "loop3xxxxx 2\n",
      "loop3xxxxx 3\n",
      "loop1: 2\n",
      "loop2--- 1\n",
      "loop3xxxxx 1\n",
      "loop3xxxxx 2\n",
      "loop3xxxxx 3\n",
      "loop2--- 2\n",
      "loop3xxxxx 1\n",
      "loop3xxxxx 2\n",
      "loop3xxxxx 3\n",
      "loop2--- 3\n",
      "loop3xxxxx 1\n",
      "loop3xxxxx 2\n",
      "loop3xxxxx 3\n",
      "loop1: 3\n",
      "loop2--- 1\n",
      "loop3xxxxx 1\n",
      "loop3xxxxx 2\n",
      "loop3xxxxx 3\n",
      "loop2--- 2\n",
      "loop3xxxxx 1\n",
      "loop3xxxxx 2\n",
      "loop3xxxxx 3\n",
      "loop2--- 3\n",
      "loop3xxxxx 1\n",
      "loop3xxxxx 2\n",
      "loop3xxxxx 3\n"
     ]
    }
   ],
   "source": [
    "list2 = [1, 2, 3]\n",
    "\n",
    "for x in list2:\n",
    "    print('loop1:', x)\n",
    "    for y in list2:\n",
    "        print('loop2---', y)\n",
    "        for z in list2:\n",
    "            print('loop3xxxxx', z)\n",
    "            "
   ]
  },
  {
   "cell_type": "markdown",
   "metadata": {},
   "source": [
    "What do you expect to see? Why?"
   ]
  },
  {
   "cell_type": "markdown",
   "metadata": {},
   "source": [
    "Here is a more robust shopping list of nested dictionaries:\n",
    "```python\n",
    "shopping_dict = {\n",
    "    'Groceries': {\n",
    "        'ben & jerrys': 5.29, 'cheese': 2.79, 'ham': 25.0, 'kale': 2.75,\n",
    "        'kefir': 4.5,'oranges': 3.64, 'tofu four-pack': 12.0,'whole milk': 3.42\n",
    "    },\n",
    "    'House supplies': {'toilet paper pack': 16.50, 'clorox spray': 6.43, 'kleenex': 2.50,},\n",
    "    'Pet supplies': {'Taste of the Wild': 65.20, 'squeaky toy': 4.50, 'duck feet': 8.45}}\n",
    "```\n",
    "\n",
    "write the nested for loops to print out each grocery list with its total\n",
    "\n",
    "_Hint_\n",
    "\n",
    "- use [this link](https://stackoverflow.com/a/45310389) for help in formatting the total to two decimal places"
   ]
  },
  {
   "cell_type": "code",
   "execution_count": 51,
   "metadata": {},
   "outputs": [
    {
     "data": {
      "text/plain": [
       "{'Groceries': {'ben & jerrys': 5.29,\n",
       "  'cheese': 2.79,\n",
       "  'ham': 25.0,\n",
       "  'kale': 2.75,\n",
       "  'kefir': 4.5,\n",
       "  'oranges': 3.64,\n",
       "  'tofu four-pack': 12.0,\n",
       "  'whole milk': 3.42},\n",
       " 'House supplies': {'toilet paper pack': 16.5,\n",
       "  'clorox spray': 6.43,\n",
       "  'kleenex': 2.5},\n",
       " 'Pet supplies': {'Taste of the Wild': 65.2,\n",
       "  'squeaky toy': 4.5,\n",
       "  'duck feet': 8.45}}"
      ]
     },
     "execution_count": 51,
     "metadata": {},
     "output_type": "execute_result"
    }
   ],
   "source": [
    "shopping_dict = {\n",
    "    'Groceries': {\n",
    "        'ben & jerrys': 5.29, 'cheese': 2.79, 'ham': 25.0, 'kale': 2.75,\n",
    "        'kefir': 4.5,'oranges': 3.64, 'tofu four-pack': 12.0,'whole milk': 3.42\n",
    "    },\n",
    "    'House supplies': {\n",
    "        'toilet paper pack': 16.50, 'clorox spray': 6.43, 'kleenex': 2.50,\n",
    "    },\n",
    "    'Pet supplies': {\n",
    "        'Taste of the Wild': 65.20, 'squeaky toy': 4.50, 'duck feet': 8.45\n",
    "    }\n",
    "}\n",
    "shopping_dict"
   ]
  },
  {
   "cell_type": "code",
   "execution_count": 31,
   "metadata": {},
   "outputs": [
    {
     "name": "stdout",
     "output_type": "stream",
     "text": [
      "~~~~~~~~~\n",
      "Groceries\n",
      "~~~~~~~~~\n",
      "- [ ] ben & jerrys: $5.29\n",
      "- [ ] cheese: $2.79\n",
      "- [ ] ham: $25.00\n",
      "- [ ] kale: $2.75\n",
      "- [ ] kefir: $4.50\n",
      "- [ ] oranges: $3.64\n",
      "- [ ] tofu four-pack: $12.00\n",
      "- [ ] whole milk: $3.42\n",
      "~~~~~~~~~~~~~~\n",
      "House supplies\n",
      "~~~~~~~~~~~~~~\n",
      "- [ ] toilet paper pack: $16.50\n",
      "- [ ] clorox spray: $6.43\n",
      "- [ ] kleenex: $2.50\n",
      "~~~~~~~~~~~~\n",
      "Pet supplies\n",
      "~~~~~~~~~~~~\n",
      "- [ ] Taste of the Wild: $65.20\n",
      "- [ ] squeaky toy: $4.50\n",
      "- [ ] duck feet: $8.45\n"
     ]
    }
   ],
   "source": [
    "for category, cat_items in shopping_dict.items():\n",
    "    print('~' * len(category))\n",
    "    print(category)\n",
    "    print('~' * len(category))\n",
    "    for item, cost in cat_items.items():\n",
    "        print(f'- [ ] {item}: ${cost:.2f}')"
   ]
  },
  {
   "cell_type": "code",
   "execution_count": 32,
   "metadata": {},
   "outputs": [
    {
     "data": {
      "text/plain": [
       "{'a': [1, 4, 7, 9], 'b': ['a', 'b', 'c', 'd'], 'z': (1, 4, 6, 9)}"
      ]
     },
     "execution_count": 32,
     "metadata": {},
     "output_type": "execute_result"
    }
   ],
   "source": [
    "dict_of_lists = {'a':[1,4,7,9], 'b':['a','b', 'c', 'd'], 'z':(1,4,6,9)}\n",
    "dict_of_lists"
   ]
  },
  {
   "cell_type": "code",
   "execution_count": 33,
   "metadata": {},
   "outputs": [
    {
     "name": "stdout",
     "output_type": "stream",
     "text": [
      "a\n",
      "5\n",
      "20\n",
      "35\n",
      "45\n",
      "b\n",
      "aaaaa\n",
      "bbbbb\n",
      "ccccc\n",
      "ddddd\n",
      "z\n",
      "5\n",
      "20\n",
      "30\n",
      "45\n"
     ]
    }
   ],
   "source": [
    "for k, v in dict_of_lists.items():\n",
    "    print(k)\n",
    "    for item in v:\n",
    "        print(item*5)"
   ]
  },
  {
   "cell_type": "code",
   "execution_count": null,
   "metadata": {},
   "outputs": [],
   "source": []
  },
  {
   "cell_type": "markdown",
   "metadata": {},
   "source": [
    "### Functions\n",
    "\n",
    "**Built-in functions** <br>\n",
    "Many useful functions are already built into Python:<br>\n",
    "\n",
    "`print()`: print the given string or variable's value<br>\n",
    "`type()`: returns the datatype of the argument<br>\n",
    "`len()`: returns the length of an array<br>\n",
    "`sum()`: returns the sum of the array's values<br>\n",
    "`min()`: returns the smallest member of an array <br>\n",
    "`max()`: returns the largest member of an array<br>\n",
    "\n",
    "\n",
    "**Writing your own functions**\n",
    "\n",
    "```python\n",
    "def sayHello():\n",
    "    print(\"Hello!\")\n",
    "```\n"
   ]
  },
  {
   "cell_type": "markdown",
   "metadata": {},
   "source": [
    "zip()\n",
    "\n",
    "python built-in functions\n",
    "https://docs.python.org/3/library/functions.html"
   ]
  },
  {
   "cell_type": "code",
   "execution_count": 35,
   "metadata": {},
   "outputs": [
    {
     "data": {
      "text/plain": [
       "True"
      ]
     },
     "execution_count": 35,
     "metadata": {},
     "output_type": "execute_result"
    }
   ],
   "source": [
    "my_list = [1,2,3,4]\n",
    "any(my_list)  # true if iterable"
   ]
  },
  {
   "cell_type": "markdown",
   "metadata": {},
   "source": [
    "falsey values:\n",
    "0\n",
    "''\n",
    "False\n",
    "[] \n",
    "{}\n",
    "(,)\n",
    "0.0\n",
    "None\n"
   ]
  },
  {
   "cell_type": "code",
   "execution_count": 38,
   "metadata": {},
   "outputs": [
    {
     "data": {
      "text/plain": [
       "False"
      ]
     },
     "execution_count": 38,
     "metadata": {},
     "output_type": "execute_result"
    }
   ],
   "source": [
    "my_list2 = [0,1,2,3,4]\n",
    "all(my_list2)\n",
    "#Return True if all elements of the iterable are true (or if the iterable is empty). Equivalent to: true if iterable"
   ]
  },
  {
   "cell_type": "code",
   "execution_count": 39,
   "metadata": {},
   "outputs": [
    {
     "data": {
      "text/plain": [
       "False"
      ]
     },
     "execution_count": 39,
     "metadata": {},
     "output_type": "execute_result"
    }
   ],
   "source": [
    "isinstance(my_list2, str)"
   ]
  },
  {
   "cell_type": "code",
   "execution_count": null,
   "metadata": {},
   "outputs": [],
   "source": []
  },
  {
   "cell_type": "code",
   "execution_count": null,
   "metadata": {},
   "outputs": [],
   "source": []
  },
  {
   "cell_type": "code",
   "execution_count": 6,
   "metadata": {},
   "outputs": [],
   "source": [
    "def sayHello():       # does not have/take an argument\n",
    "    print(\"Hello!\")"
   ]
  },
  {
   "cell_type": "code",
   "execution_count": 3,
   "metadata": {},
   "outputs": [
    {
     "name": "stdout",
     "output_type": "stream",
     "text": [
      "Hello!\n"
     ]
    }
   ],
   "source": [
    "sayHello()                   "
   ]
  },
  {
   "cell_type": "code",
   "execution_count": 5,
   "metadata": {},
   "outputs": [
    {
     "ename": "TypeError",
     "evalue": "sayHello() takes 0 positional arguments but 2 were given",
     "output_type": "error",
     "traceback": [
      "\u001b[1;31m---------------------------------------------------------------------------\u001b[0m",
      "\u001b[1;31mTypeError\u001b[0m                                 Traceback (most recent call last)",
      "\u001b[1;32m<ipython-input-5-c0546ece57a8>\u001b[0m in \u001b[0;36m<module>\u001b[1;34m\u001b[0m\n\u001b[1;32m----> 1\u001b[1;33m \u001b[0msayHello\u001b[0m\u001b[1;33m(\u001b[0m\u001b[1;36m1\u001b[0m\u001b[1;33m,\u001b[0m\u001b[1;36m2\u001b[0m\u001b[1;33m)\u001b[0m\u001b[1;33m\u001b[0m\u001b[1;33m\u001b[0m\u001b[0m\n\u001b[0m",
      "\u001b[1;31mTypeError\u001b[0m: sayHello() takes 0 positional arguments but 2 were given"
     ]
    }
   ],
   "source": [
    "sayHello(1,2)"
   ]
  },
  {
   "cell_type": "markdown",
   "metadata": {},
   "source": [
    "Let's talk about arguments or parameters. Let's say we want to make this function more dynamic and print out whatever we want! How would we do that?\n",
    "```python\n",
    "def shout(phrase):\n",
    "    print(phrase + \"!!!\")\n",
    "shout(\"oh hai\")\n",
    "```"
   ]
  },
  {
   "cell_type": "code",
   "execution_count": 40,
   "metadata": {},
   "outputs": [
    {
     "name": "stdout",
     "output_type": "stream",
     "text": [
      "oh hai!!!\n"
     ]
    }
   ],
   "source": [
    "#user defined functions\n",
    "\n",
    "def shout(phrase):\n",
    "    print(phrase + \"!!!\") #indented, in the function\n",
    "shout(\"oh hai\")"
   ]
  },
  {
   "cell_type": "code",
   "execution_count": 41,
   "metadata": {},
   "outputs": [
    {
     "ename": "TypeError",
     "evalue": "unsupported operand type(s) for +: 'int' and 'str'",
     "output_type": "error",
     "traceback": [
      "\u001b[1;31m---------------------------------------------------------------------------\u001b[0m",
      "\u001b[1;31mTypeError\u001b[0m                                 Traceback (most recent call last)",
      "\u001b[1;32m<ipython-input-41-af178effa1d7>\u001b[0m in \u001b[0;36m<module>\u001b[1;34m\u001b[0m\n\u001b[1;32m----> 1\u001b[1;33m \u001b[0mshout\u001b[0m\u001b[1;33m(\u001b[0m\u001b[1;36m1234\u001b[0m\u001b[1;33m)\u001b[0m\u001b[1;33m\u001b[0m\u001b[1;33m\u001b[0m\u001b[0m\n\u001b[0m",
      "\u001b[1;32m<ipython-input-40-d5881092c324>\u001b[0m in \u001b[0;36mshout\u001b[1;34m(phrase)\u001b[0m\n\u001b[0;32m      2\u001b[0m \u001b[1;33m\u001b[0m\u001b[0m\n\u001b[0;32m      3\u001b[0m \u001b[1;32mdef\u001b[0m \u001b[0mshout\u001b[0m\u001b[1;33m(\u001b[0m\u001b[0mphrase\u001b[0m\u001b[1;33m)\u001b[0m\u001b[1;33m:\u001b[0m\u001b[1;33m\u001b[0m\u001b[1;33m\u001b[0m\u001b[0m\n\u001b[1;32m----> 4\u001b[1;33m     \u001b[0mprint\u001b[0m\u001b[1;33m(\u001b[0m\u001b[0mphrase\u001b[0m \u001b[1;33m+\u001b[0m \u001b[1;34m\"!!!\"\u001b[0m\u001b[1;33m)\u001b[0m\u001b[1;33m\u001b[0m\u001b[1;33m\u001b[0m\u001b[0m\n\u001b[0m\u001b[0;32m      5\u001b[0m \u001b[0mshout\u001b[0m\u001b[1;33m(\u001b[0m\u001b[1;34m\"oh hai\"\u001b[0m\u001b[1;33m)\u001b[0m\u001b[1;33m\u001b[0m\u001b[1;33m\u001b[0m\u001b[0m\n",
      "\u001b[1;31mTypeError\u001b[0m: unsupported operand type(s) for +: 'int' and 'str'"
     ]
    }
   ],
   "source": [
    "shout(1234)"
   ]
  },
  {
   "cell_type": "code",
   "execution_count": 7,
   "metadata": {},
   "outputs": [
    {
     "name": "stdout",
     "output_type": "stream",
     "text": [
      "oh hai!!!\n"
     ]
    }
   ],
   "source": [
    "def shout(phrase):\n",
    "    if not isinstance(phrase, str):\n",
    "        print(\"error!\")\n",
    "        return\n",
    "    print(phrase + \"!!!\") #indented, in the function\n",
    "shout(\"oh hai\")"
   ]
  },
  {
   "cell_type": "code",
   "execution_count": 9,
   "metadata": {},
   "outputs": [
    {
     "name": "stdout",
     "output_type": "stream",
     "text": [
      "error!\n"
     ]
    }
   ],
   "source": [
    "def shout(phrase):\n",
    "    if not isinstance(phrase, str):\n",
    "        print(\"error!\")\n",
    "        return\n",
    "    print(phrase + \"!!!\") #indented, in the function\n",
    "shout(1234)"
   ]
  },
  {
   "cell_type": "markdown",
   "metadata": {},
   "source": [
    "What if we don't pass in an argument? What happens?\n",
    "Maybe we can establish a default value for the argument in case it isn't passed in.\n",
    "\n",
    "```python\n",
    "def shout(phrase = \"oh hai\"):\n",
    "    print(phrase + \"!!!\")\n",
    "\n",
    "shout()\n",
    "shout(\"bye\")\n",
    "```"
   ]
  },
  {
   "cell_type": "code",
   "execution_count": 10,
   "metadata": {},
   "outputs": [],
   "source": [
    "def shout(phrase = \"oh hai\"):\n",
    "    print(phrase + \"!!!\")"
   ]
  },
  {
   "cell_type": "code",
   "execution_count": 12,
   "metadata": {},
   "outputs": [
    {
     "name": "stdout",
     "output_type": "stream",
     "text": [
      "oh hai!!!\n"
     ]
    }
   ],
   "source": [
    "shout()"
   ]
  },
  {
   "cell_type": "code",
   "execution_count": 13,
   "metadata": {},
   "outputs": [
    {
     "name": "stdout",
     "output_type": "stream",
     "text": [
      "bye!!!\n"
     ]
    }
   ],
   "source": [
    "shout(\"bye\")"
   ]
  },
  {
   "cell_type": "markdown",
   "metadata": {},
   "source": [
    "What if we wanted to run a function, take its output and put it in to another function?\n",
    "\n",
    "```python\n",
    "def add_one(number):\n",
    "    return number + 1\n",
    "\n",
    "def times_five(number):\n",
    "    return number * 5\n",
    "\n",
    "number_plus_one = add_one(1)\n",
    "answer = times_five(number_plus_one)\n",
    "print(answer)\n",
    "```\n",
    "\n",
    "What will the above code return?"
   ]
  },
  {
   "cell_type": "code",
   "execution_count": 15,
   "metadata": {},
   "outputs": [],
   "source": [
    "def add_one(number):   #it only applies in this function only\n",
    "    return number + 1  #different scope\n",
    "\n",
    "def times_five(number):\n",
    "    return number * 5"
   ]
  },
  {
   "cell_type": "code",
   "execution_count": 16,
   "metadata": {},
   "outputs": [
    {
     "name": "stdout",
     "output_type": "stream",
     "text": [
      "10\n"
     ]
    }
   ],
   "source": [
    "number_plus_one = add_one(1)\n",
    "answer = times_five(number_plus_one)\n",
    "print(answer)"
   ]
  },
  {
   "cell_type": "markdown",
   "metadata": {},
   "source": [
    "Adapt your shopping list nested for-loop to be wrapped in a function you could call on any shopping list of nested dictionaries."
   ]
  },
  {
   "cell_type": "code",
   "execution_count": 18,
   "metadata": {},
   "outputs": [
    {
     "name": "stdout",
     "output_type": "stream",
     "text": [
      "10\n"
     ]
    }
   ],
   "source": [
    "print(times_five(add_one(1)))"
   ]
  },
  {
   "cell_type": "code",
   "execution_count": 30,
   "metadata": {},
   "outputs": [],
   "source": [
    "def make_sentence(word1, word2, word3=None, word4=None):\n",
    "    my_sentence = f'My words are {word1} and {word2}.'\n",
    "    if word3:\n",
    "        my_sentence += f' I also have {word3}.'\n",
    "    if word4:\n",
    "        my_sentence += f' My last word is {word4}.'\n",
    "    return my_sentence\n",
    "\n",
    "# word1 and word2 are positional arguments. required."
   ]
  },
  {
   "cell_type": "code",
   "execution_count": 31,
   "metadata": {},
   "outputs": [
    {
     "name": "stdout",
     "output_type": "stream",
     "text": [
      "My words are dog and cat.\n"
     ]
    }
   ],
   "source": [
    "print(make_sentence('dog','cat'))"
   ]
  },
  {
   "cell_type": "code",
   "execution_count": 32,
   "metadata": {},
   "outputs": [
    {
     "name": "stdout",
     "output_type": "stream",
     "text": [
      "My words are dog and cat. I also have ball. My last word is string.\n"
     ]
    }
   ],
   "source": [
    "print(make_sentence('dog','cat','ball','string'))"
   ]
  },
  {
   "cell_type": "code",
   "execution_count": 33,
   "metadata": {},
   "outputs": [
    {
     "name": "stdout",
     "output_type": "stream",
     "text": [
      "My words are dog and cat. My last word is string.\n"
     ]
    }
   ],
   "source": [
    "print(make_sentence('dog','cat', word4='string'))"
   ]
  },
  {
   "cell_type": "code",
   "execution_count": 34,
   "metadata": {},
   "outputs": [
    {
     "name": "stdout",
     "output_type": "stream",
     "text": [
      "My words are cat and dog. My last word is string.\n"
     ]
    }
   ],
   "source": [
    "print(make_sentence(word2='dog', word1='cat', word4='string'))\n",
    "# you can explicitly define positional arguments"
   ]
  },
  {
   "cell_type": "code",
   "execution_count": 37,
   "metadata": {},
   "outputs": [
    {
     "data": {
      "text/plain": [
       "1"
      ]
     },
     "execution_count": 37,
     "metadata": {},
     "output_type": "execute_result"
    }
   ],
   "source": [
    "7 % 2   # modulo. remainder function"
   ]
  },
  {
   "cell_type": "code",
   "execution_count": 39,
   "metadata": {},
   "outputs": [],
   "source": [
    "def asdf(some_number):\n",
    "    if some_number % 2:  #remainder either zero(false) or 1(true)\n",
    "                        # only true if some_number is odd\n",
    "        return 'Odd Number'\n",
    "    else:\n",
    "        return 'Even Number'"
   ]
  },
  {
   "cell_type": "code",
   "execution_count": 40,
   "metadata": {},
   "outputs": [
    {
     "data": {
      "text/plain": [
       "'Odd Number'"
      ]
     },
     "execution_count": 40,
     "metadata": {},
     "output_type": "execute_result"
    }
   ],
   "source": [
    "asdf(1)"
   ]
  },
  {
   "cell_type": "code",
   "execution_count": 41,
   "metadata": {},
   "outputs": [
    {
     "data": {
      "text/plain": [
       "'Even Number'"
      ]
     },
     "execution_count": 41,
     "metadata": {},
     "output_type": "execute_result"
    }
   ],
   "source": [
    "asdf(2)"
   ]
  },
  {
   "cell_type": "code",
   "execution_count": 48,
   "metadata": {},
   "outputs": [],
   "source": [
    "\n",
    "def asdf(some_number):\n",
    "    scalar = 5\n",
    "    if some_number % 2:  #remainder either zero(false) or 1(true)\n",
    "                        # only true if some_number is odd\n",
    "        return 'Odd Number'\n",
    "    else:\n",
    "        return ('Even Number', some_number*scalar)\n",
    "    # every variable used in the function needs to be defined within the function"
   ]
  },
  {
   "cell_type": "code",
   "execution_count": 49,
   "metadata": {},
   "outputs": [
    {
     "data": {
      "text/plain": [
       "('Even Number', 10)"
      ]
     },
     "execution_count": 49,
     "metadata": {},
     "output_type": "execute_result"
    }
   ],
   "source": [
    "asdf(2)"
   ]
  },
  {
   "cell_type": "code",
   "execution_count": null,
   "metadata": {},
   "outputs": [],
   "source": []
  },
  {
   "cell_type": "code",
   "execution_count": 52,
   "metadata": {},
   "outputs": [
    {
     "data": {
      "text/plain": [
       "{'Groceries': {'ben & jerrys': 5.29,\n",
       "  'cheese': 2.79,\n",
       "  'ham': 25.0,\n",
       "  'kale': 2.75,\n",
       "  'kefir': 4.5,\n",
       "  'oranges': 3.64,\n",
       "  'tofu four-pack': 12.0,\n",
       "  'whole milk': 3.42},\n",
       " 'House supplies': {'toilet paper pack': 16.5,\n",
       "  'clorox spray': 6.43,\n",
       "  'kleenex': 2.5},\n",
       " 'Pet supplies': {'Taste of the Wild': 65.2,\n",
       "  'squeaky toy': 4.5,\n",
       "  'duck feet': 8.45}}"
      ]
     },
     "execution_count": 52,
     "metadata": {},
     "output_type": "execute_result"
    }
   ],
   "source": [
    "shopping_dict"
   ]
  },
  {
   "cell_type": "code",
   "execution_count": 55,
   "metadata": {},
   "outputs": [],
   "source": [
    "def print_shopping_dicts(s_dict):\n",
    "    for category, cat_items in s_dict.items():\n",
    "        print('~' * len(category))\n",
    "        print(category)\n",
    "        print('~' * len(category))\n",
    "        for item, cost in cat_items.items():\n",
    "            print(f'- [ ] {item}: ${cost:.2f}')\n",
    "    return None #this is implicit even if you don't type this out"
   ]
  },
  {
   "cell_type": "code",
   "execution_count": null,
   "metadata": {},
   "outputs": [],
   "source": [
    "def print_shopping_dicts(s_dict):\n",
    "    for category, cat_items in s_dict.items():\n",
    "        print('~' * len(category))\n",
    "        print(category)\n",
    "        print('~' * len(category))\n",
    "        for item, cost in cat_items.items():\n",
    "            print(f'- [ ] {item}: ${cost:.2f}')\n",
    "            "
   ]
  },
  {
   "cell_type": "code",
   "execution_count": 60,
   "metadata": {},
   "outputs": [
    {
     "name": "stdout",
     "output_type": "stream",
     "text": [
      "~~~~~~~~~\n",
      "Groceries\n",
      "~~~~~~~~~\n",
      "- [ ] ben & jerrys: $5.29\n",
      "- [ ] cheese: $2.79\n",
      "- [ ] ham: $25.00\n",
      "- [ ] kale: $2.75\n",
      "- [ ] kefir: $4.50\n",
      "- [ ] oranges: $3.64\n",
      "- [ ] tofu four-pack: $12.00\n",
      "- [ ] whole milk: $3.42\n",
      "~~~~~~~~~~~~~~\n",
      "House supplies\n",
      "~~~~~~~~~~~~~~\n",
      "- [ ] toilet paper pack: $16.50\n",
      "- [ ] clorox spray: $6.43\n",
      "- [ ] kleenex: $2.50\n",
      "~~~~~~~~~~~~\n",
      "Pet supplies\n",
      "~~~~~~~~~~~~\n",
      "- [ ] Taste of the Wild: $65.20\n",
      "- [ ] squeaky toy: $4.50\n",
      "- [ ] duck feet: $8.45\n"
     ]
    }
   ],
   "source": [
    "x = print_shopping_dicts(shopping_dict)"
   ]
  },
  {
   "cell_type": "code",
   "execution_count": 62,
   "metadata": {},
   "outputs": [
    {
     "data": {
      "text/plain": [
       "True"
      ]
     },
     "execution_count": 62,
     "metadata": {},
     "output_type": "execute_result"
    }
   ],
   "source": [
    "x == None #is equal to"
   ]
  },
  {
   "cell_type": "code",
   "execution_count": 63,
   "metadata": {
    "scrolled": true
   },
   "outputs": [
    {
     "data": {
      "text/plain": [
       "True"
      ]
     },
     "execution_count": 63,
     "metadata": {},
     "output_type": "execute_result"
    }
   ],
   "source": [
    "x is None"
   ]
  },
  {
   "cell_type": "code",
   "execution_count": 67,
   "metadata": {},
   "outputs": [
    {
     "data": {
      "text/plain": [
       "True"
      ]
     },
     "execution_count": 67,
     "metadata": {},
     "output_type": "execute_result"
    }
   ],
   "source": [
    "2 is 2"
   ]
  },
  {
   "cell_type": "code",
   "execution_count": 80,
   "metadata": {},
   "outputs": [],
   "source": [
    "x = 2"
   ]
  },
  {
   "cell_type": "code",
   "execution_count": 82,
   "metadata": {},
   "outputs": [
    {
     "data": {
      "text/plain": [
       "True"
      ]
     },
     "execution_count": 82,
     "metadata": {},
     "output_type": "execute_result"
    }
   ],
   "source": [
    "x == 2"
   ]
  },
  {
   "cell_type": "code",
   "execution_count": 83,
   "metadata": {},
   "outputs": [
    {
     "data": {
      "text/plain": [
       "True"
      ]
     },
     "execution_count": 83,
     "metadata": {},
     "output_type": "execute_result"
    }
   ],
   "source": [
    "x is 2"
   ]
  },
  {
   "cell_type": "code",
   "execution_count": 84,
   "metadata": {},
   "outputs": [
    {
     "data": {
      "text/plain": [
       "140718162551216"
      ]
     },
     "execution_count": 84,
     "metadata": {},
     "output_type": "execute_result"
    }
   ],
   "source": [
    "id(2)  #location in memory of your computer where x=2 is stored."
   ]
  },
  {
   "cell_type": "code",
   "execution_count": 85,
   "metadata": {},
   "outputs": [
    {
     "data": {
      "text/plain": [
       "140718162551216"
      ]
     },
     "execution_count": 85,
     "metadata": {},
     "output_type": "execute_result"
    }
   ],
   "source": [
    "id(x)"
   ]
  },
  {
   "cell_type": "code",
   "execution_count": 72,
   "metadata": {},
   "outputs": [
    {
     "data": {
      "text/plain": [
       "True"
      ]
     },
     "execution_count": 72,
     "metadata": {},
     "output_type": "execute_result"
    }
   ],
   "source": [
    "x is 2  # is the same thing as saying\n",
    "id(x) == id(2) #where is my variable pointing to in memory\n",
    "\n",
    "# is is pointer comparison\n",
    "# == is are the values the same"
   ]
  },
  {
   "cell_type": "code",
   "execution_count": 87,
   "metadata": {},
   "outputs": [
    {
     "data": {
      "text/plain": [
       "<method-wrapper '__eq__' of int object at 0x00007FFB8017A1B0>"
      ]
     },
     "execution_count": 87,
     "metadata": {},
     "output_type": "execute_result"
    }
   ],
   "source": [
    "x.__eq__   #  __ functions starting with double underscores (dunder)"
   ]
  },
  {
   "cell_type": "code",
   "execution_count": 88,
   "metadata": {},
   "outputs": [
    {
     "data": {
      "text/plain": [
       "True"
      ]
     },
     "execution_count": 88,
     "metadata": {},
     "output_type": "execute_result"
    }
   ],
   "source": [
    "x == 2 # is the same thing as saying\n",
    "x.__eq__(2)"
   ]
  },
  {
   "cell_type": "code",
   "execution_count": 90,
   "metadata": {},
   "outputs": [
    {
     "data": {
      "text/plain": [
       "False"
      ]
     },
     "execution_count": 90,
     "metadata": {},
     "output_type": "execute_result"
    }
   ],
   "source": [
    "[] is []    # because each list is stored in different locations"
   ]
  },
  {
   "cell_type": "code",
   "execution_count": 103,
   "metadata": {},
   "outputs": [],
   "source": [
    "a = []\n",
    "b = []\n",
    "c = a"
   ]
  },
  {
   "cell_type": "code",
   "execution_count": 104,
   "metadata": {},
   "outputs": [],
   "source": [
    "a.append('same')"
   ]
  },
  {
   "cell_type": "code",
   "execution_count": 105,
   "metadata": {},
   "outputs": [
    {
     "name": "stdout",
     "output_type": "stream",
     "text": [
      "['same'] [] ['same']\n"
     ]
    }
   ],
   "source": [
    "print(a,b,c)"
   ]
  },
  {
   "cell_type": "code",
   "execution_count": 106,
   "metadata": {},
   "outputs": [
    {
     "data": {
      "text/plain": [
       "(2928692555912, 2928699149320, 2928692555912)"
      ]
     },
     "execution_count": 106,
     "metadata": {},
     "output_type": "execute_result"
    }
   ],
   "source": [
    "id(a), id(b), id(c)\n"
   ]
  },
  {
   "cell_type": "code",
   "execution_count": 96,
   "metadata": {},
   "outputs": [
    {
     "name": "stdout",
     "output_type": "stream",
     "text": [
      "de\n"
     ]
    },
    {
     "data": {
      "text/plain": [
       "False"
      ]
     },
     "execution_count": 96,
     "metadata": {},
     "output_type": "execute_result"
    }
   ],
   "source": [
    "d = 'd'\n",
    "e = 'e'\n",
    "print(d+e)\n",
    "d + e is 'de'"
   ]
  },
  {
   "cell_type": "markdown",
   "metadata": {},
   "source": [
    "### Mathematical Notation and Measures of Central Tendency \n",
    "\n",
    "median vs mode vs mean<br>\n",
    "What's the difference?\n",
    "\n",
    "\n",
    "```python\n",
    "samp_list = [1,1,1,1,2,2,2,3,3,10,44]\n",
    "```\n",
    "\n",
    "How could you write a for loop to calculate the mean?"
   ]
  },
  {
   "cell_type": "code",
   "execution_count": 107,
   "metadata": {},
   "outputs": [],
   "source": [
    "samp_list = [1, 1, 1, 1, 2, 2, 2, 3, 3, 10, 44]"
   ]
  },
  {
   "cell_type": "code",
   "execution_count": 109,
   "metadata": {},
   "outputs": [
    {
     "name": "stdout",
     "output_type": "stream",
     "text": [
      "7.0\n"
     ]
    }
   ],
   "source": [
    "running_total = 0\n",
    "for i, val in enumerate(samp_list):\n",
    "    running_total += val\n",
    "    \n",
    "print(running_total / (i))  # this is not the avearge!!\n",
    "\n",
    "# because 0 indexed. "
   ]
  },
  {
   "cell_type": "code",
   "execution_count": 111,
   "metadata": {},
   "outputs": [
    {
     "name": "stdout",
     "output_type": "stream",
     "text": [
      "6.363636363636363\n"
     ]
    }
   ],
   "source": [
    "running_total = 0\n",
    "for i, val in enumerate(samp_list):\n",
    "    running_total += val\n",
    "    \n",
    "print(running_total / (i+1))"
   ]
  },
  {
   "cell_type": "code",
   "execution_count": 115,
   "metadata": {},
   "outputs": [
    {
     "data": {
      "text/plain": [
       "6.363636363636363"
      ]
     },
     "execution_count": 115,
     "metadata": {},
     "output_type": "execute_result"
    }
   ],
   "source": [
    "def average(samples):\n",
    "    running_total = 0\n",
    "    for i, val in enumerate(samp_list):\n",
    "        running_total += val\n",
    "    \n",
    "    return(running_total / (i+1))\n",
    "\n",
    "average(samp_list)"
   ]
  },
  {
   "cell_type": "code",
   "execution_count": 116,
   "metadata": {},
   "outputs": [
    {
     "data": {
      "text/plain": [
       "6.363636363636363"
      ]
     },
     "execution_count": 116,
     "metadata": {},
     "output_type": "execute_result"
    }
   ],
   "source": [
    "def fast_average(samples):\n",
    "    return sum(samples) / len(samples)\n",
    "fast_average(samp_list)"
   ]
  },
  {
   "cell_type": "markdown",
   "metadata": {},
   "source": [
    "### Integration\n",
    "\n",
    "adapt your function to do the following:\n",
    "- stop the nested loop if a grocery total goes over $30\n",
    "- print out the average cost of each item in your cart"
   ]
  },
  {
   "cell_type": "markdown",
   "metadata": {},
   "source": [
    "## Jupyter Bonus\n",
    "\n",
    "This doesn't really fit in with the rest of Python 102, but Jupyter is incredibly flexible! Here are two examples of embedding beautiful LaTex scripting in a notebook."
   ]
  },
  {
   "cell_type": "code",
   "execution_count": 117,
   "metadata": {},
   "outputs": [
    {
     "data": {
      "text/latex": [
       "$$\\lim\\limits_{x \\to \\infty} \\exp(-x) = 0$$\n"
      ],
      "text/plain": [
       "<IPython.core.display.Latex object>"
      ]
     },
     "metadata": {},
     "output_type": "display_data"
    }
   ],
   "source": [
    "%%latex # this will make the entire cell LaTeX syntax\n",
    "$$\\lim\\limits_{x \\to \\infty} \\exp(-x) = 0$$"
   ]
  },
  {
   "cell_type": "code",
   "execution_count": null,
   "metadata": {},
   "outputs": [],
   "source": [
    "from IPython.display import Math\n",
    "# this imports a function called Math() in which you can pass in a raw string of LaTeX\n",
    "Math('F(k) = \\int_{-\\infty}^{\\infty} f(x) e^{2\\pi i k} dx')"
   ]
  },
  {
   "cell_type": "code",
   "execution_count": null,
   "metadata": {},
   "outputs": [],
   "source": []
  }
 ],
 "metadata": {
  "kernelspec": {
   "display_name": "Python 3",
   "language": "python",
   "name": "python3"
  },
  "language_info": {
   "codemirror_mode": {
    "name": "ipython",
    "version": 3
   },
   "file_extension": ".py",
   "mimetype": "text/x-python",
   "name": "python",
   "nbconvert_exporter": "python",
   "pygments_lexer": "ipython3",
   "version": "3.7.6"
  }
 },
 "nbformat": 4,
 "nbformat_minor": 2
}
