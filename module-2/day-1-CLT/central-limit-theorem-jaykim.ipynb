{
 "cells": [
  {
   "cell_type": "markdown",
   "metadata": {},
   "source": [
    "__Agenda__\n",
    "\n",
    "- Difference between population and sample\n",
    "- How can we get a good sample?\n",
    "- Point estimators from sample\n",
    "- Sampling distribution, especially sampling distribution of the mean\n",
    "- Central Limit Theorem - statement and use of it.\n",
    "- Creating confidence intervals around sample mean using CLT\n",
    "- Recap"
   ]
  },
  {
   "cell_type": "markdown",
   "metadata": {},
   "source": [
    "# Sampling Distributions\n",
    "\n",
    "## Population vs Sample\n",
    "\n",
    "__population__ A population is the set of all elements of interest in a study. (Finite population and infinite population)\n",
    "\n",
    "__sample__ A sample is a subset of the population.\n",
    "\n",
    "### Scenario\n",
    "\n",
    "The mayor's office has hired HBS students to determine a way to fix traffic congestion. A good starting point is to determine out what proportion of the population of DC owns a car.\n",
    "\n",
    "In order for us to make any determinations about a population, we must first get information about it.\n",
    "\n",
    "Because it's impractical to ever usually get data about *everyone* in a population, we must take a sample.\n",
    "\n",
    "Our sample should be:\n",
    "\n",
    "* Randomly selected- every item should have an *equal* chance of being selected\n",
    "* Representative of our population\n",
    "\n",
    "<img src=\"img/sample_pop.png\" width=500>"
   ]
  },
  {
   "cell_type": "markdown",
   "metadata": {},
   "source": [
    "**Random sampling is not easy to do, let's look at an example:**\n",
    "\n",
    "Imagine you are trying to determine what proportion of Boston metro area people own a car\n",
    "\n",
    "* Stand outside of Harvard Square at 12 pm and ask random people until *n* responses\n",
    "\n",
    "* Go to a randomly assigned street corner and at a random time and ask *n* people if they own a car\n",
    "\n",
    "\n",
    "__Objective of Sampling__\n",
    "\n",
    "When we gather a sample, we are trying to minimize the bias of our sample while also minimizing our cost.\n",
    "\n",
    "\n",
    "## Point Estimates\n",
    "\n",
    "!! Very important observation!!: We can consider random sampling as an 'random experiment' and then when we calculate mean, variance, standard deviation, median etc. these are functions on the outcomes of this experiment. We have a name for such functions can you remember it?\n",
    "\n",
    "<img src=\"img/sample_stats.png\" width=400>"
   ]
  },
  {
   "cell_type": "markdown",
   "metadata": {},
   "source": [
    "### It's your turn\n",
    "\n",
    "[Download data](https://www.kaggle.com/ishaanv/ISLR-Auto)\n",
    "\n",
    "auto\n",
    "\n",
    "[UCI-repo](https://archive.ics.uci.edu/ml/datasets/auto+mpg)"
   ]
  },
  {
   "cell_type": "code",
   "execution_count": 1,
   "metadata": {},
   "outputs": [],
   "source": [
    "import pandas as pd\n",
    "import numpy as np\n",
    "import pickle"
   ]
  },
  {
   "cell_type": "markdown",
   "metadata": {},
   "source": [
    "Take two random samples of 30 cars from auto dataset and find both sampling mean and standard deviation for mpg\n",
    "\n"
   ]
  },
  {
   "cell_type": "code",
   "execution_count": 2,
   "metadata": {},
   "outputs": [
    {
     "name": "stdout",
     "output_type": "stream",
     "text": [
      " Volume in drive C has no label.\n",
      " Volume Serial Number is 06B9-E2F5\n",
      "\n",
      " Directory of C:\\Users\\jongs\\Desktop\\DS_2020\\Course_Materials\\code\\hbs-ds-060120\\module-2\\day-1-CLT\\data\n",
      "\n",
      "06/15/2020  10:50    <DIR>          .\n",
      "06/15/2020  10:50    <DIR>          ..\n",
      "06/15/2020  10:31             5,166 Advertising.csv\n",
      "06/15/2020  10:31            17,877 auto-mpg.csv\n",
      "06/15/2020  10:31             1,177 Income1.csv\n",
      "06/15/2020  10:31             1,644 Income2.csv\n",
      "               4 File(s)         25,864 bytes\n",
      "               2 Dir(s)  32,648,695,808 bytes free\n"
     ]
    }
   ],
   "source": [
    "ls data"
   ]
  },
  {
   "cell_type": "code",
   "execution_count": 5,
   "metadata": {},
   "outputs": [
    {
     "data": {
      "text/html": [
       "<div>\n",
       "<style scoped>\n",
       "    .dataframe tbody tr th:only-of-type {\n",
       "        vertical-align: middle;\n",
       "    }\n",
       "\n",
       "    .dataframe tbody tr th {\n",
       "        vertical-align: top;\n",
       "    }\n",
       "\n",
       "    .dataframe thead th {\n",
       "        text-align: right;\n",
       "    }\n",
       "</style>\n",
       "<table border=\"1\" class=\"dataframe\">\n",
       "  <thead>\n",
       "    <tr style=\"text-align: right;\">\n",
       "      <th></th>\n",
       "      <th>mpg</th>\n",
       "      <th>cylinders</th>\n",
       "      <th>displacement</th>\n",
       "      <th>horsepower</th>\n",
       "      <th>weight</th>\n",
       "      <th>acceleration</th>\n",
       "      <th>model year</th>\n",
       "      <th>origin</th>\n",
       "      <th>car name</th>\n",
       "    </tr>\n",
       "  </thead>\n",
       "  <tbody>\n",
       "    <tr>\n",
       "      <th>0</th>\n",
       "      <td>18.0</td>\n",
       "      <td>8</td>\n",
       "      <td>307.0</td>\n",
       "      <td>130</td>\n",
       "      <td>3504</td>\n",
       "      <td>12.0</td>\n",
       "      <td>70</td>\n",
       "      <td>1</td>\n",
       "      <td>chevrolet chevelle malibu</td>\n",
       "    </tr>\n",
       "    <tr>\n",
       "      <th>1</th>\n",
       "      <td>15.0</td>\n",
       "      <td>8</td>\n",
       "      <td>350.0</td>\n",
       "      <td>165</td>\n",
       "      <td>3693</td>\n",
       "      <td>11.5</td>\n",
       "      <td>70</td>\n",
       "      <td>1</td>\n",
       "      <td>buick skylark 320</td>\n",
       "    </tr>\n",
       "    <tr>\n",
       "      <th>2</th>\n",
       "      <td>18.0</td>\n",
       "      <td>8</td>\n",
       "      <td>318.0</td>\n",
       "      <td>150</td>\n",
       "      <td>3436</td>\n",
       "      <td>11.0</td>\n",
       "      <td>70</td>\n",
       "      <td>1</td>\n",
       "      <td>plymouth satellite</td>\n",
       "    </tr>\n",
       "    <tr>\n",
       "      <th>3</th>\n",
       "      <td>16.0</td>\n",
       "      <td>8</td>\n",
       "      <td>304.0</td>\n",
       "      <td>150</td>\n",
       "      <td>3433</td>\n",
       "      <td>12.0</td>\n",
       "      <td>70</td>\n",
       "      <td>1</td>\n",
       "      <td>amc rebel sst</td>\n",
       "    </tr>\n",
       "    <tr>\n",
       "      <th>4</th>\n",
       "      <td>17.0</td>\n",
       "      <td>8</td>\n",
       "      <td>302.0</td>\n",
       "      <td>140</td>\n",
       "      <td>3449</td>\n",
       "      <td>10.5</td>\n",
       "      <td>70</td>\n",
       "      <td>1</td>\n",
       "      <td>ford torino</td>\n",
       "    </tr>\n",
       "  </tbody>\n",
       "</table>\n",
       "</div>"
      ],
      "text/plain": [
       "    mpg  cylinders  displacement  horsepower  weight  acceleration  \\\n",
       "0  18.0          8         307.0         130    3504          12.0   \n",
       "1  15.0          8         350.0         165    3693          11.5   \n",
       "2  18.0          8         318.0         150    3436          11.0   \n",
       "3  16.0          8         304.0         150    3433          12.0   \n",
       "4  17.0          8         302.0         140    3449          10.5   \n",
       "\n",
       "   model year  origin                   car name  \n",
       "0          70       1  chevrolet chevelle malibu  \n",
       "1          70       1          buick skylark 320  \n",
       "2          70       1         plymouth satellite  \n",
       "3          70       1              amc rebel sst  \n",
       "4          70       1                ford torino  "
      ]
     },
     "execution_count": 5,
     "metadata": {},
     "output_type": "execute_result"
    }
   ],
   "source": [
    "auto = pd.read_csv('data/auto-mpg.csv')\n",
    "auto.head()"
   ]
  },
  {
   "cell_type": "code",
   "execution_count": 6,
   "metadata": {},
   "outputs": [
    {
     "data": {
      "text/plain": [
       "(392, 9)"
      ]
     },
     "execution_count": 6,
     "metadata": {},
     "output_type": "execute_result"
    }
   ],
   "source": [
    "auto.shape"
   ]
  },
  {
   "cell_type": "markdown",
   "metadata": {},
   "source": [
    "taking random samples"
   ]
  },
  {
   "cell_type": "code",
   "execution_count": 9,
   "metadata": {
    "scrolled": true
   },
   "outputs": [
    {
     "data": {
      "text/plain": [
       "RangeIndex(start=0, stop=392, step=1)"
      ]
     },
     "execution_count": 9,
     "metadata": {},
     "output_type": "execute_result"
    }
   ],
   "source": [
    "auto.index"
   ]
  },
  {
   "cell_type": "code",
   "execution_count": 10,
   "metadata": {},
   "outputs": [
    {
     "data": {
      "text/plain": [
       "array([97, 74, 26])"
      ]
     },
     "execution_count": 10,
     "metadata": {},
     "output_type": "execute_result"
    }
   ],
   "source": [
    "np.random.choice(list(auto.index), 3)  #replace true: samples back in."
   ]
  },
  {
   "cell_type": "code",
   "execution_count": 11,
   "metadata": {},
   "outputs": [
    {
     "data": {
      "text/plain": [
       "array([ 61, 202, 180,  26,  25,  85, 132, 134, 364, 140])"
      ]
     },
     "execution_count": 11,
     "metadata": {},
     "output_type": "execute_result"
    }
   ],
   "source": [
    "np.random.choice(list(auto.index), 10)"
   ]
  },
  {
   "cell_type": "code",
   "execution_count": 23,
   "metadata": {
    "scrolled": true
   },
   "outputs": [
    {
     "data": {
      "text/html": [
       "<div>\n",
       "<style scoped>\n",
       "    .dataframe tbody tr th:only-of-type {\n",
       "        vertical-align: middle;\n",
       "    }\n",
       "\n",
       "    .dataframe tbody tr th {\n",
       "        vertical-align: top;\n",
       "    }\n",
       "\n",
       "    .dataframe thead th {\n",
       "        text-align: right;\n",
       "    }\n",
       "</style>\n",
       "<table border=\"1\" class=\"dataframe\">\n",
       "  <thead>\n",
       "    <tr style=\"text-align: right;\">\n",
       "      <th></th>\n",
       "      <th>mpg</th>\n",
       "      <th>cylinders</th>\n",
       "      <th>displacement</th>\n",
       "      <th>horsepower</th>\n",
       "      <th>weight</th>\n",
       "      <th>acceleration</th>\n",
       "      <th>model year</th>\n",
       "      <th>origin</th>\n",
       "      <th>car name</th>\n",
       "    </tr>\n",
       "  </thead>\n",
       "  <tbody>\n",
       "    <tr>\n",
       "      <th>308</th>\n",
       "      <td>38.1</td>\n",
       "      <td>4</td>\n",
       "      <td>89.0</td>\n",
       "      <td>60</td>\n",
       "      <td>1968</td>\n",
       "      <td>18.8</td>\n",
       "      <td>80</td>\n",
       "      <td>3</td>\n",
       "      <td>toyota corolla tercel</td>\n",
       "    </tr>\n",
       "    <tr>\n",
       "      <th>283</th>\n",
       "      <td>17.0</td>\n",
       "      <td>8</td>\n",
       "      <td>305.0</td>\n",
       "      <td>130</td>\n",
       "      <td>3840</td>\n",
       "      <td>15.4</td>\n",
       "      <td>79</td>\n",
       "      <td>1</td>\n",
       "      <td>chevrolet caprice classic</td>\n",
       "    </tr>\n",
       "    <tr>\n",
       "      <th>332</th>\n",
       "      <td>35.0</td>\n",
       "      <td>4</td>\n",
       "      <td>122.0</td>\n",
       "      <td>88</td>\n",
       "      <td>2500</td>\n",
       "      <td>15.1</td>\n",
       "      <td>80</td>\n",
       "      <td>2</td>\n",
       "      <td>triumph tr7 coupe</td>\n",
       "    </tr>\n",
       "    <tr>\n",
       "      <th>300</th>\n",
       "      <td>34.5</td>\n",
       "      <td>4</td>\n",
       "      <td>105.0</td>\n",
       "      <td>70</td>\n",
       "      <td>2150</td>\n",
       "      <td>14.9</td>\n",
       "      <td>79</td>\n",
       "      <td>1</td>\n",
       "      <td>plymouth horizon tc3</td>\n",
       "    </tr>\n",
       "    <tr>\n",
       "      <th>122</th>\n",
       "      <td>20.0</td>\n",
       "      <td>6</td>\n",
       "      <td>156.0</td>\n",
       "      <td>122</td>\n",
       "      <td>2807</td>\n",
       "      <td>13.5</td>\n",
       "      <td>73</td>\n",
       "      <td>3</td>\n",
       "      <td>toyota mark ii</td>\n",
       "    </tr>\n",
       "    <tr>\n",
       "      <th>380</th>\n",
       "      <td>25.0</td>\n",
       "      <td>6</td>\n",
       "      <td>181.0</td>\n",
       "      <td>110</td>\n",
       "      <td>2945</td>\n",
       "      <td>16.4</td>\n",
       "      <td>82</td>\n",
       "      <td>1</td>\n",
       "      <td>buick century limited</td>\n",
       "    </tr>\n",
       "    <tr>\n",
       "      <th>378</th>\n",
       "      <td>32.0</td>\n",
       "      <td>4</td>\n",
       "      <td>91.0</td>\n",
       "      <td>67</td>\n",
       "      <td>1965</td>\n",
       "      <td>15.7</td>\n",
       "      <td>82</td>\n",
       "      <td>3</td>\n",
       "      <td>honda civic (auto)</td>\n",
       "    </tr>\n",
       "    <tr>\n",
       "      <th>228</th>\n",
       "      <td>15.5</td>\n",
       "      <td>8</td>\n",
       "      <td>350.0</td>\n",
       "      <td>170</td>\n",
       "      <td>4165</td>\n",
       "      <td>11.4</td>\n",
       "      <td>77</td>\n",
       "      <td>1</td>\n",
       "      <td>chevrolet monte carlo landau</td>\n",
       "    </tr>\n",
       "    <tr>\n",
       "      <th>318</th>\n",
       "      <td>37.0</td>\n",
       "      <td>4</td>\n",
       "      <td>119.0</td>\n",
       "      <td>92</td>\n",
       "      <td>2434</td>\n",
       "      <td>15.0</td>\n",
       "      <td>80</td>\n",
       "      <td>3</td>\n",
       "      <td>datsun 510 hatchback</td>\n",
       "    </tr>\n",
       "    <tr>\n",
       "      <th>24</th>\n",
       "      <td>21.0</td>\n",
       "      <td>6</td>\n",
       "      <td>199.0</td>\n",
       "      <td>90</td>\n",
       "      <td>2648</td>\n",
       "      <td>15.0</td>\n",
       "      <td>70</td>\n",
       "      <td>1</td>\n",
       "      <td>amc gremlin</td>\n",
       "    </tr>\n",
       "    <tr>\n",
       "      <th>167</th>\n",
       "      <td>20.0</td>\n",
       "      <td>6</td>\n",
       "      <td>232.0</td>\n",
       "      <td>100</td>\n",
       "      <td>2914</td>\n",
       "      <td>16.0</td>\n",
       "      <td>75</td>\n",
       "      <td>1</td>\n",
       "      <td>amc gremlin</td>\n",
       "    </tr>\n",
       "    <tr>\n",
       "      <th>201</th>\n",
       "      <td>29.5</td>\n",
       "      <td>4</td>\n",
       "      <td>97.0</td>\n",
       "      <td>71</td>\n",
       "      <td>1825</td>\n",
       "      <td>12.2</td>\n",
       "      <td>76</td>\n",
       "      <td>2</td>\n",
       "      <td>volkswagen rabbit</td>\n",
       "    </tr>\n",
       "    <tr>\n",
       "      <th>268</th>\n",
       "      <td>21.1</td>\n",
       "      <td>4</td>\n",
       "      <td>134.0</td>\n",
       "      <td>95</td>\n",
       "      <td>2515</td>\n",
       "      <td>14.8</td>\n",
       "      <td>78</td>\n",
       "      <td>3</td>\n",
       "      <td>toyota celica gt liftback</td>\n",
       "    </tr>\n",
       "    <tr>\n",
       "      <th>92</th>\n",
       "      <td>14.0</td>\n",
       "      <td>8</td>\n",
       "      <td>318.0</td>\n",
       "      <td>150</td>\n",
       "      <td>4237</td>\n",
       "      <td>14.5</td>\n",
       "      <td>73</td>\n",
       "      <td>1</td>\n",
       "      <td>plymouth fury gran sedan</td>\n",
       "    </tr>\n",
       "    <tr>\n",
       "      <th>270</th>\n",
       "      <td>23.8</td>\n",
       "      <td>4</td>\n",
       "      <td>151.0</td>\n",
       "      <td>85</td>\n",
       "      <td>2855</td>\n",
       "      <td>17.6</td>\n",
       "      <td>78</td>\n",
       "      <td>1</td>\n",
       "      <td>oldsmobile starfire sx</td>\n",
       "    </tr>\n",
       "    <tr>\n",
       "      <th>0</th>\n",
       "      <td>18.0</td>\n",
       "      <td>8</td>\n",
       "      <td>307.0</td>\n",
       "      <td>130</td>\n",
       "      <td>3504</td>\n",
       "      <td>12.0</td>\n",
       "      <td>70</td>\n",
       "      <td>1</td>\n",
       "      <td>chevrolet chevelle malibu</td>\n",
       "    </tr>\n",
       "    <tr>\n",
       "      <th>262</th>\n",
       "      <td>18.1</td>\n",
       "      <td>8</td>\n",
       "      <td>302.0</td>\n",
       "      <td>139</td>\n",
       "      <td>3205</td>\n",
       "      <td>11.2</td>\n",
       "      <td>78</td>\n",
       "      <td>1</td>\n",
       "      <td>ford futura</td>\n",
       "    </tr>\n",
       "    <tr>\n",
       "      <th>302</th>\n",
       "      <td>37.3</td>\n",
       "      <td>4</td>\n",
       "      <td>91.0</td>\n",
       "      <td>69</td>\n",
       "      <td>2130</td>\n",
       "      <td>14.7</td>\n",
       "      <td>79</td>\n",
       "      <td>2</td>\n",
       "      <td>fiat strada custom</td>\n",
       "    </tr>\n",
       "    <tr>\n",
       "      <th>2</th>\n",
       "      <td>18.0</td>\n",
       "      <td>8</td>\n",
       "      <td>318.0</td>\n",
       "      <td>150</td>\n",
       "      <td>3436</td>\n",
       "      <td>11.0</td>\n",
       "      <td>70</td>\n",
       "      <td>1</td>\n",
       "      <td>plymouth satellite</td>\n",
       "    </tr>\n",
       "    <tr>\n",
       "      <th>47</th>\n",
       "      <td>18.0</td>\n",
       "      <td>6</td>\n",
       "      <td>250.0</td>\n",
       "      <td>88</td>\n",
       "      <td>3139</td>\n",
       "      <td>14.5</td>\n",
       "      <td>71</td>\n",
       "      <td>1</td>\n",
       "      <td>ford mustang</td>\n",
       "    </tr>\n",
       "    <tr>\n",
       "      <th>382</th>\n",
       "      <td>26.0</td>\n",
       "      <td>4</td>\n",
       "      <td>156.0</td>\n",
       "      <td>92</td>\n",
       "      <td>2585</td>\n",
       "      <td>14.5</td>\n",
       "      <td>82</td>\n",
       "      <td>1</td>\n",
       "      <td>chrysler lebaron medallion</td>\n",
       "    </tr>\n",
       "    <tr>\n",
       "      <th>391</th>\n",
       "      <td>31.0</td>\n",
       "      <td>4</td>\n",
       "      <td>119.0</td>\n",
       "      <td>82</td>\n",
       "      <td>2720</td>\n",
       "      <td>19.4</td>\n",
       "      <td>82</td>\n",
       "      <td>1</td>\n",
       "      <td>chevy s-10</td>\n",
       "    </tr>\n",
       "    <tr>\n",
       "      <th>222</th>\n",
       "      <td>15.0</td>\n",
       "      <td>8</td>\n",
       "      <td>302.0</td>\n",
       "      <td>130</td>\n",
       "      <td>4295</td>\n",
       "      <td>14.9</td>\n",
       "      <td>77</td>\n",
       "      <td>1</td>\n",
       "      <td>mercury cougar brougham</td>\n",
       "    </tr>\n",
       "    <tr>\n",
       "      <th>263</th>\n",
       "      <td>17.5</td>\n",
       "      <td>8</td>\n",
       "      <td>318.0</td>\n",
       "      <td>140</td>\n",
       "      <td>4080</td>\n",
       "      <td>13.7</td>\n",
       "      <td>78</td>\n",
       "      <td>1</td>\n",
       "      <td>dodge magnum xe</td>\n",
       "    </tr>\n",
       "    <tr>\n",
       "      <th>372</th>\n",
       "      <td>38.0</td>\n",
       "      <td>4</td>\n",
       "      <td>105.0</td>\n",
       "      <td>63</td>\n",
       "      <td>2125</td>\n",
       "      <td>14.7</td>\n",
       "      <td>82</td>\n",
       "      <td>1</td>\n",
       "      <td>plymouth horizon miser</td>\n",
       "    </tr>\n",
       "    <tr>\n",
       "      <th>249</th>\n",
       "      <td>20.2</td>\n",
       "      <td>8</td>\n",
       "      <td>302.0</td>\n",
       "      <td>139</td>\n",
       "      <td>3570</td>\n",
       "      <td>12.8</td>\n",
       "      <td>78</td>\n",
       "      <td>1</td>\n",
       "      <td>mercury monarch ghia</td>\n",
       "    </tr>\n",
       "    <tr>\n",
       "      <th>17</th>\n",
       "      <td>21.0</td>\n",
       "      <td>6</td>\n",
       "      <td>200.0</td>\n",
       "      <td>85</td>\n",
       "      <td>2587</td>\n",
       "      <td>16.0</td>\n",
       "      <td>70</td>\n",
       "      <td>1</td>\n",
       "      <td>ford maverick</td>\n",
       "    </tr>\n",
       "    <tr>\n",
       "      <th>192</th>\n",
       "      <td>22.5</td>\n",
       "      <td>6</td>\n",
       "      <td>232.0</td>\n",
       "      <td>90</td>\n",
       "      <td>3085</td>\n",
       "      <td>17.6</td>\n",
       "      <td>76</td>\n",
       "      <td>1</td>\n",
       "      <td>amc hornet</td>\n",
       "    </tr>\n",
       "    <tr>\n",
       "      <th>144</th>\n",
       "      <td>28.0</td>\n",
       "      <td>4</td>\n",
       "      <td>90.0</td>\n",
       "      <td>75</td>\n",
       "      <td>2125</td>\n",
       "      <td>14.5</td>\n",
       "      <td>74</td>\n",
       "      <td>1</td>\n",
       "      <td>dodge colt</td>\n",
       "    </tr>\n",
       "    <tr>\n",
       "      <th>327</th>\n",
       "      <td>44.6</td>\n",
       "      <td>4</td>\n",
       "      <td>91.0</td>\n",
       "      <td>67</td>\n",
       "      <td>1850</td>\n",
       "      <td>13.8</td>\n",
       "      <td>80</td>\n",
       "      <td>3</td>\n",
       "      <td>honda civic 1500 gl</td>\n",
       "    </tr>\n",
       "  </tbody>\n",
       "</table>\n",
       "</div>"
      ],
      "text/plain": [
       "      mpg  cylinders  displacement  horsepower  weight  acceleration  \\\n",
       "308  38.1          4          89.0          60    1968          18.8   \n",
       "283  17.0          8         305.0         130    3840          15.4   \n",
       "332  35.0          4         122.0          88    2500          15.1   \n",
       "300  34.5          4         105.0          70    2150          14.9   \n",
       "122  20.0          6         156.0         122    2807          13.5   \n",
       "380  25.0          6         181.0         110    2945          16.4   \n",
       "378  32.0          4          91.0          67    1965          15.7   \n",
       "228  15.5          8         350.0         170    4165          11.4   \n",
       "318  37.0          4         119.0          92    2434          15.0   \n",
       "24   21.0          6         199.0          90    2648          15.0   \n",
       "167  20.0          6         232.0         100    2914          16.0   \n",
       "201  29.5          4          97.0          71    1825          12.2   \n",
       "268  21.1          4         134.0          95    2515          14.8   \n",
       "92   14.0          8         318.0         150    4237          14.5   \n",
       "270  23.8          4         151.0          85    2855          17.6   \n",
       "0    18.0          8         307.0         130    3504          12.0   \n",
       "262  18.1          8         302.0         139    3205          11.2   \n",
       "302  37.3          4          91.0          69    2130          14.7   \n",
       "2    18.0          8         318.0         150    3436          11.0   \n",
       "47   18.0          6         250.0          88    3139          14.5   \n",
       "382  26.0          4         156.0          92    2585          14.5   \n",
       "391  31.0          4         119.0          82    2720          19.4   \n",
       "222  15.0          8         302.0         130    4295          14.9   \n",
       "263  17.5          8         318.0         140    4080          13.7   \n",
       "372  38.0          4         105.0          63    2125          14.7   \n",
       "249  20.2          8         302.0         139    3570          12.8   \n",
       "17   21.0          6         200.0          85    2587          16.0   \n",
       "192  22.5          6         232.0          90    3085          17.6   \n",
       "144  28.0          4          90.0          75    2125          14.5   \n",
       "327  44.6          4          91.0          67    1850          13.8   \n",
       "\n",
       "     model year  origin                      car name  \n",
       "308          80       3         toyota corolla tercel  \n",
       "283          79       1     chevrolet caprice classic  \n",
       "332          80       2             triumph tr7 coupe  \n",
       "300          79       1          plymouth horizon tc3  \n",
       "122          73       3                toyota mark ii  \n",
       "380          82       1         buick century limited  \n",
       "378          82       3            honda civic (auto)  \n",
       "228          77       1  chevrolet monte carlo landau  \n",
       "318          80       3          datsun 510 hatchback  \n",
       "24           70       1                   amc gremlin  \n",
       "167          75       1                   amc gremlin  \n",
       "201          76       2             volkswagen rabbit  \n",
       "268          78       3     toyota celica gt liftback  \n",
       "92           73       1      plymouth fury gran sedan  \n",
       "270          78       1        oldsmobile starfire sx  \n",
       "0            70       1     chevrolet chevelle malibu  \n",
       "262          78       1                   ford futura  \n",
       "302          79       2            fiat strada custom  \n",
       "2            70       1            plymouth satellite  \n",
       "47           71       1                  ford mustang  \n",
       "382          82       1    chrysler lebaron medallion  \n",
       "391          82       1                    chevy s-10  \n",
       "222          77       1       mercury cougar brougham  \n",
       "263          78       1               dodge magnum xe  \n",
       "372          82       1        plymouth horizon miser  \n",
       "249          78       1          mercury monarch ghia  \n",
       "17           70       1                 ford maverick  \n",
       "192          76       1                    amc hornet  \n",
       "144          74       1                    dodge colt  \n",
       "327          80       3           honda civic 1500 gl  "
      ]
     },
     "execution_count": 23,
     "metadata": {},
     "output_type": "execute_result"
    }
   ],
   "source": [
    "auto.loc[np.random.choice(list(auto.index), 30)]"
   ]
  },
  {
   "cell_type": "code",
   "execution_count": 25,
   "metadata": {
    "scrolled": true
   },
   "outputs": [
    {
     "data": {
      "text/html": [
       "<div>\n",
       "<style scoped>\n",
       "    .dataframe tbody tr th:only-of-type {\n",
       "        vertical-align: middle;\n",
       "    }\n",
       "\n",
       "    .dataframe tbody tr th {\n",
       "        vertical-align: top;\n",
       "    }\n",
       "\n",
       "    .dataframe thead th {\n",
       "        text-align: right;\n",
       "    }\n",
       "</style>\n",
       "<table border=\"1\" class=\"dataframe\">\n",
       "  <thead>\n",
       "    <tr style=\"text-align: right;\">\n",
       "      <th></th>\n",
       "      <th>mpg</th>\n",
       "      <th>cylinders</th>\n",
       "      <th>displacement</th>\n",
       "      <th>horsepower</th>\n",
       "      <th>weight</th>\n",
       "      <th>acceleration</th>\n",
       "      <th>model year</th>\n",
       "      <th>origin</th>\n",
       "      <th>car name</th>\n",
       "    </tr>\n",
       "  </thead>\n",
       "  <tbody>\n",
       "    <tr>\n",
       "      <th>235</th>\n",
       "      <td>30.5</td>\n",
       "      <td>4</td>\n",
       "      <td>98.0</td>\n",
       "      <td>63</td>\n",
       "      <td>2051</td>\n",
       "      <td>17.0</td>\n",
       "      <td>77</td>\n",
       "      <td>1</td>\n",
       "      <td>chevrolet chevette</td>\n",
       "    </tr>\n",
       "    <tr>\n",
       "      <th>354</th>\n",
       "      <td>28.1</td>\n",
       "      <td>4</td>\n",
       "      <td>141.0</td>\n",
       "      <td>80</td>\n",
       "      <td>3230</td>\n",
       "      <td>20.4</td>\n",
       "      <td>81</td>\n",
       "      <td>2</td>\n",
       "      <td>peugeot 505s turbo diesel</td>\n",
       "    </tr>\n",
       "    <tr>\n",
       "      <th>269</th>\n",
       "      <td>23.2</td>\n",
       "      <td>4</td>\n",
       "      <td>156.0</td>\n",
       "      <td>105</td>\n",
       "      <td>2745</td>\n",
       "      <td>16.7</td>\n",
       "      <td>78</td>\n",
       "      <td>1</td>\n",
       "      <td>plymouth sapporo</td>\n",
       "    </tr>\n",
       "    <tr>\n",
       "      <th>327</th>\n",
       "      <td>44.6</td>\n",
       "      <td>4</td>\n",
       "      <td>91.0</td>\n",
       "      <td>67</td>\n",
       "      <td>1850</td>\n",
       "      <td>13.8</td>\n",
       "      <td>80</td>\n",
       "      <td>3</td>\n",
       "      <td>honda civic 1500 gl</td>\n",
       "    </tr>\n",
       "    <tr>\n",
       "      <th>11</th>\n",
       "      <td>14.0</td>\n",
       "      <td>8</td>\n",
       "      <td>340.0</td>\n",
       "      <td>160</td>\n",
       "      <td>3609</td>\n",
       "      <td>8.0</td>\n",
       "      <td>70</td>\n",
       "      <td>1</td>\n",
       "      <td>plymouth 'cuda 340</td>\n",
       "    </tr>\n",
       "    <tr>\n",
       "      <th>379</th>\n",
       "      <td>38.0</td>\n",
       "      <td>4</td>\n",
       "      <td>91.0</td>\n",
       "      <td>67</td>\n",
       "      <td>1995</td>\n",
       "      <td>16.2</td>\n",
       "      <td>82</td>\n",
       "      <td>3</td>\n",
       "      <td>datsun 310 gx</td>\n",
       "    </tr>\n",
       "    <tr>\n",
       "      <th>282</th>\n",
       "      <td>20.6</td>\n",
       "      <td>6</td>\n",
       "      <td>225.0</td>\n",
       "      <td>110</td>\n",
       "      <td>3360</td>\n",
       "      <td>16.6</td>\n",
       "      <td>79</td>\n",
       "      <td>1</td>\n",
       "      <td>dodge aspen 6</td>\n",
       "    </tr>\n",
       "    <tr>\n",
       "      <th>341</th>\n",
       "      <td>35.1</td>\n",
       "      <td>4</td>\n",
       "      <td>81.0</td>\n",
       "      <td>60</td>\n",
       "      <td>1760</td>\n",
       "      <td>16.1</td>\n",
       "      <td>81</td>\n",
       "      <td>3</td>\n",
       "      <td>honda civic 1300</td>\n",
       "    </tr>\n",
       "    <tr>\n",
       "      <th>189</th>\n",
       "      <td>22.0</td>\n",
       "      <td>6</td>\n",
       "      <td>225.0</td>\n",
       "      <td>100</td>\n",
       "      <td>3233</td>\n",
       "      <td>15.4</td>\n",
       "      <td>76</td>\n",
       "      <td>1</td>\n",
       "      <td>plymouth valiant</td>\n",
       "    </tr>\n",
       "    <tr>\n",
       "      <th>66</th>\n",
       "      <td>11.0</td>\n",
       "      <td>8</td>\n",
       "      <td>429.0</td>\n",
       "      <td>208</td>\n",
       "      <td>4633</td>\n",
       "      <td>11.0</td>\n",
       "      <td>72</td>\n",
       "      <td>1</td>\n",
       "      <td>mercury marquis</td>\n",
       "    </tr>\n",
       "    <tr>\n",
       "      <th>347</th>\n",
       "      <td>34.4</td>\n",
       "      <td>4</td>\n",
       "      <td>98.0</td>\n",
       "      <td>65</td>\n",
       "      <td>2045</td>\n",
       "      <td>16.2</td>\n",
       "      <td>81</td>\n",
       "      <td>1</td>\n",
       "      <td>ford escort 4w</td>\n",
       "    </tr>\n",
       "    <tr>\n",
       "      <th>310</th>\n",
       "      <td>37.2</td>\n",
       "      <td>4</td>\n",
       "      <td>86.0</td>\n",
       "      <td>65</td>\n",
       "      <td>2019</td>\n",
       "      <td>16.4</td>\n",
       "      <td>80</td>\n",
       "      <td>3</td>\n",
       "      <td>datsun 310</td>\n",
       "    </tr>\n",
       "    <tr>\n",
       "      <th>65</th>\n",
       "      <td>17.0</td>\n",
       "      <td>8</td>\n",
       "      <td>304.0</td>\n",
       "      <td>150</td>\n",
       "      <td>3672</td>\n",
       "      <td>11.5</td>\n",
       "      <td>72</td>\n",
       "      <td>1</td>\n",
       "      <td>amc ambassador sst</td>\n",
       "    </tr>\n",
       "    <tr>\n",
       "      <th>134</th>\n",
       "      <td>16.0</td>\n",
       "      <td>8</td>\n",
       "      <td>302.0</td>\n",
       "      <td>140</td>\n",
       "      <td>4141</td>\n",
       "      <td>14.0</td>\n",
       "      <td>74</td>\n",
       "      <td>1</td>\n",
       "      <td>ford gran torino</td>\n",
       "    </tr>\n",
       "    <tr>\n",
       "      <th>320</th>\n",
       "      <td>46.6</td>\n",
       "      <td>4</td>\n",
       "      <td>86.0</td>\n",
       "      <td>65</td>\n",
       "      <td>2110</td>\n",
       "      <td>17.9</td>\n",
       "      <td>80</td>\n",
       "      <td>3</td>\n",
       "      <td>mazda glc</td>\n",
       "    </tr>\n",
       "    <tr>\n",
       "      <th>389</th>\n",
       "      <td>32.0</td>\n",
       "      <td>4</td>\n",
       "      <td>135.0</td>\n",
       "      <td>84</td>\n",
       "      <td>2295</td>\n",
       "      <td>11.6</td>\n",
       "      <td>82</td>\n",
       "      <td>1</td>\n",
       "      <td>dodge rampage</td>\n",
       "    </tr>\n",
       "    <tr>\n",
       "      <th>349</th>\n",
       "      <td>33.0</td>\n",
       "      <td>4</td>\n",
       "      <td>105.0</td>\n",
       "      <td>74</td>\n",
       "      <td>2190</td>\n",
       "      <td>14.2</td>\n",
       "      <td>81</td>\n",
       "      <td>2</td>\n",
       "      <td>volkswagen jetta</td>\n",
       "    </tr>\n",
       "    <tr>\n",
       "      <th>174</th>\n",
       "      <td>19.0</td>\n",
       "      <td>6</td>\n",
       "      <td>232.0</td>\n",
       "      <td>90</td>\n",
       "      <td>3211</td>\n",
       "      <td>17.0</td>\n",
       "      <td>75</td>\n",
       "      <td>1</td>\n",
       "      <td>amc pacer</td>\n",
       "    </tr>\n",
       "    <tr>\n",
       "      <th>180</th>\n",
       "      <td>28.0</td>\n",
       "      <td>4</td>\n",
       "      <td>107.0</td>\n",
       "      <td>86</td>\n",
       "      <td>2464</td>\n",
       "      <td>15.5</td>\n",
       "      <td>76</td>\n",
       "      <td>2</td>\n",
       "      <td>fiat 131</td>\n",
       "    </tr>\n",
       "    <tr>\n",
       "      <th>36</th>\n",
       "      <td>18.0</td>\n",
       "      <td>6</td>\n",
       "      <td>232.0</td>\n",
       "      <td>100</td>\n",
       "      <td>3288</td>\n",
       "      <td>15.5</td>\n",
       "      <td>71</td>\n",
       "      <td>1</td>\n",
       "      <td>amc matador</td>\n",
       "    </tr>\n",
       "    <tr>\n",
       "      <th>268</th>\n",
       "      <td>21.1</td>\n",
       "      <td>4</td>\n",
       "      <td>134.0</td>\n",
       "      <td>95</td>\n",
       "      <td>2515</td>\n",
       "      <td>14.8</td>\n",
       "      <td>78</td>\n",
       "      <td>3</td>\n",
       "      <td>toyota celica gt liftback</td>\n",
       "    </tr>\n",
       "    <tr>\n",
       "      <th>380</th>\n",
       "      <td>25.0</td>\n",
       "      <td>6</td>\n",
       "      <td>181.0</td>\n",
       "      <td>110</td>\n",
       "      <td>2945</td>\n",
       "      <td>16.4</td>\n",
       "      <td>82</td>\n",
       "      <td>1</td>\n",
       "      <td>buick century limited</td>\n",
       "    </tr>\n",
       "    <tr>\n",
       "      <th>56</th>\n",
       "      <td>24.0</td>\n",
       "      <td>4</td>\n",
       "      <td>113.0</td>\n",
       "      <td>95</td>\n",
       "      <td>2278</td>\n",
       "      <td>15.5</td>\n",
       "      <td>72</td>\n",
       "      <td>3</td>\n",
       "      <td>toyota corona hardtop</td>\n",
       "    </tr>\n",
       "    <tr>\n",
       "      <th>315</th>\n",
       "      <td>34.3</td>\n",
       "      <td>4</td>\n",
       "      <td>97.0</td>\n",
       "      <td>78</td>\n",
       "      <td>2188</td>\n",
       "      <td>15.8</td>\n",
       "      <td>80</td>\n",
       "      <td>2</td>\n",
       "      <td>audi 4000</td>\n",
       "    </tr>\n",
       "    <tr>\n",
       "      <th>247</th>\n",
       "      <td>19.9</td>\n",
       "      <td>8</td>\n",
       "      <td>260.0</td>\n",
       "      <td>110</td>\n",
       "      <td>3365</td>\n",
       "      <td>15.5</td>\n",
       "      <td>78</td>\n",
       "      <td>1</td>\n",
       "      <td>oldsmobile cutlass salon brougham</td>\n",
       "    </tr>\n",
       "    <tr>\n",
       "      <th>279</th>\n",
       "      <td>19.8</td>\n",
       "      <td>6</td>\n",
       "      <td>200.0</td>\n",
       "      <td>85</td>\n",
       "      <td>2990</td>\n",
       "      <td>18.2</td>\n",
       "      <td>79</td>\n",
       "      <td>1</td>\n",
       "      <td>mercury zephyr 6</td>\n",
       "    </tr>\n",
       "    <tr>\n",
       "      <th>358</th>\n",
       "      <td>22.4</td>\n",
       "      <td>6</td>\n",
       "      <td>231.0</td>\n",
       "      <td>110</td>\n",
       "      <td>3415</td>\n",
       "      <td>15.8</td>\n",
       "      <td>81</td>\n",
       "      <td>1</td>\n",
       "      <td>buick century</td>\n",
       "    </tr>\n",
       "    <tr>\n",
       "      <th>218</th>\n",
       "      <td>33.5</td>\n",
       "      <td>4</td>\n",
       "      <td>85.0</td>\n",
       "      <td>70</td>\n",
       "      <td>1945</td>\n",
       "      <td>16.8</td>\n",
       "      <td>77</td>\n",
       "      <td>3</td>\n",
       "      <td>datsun f-10 hatchback</td>\n",
       "    </tr>\n",
       "    <tr>\n",
       "      <th>167</th>\n",
       "      <td>20.0</td>\n",
       "      <td>6</td>\n",
       "      <td>232.0</td>\n",
       "      <td>100</td>\n",
       "      <td>2914</td>\n",
       "      <td>16.0</td>\n",
       "      <td>75</td>\n",
       "      <td>1</td>\n",
       "      <td>amc gremlin</td>\n",
       "    </tr>\n",
       "    <tr>\n",
       "      <th>277</th>\n",
       "      <td>29.5</td>\n",
       "      <td>4</td>\n",
       "      <td>98.0</td>\n",
       "      <td>68</td>\n",
       "      <td>2135</td>\n",
       "      <td>16.6</td>\n",
       "      <td>78</td>\n",
       "      <td>3</td>\n",
       "      <td>honda accord lx</td>\n",
       "    </tr>\n",
       "  </tbody>\n",
       "</table>\n",
       "</div>"
      ],
      "text/plain": [
       "      mpg  cylinders  displacement  horsepower  weight  acceleration  \\\n",
       "235  30.5          4          98.0          63    2051          17.0   \n",
       "354  28.1          4         141.0          80    3230          20.4   \n",
       "269  23.2          4         156.0         105    2745          16.7   \n",
       "327  44.6          4          91.0          67    1850          13.8   \n",
       "11   14.0          8         340.0         160    3609           8.0   \n",
       "379  38.0          4          91.0          67    1995          16.2   \n",
       "282  20.6          6         225.0         110    3360          16.6   \n",
       "341  35.1          4          81.0          60    1760          16.1   \n",
       "189  22.0          6         225.0         100    3233          15.4   \n",
       "66   11.0          8         429.0         208    4633          11.0   \n",
       "347  34.4          4          98.0          65    2045          16.2   \n",
       "310  37.2          4          86.0          65    2019          16.4   \n",
       "65   17.0          8         304.0         150    3672          11.5   \n",
       "134  16.0          8         302.0         140    4141          14.0   \n",
       "320  46.6          4          86.0          65    2110          17.9   \n",
       "389  32.0          4         135.0          84    2295          11.6   \n",
       "349  33.0          4         105.0          74    2190          14.2   \n",
       "174  19.0          6         232.0          90    3211          17.0   \n",
       "180  28.0          4         107.0          86    2464          15.5   \n",
       "36   18.0          6         232.0         100    3288          15.5   \n",
       "268  21.1          4         134.0          95    2515          14.8   \n",
       "380  25.0          6         181.0         110    2945          16.4   \n",
       "56   24.0          4         113.0          95    2278          15.5   \n",
       "315  34.3          4          97.0          78    2188          15.8   \n",
       "247  19.9          8         260.0         110    3365          15.5   \n",
       "279  19.8          6         200.0          85    2990          18.2   \n",
       "358  22.4          6         231.0         110    3415          15.8   \n",
       "218  33.5          4          85.0          70    1945          16.8   \n",
       "167  20.0          6         232.0         100    2914          16.0   \n",
       "277  29.5          4          98.0          68    2135          16.6   \n",
       "\n",
       "     model year  origin                           car name  \n",
       "235          77       1                 chevrolet chevette  \n",
       "354          81       2          peugeot 505s turbo diesel  \n",
       "269          78       1                   plymouth sapporo  \n",
       "327          80       3                honda civic 1500 gl  \n",
       "11           70       1                 plymouth 'cuda 340  \n",
       "379          82       3                      datsun 310 gx  \n",
       "282          79       1                      dodge aspen 6  \n",
       "341          81       3                   honda civic 1300  \n",
       "189          76       1                   plymouth valiant  \n",
       "66           72       1                    mercury marquis  \n",
       "347          81       1                     ford escort 4w  \n",
       "310          80       3                         datsun 310  \n",
       "65           72       1                 amc ambassador sst  \n",
       "134          74       1                   ford gran torino  \n",
       "320          80       3                          mazda glc  \n",
       "389          82       1                      dodge rampage  \n",
       "349          81       2                   volkswagen jetta  \n",
       "174          75       1                          amc pacer  \n",
       "180          76       2                           fiat 131  \n",
       "36           71       1                        amc matador  \n",
       "268          78       3          toyota celica gt liftback  \n",
       "380          82       1              buick century limited  \n",
       "56           72       3              toyota corona hardtop  \n",
       "315          80       2                          audi 4000  \n",
       "247          78       1  oldsmobile cutlass salon brougham  \n",
       "279          79       1                   mercury zephyr 6  \n",
       "358          81       1                      buick century  \n",
       "218          77       3              datsun f-10 hatchback  \n",
       "167          75       1                        amc gremlin  \n",
       "277          78       3                    honda accord lx  "
      ]
     },
     "execution_count": 25,
     "metadata": {},
     "output_type": "execute_result"
    }
   ],
   "source": [
    "auto.sample(30)  #built in random sampling function\n",
    "# replaces is false"
   ]
  },
  {
   "cell_type": "code",
   "execution_count": 31,
   "metadata": {
    "scrolled": true
   },
   "outputs": [],
   "source": [
    "sample1_mpg = auto.sample(30, replace=True) # take a sample, and put it back in. keep the population as pure as possible\n",
    "sample2_mpg = auto.sample(30, replace=True)"
   ]
  },
  {
   "cell_type": "code",
   "execution_count": 28,
   "metadata": {},
   "outputs": [
    {
     "data": {
      "text/plain": [
       "mpg               24.423333\n",
       "cylinders          5.533333\n",
       "displacement     193.833333\n",
       "horsepower       102.366667\n",
       "weight          2971.300000\n",
       "acceleration      15.933333\n",
       "model year        75.933333\n",
       "origin             1.466667\n",
       "dtype: float64"
      ]
     },
     "execution_count": 28,
     "metadata": {},
     "output_type": "execute_result"
    }
   ],
   "source": [
    "sample1_mpg.mean()"
   ]
  },
  {
   "cell_type": "code",
   "execution_count": 29,
   "metadata": {},
   "outputs": [
    {
     "data": {
      "text/plain": [
       "mpg               8.753470\n",
       "cylinders         1.716720\n",
       "displacement    105.372274\n",
       "horsepower       37.490673\n",
       "weight          932.226669\n",
       "acceleration      3.005321\n",
       "model year        3.433439\n",
       "origin            0.776079\n",
       "dtype: float64"
      ]
     },
     "execution_count": 29,
     "metadata": {},
     "output_type": "execute_result"
    }
   ],
   "source": [
    "sample1_mpg.std()"
   ]
  },
  {
   "cell_type": "code",
   "execution_count": 32,
   "metadata": {},
   "outputs": [
    {
     "data": {
      "text/plain": [
       "mpg               24.706667\n",
       "cylinders          5.133333\n",
       "displacement     174.566667\n",
       "horsepower        97.933333\n",
       "weight          2872.133333\n",
       "acceleration      15.896667\n",
       "model year        76.600000\n",
       "origin             1.600000\n",
       "dtype: float64"
      ]
     },
     "execution_count": 32,
     "metadata": {},
     "output_type": "execute_result"
    }
   ],
   "source": [
    "sample2_mpg.mean()"
   ]
  },
  {
   "cell_type": "code",
   "execution_count": 33,
   "metadata": {},
   "outputs": [
    {
     "data": {
      "text/plain": [
       "mpg               7.972363\n",
       "cylinders         1.547709\n",
       "displacement     92.220382\n",
       "horsepower       35.960643\n",
       "weight          824.722722\n",
       "acceleration      2.593026\n",
       "model year        3.625580\n",
       "origin            0.770132\n",
       "dtype: float64"
      ]
     },
     "execution_count": 33,
     "metadata": {},
     "output_type": "execute_result"
    }
   ],
   "source": [
    "sample2_mpg.std()"
   ]
  },
  {
   "cell_type": "markdown",
   "metadata": {},
   "source": [
    "We \"pickled\" two samples before and use these to work with"
   ]
  },
  {
   "cell_type": "code",
   "execution_count": 37,
   "metadata": {},
   "outputs": [
    {
     "data": {
      "text/html": [
       "<div>\n",
       "<style scoped>\n",
       "    .dataframe tbody tr th:only-of-type {\n",
       "        vertical-align: middle;\n",
       "    }\n",
       "\n",
       "    .dataframe tbody tr th {\n",
       "        vertical-align: top;\n",
       "    }\n",
       "\n",
       "    .dataframe thead th {\n",
       "        text-align: right;\n",
       "    }\n",
       "</style>\n",
       "<table border=\"1\" class=\"dataframe\">\n",
       "  <thead>\n",
       "    <tr style=\"text-align: right;\">\n",
       "      <th></th>\n",
       "      <th>mpg</th>\n",
       "      <th>cylinders</th>\n",
       "      <th>displacement</th>\n",
       "      <th>horsepower</th>\n",
       "      <th>weight</th>\n",
       "      <th>acceleration</th>\n",
       "      <th>model year</th>\n",
       "      <th>origin</th>\n",
       "      <th>car name</th>\n",
       "    </tr>\n",
       "  </thead>\n",
       "  <tbody>\n",
       "    <tr>\n",
       "      <th>332</th>\n",
       "      <td>35.0</td>\n",
       "      <td>4</td>\n",
       "      <td>122.0</td>\n",
       "      <td>88</td>\n",
       "      <td>2500</td>\n",
       "      <td>15.1</td>\n",
       "      <td>80</td>\n",
       "      <td>2</td>\n",
       "      <td>triumph tr7 coupe</td>\n",
       "    </tr>\n",
       "    <tr>\n",
       "      <th>123</th>\n",
       "      <td>11.0</td>\n",
       "      <td>8</td>\n",
       "      <td>350.0</td>\n",
       "      <td>180</td>\n",
       "      <td>3664</td>\n",
       "      <td>11.0</td>\n",
       "      <td>73</td>\n",
       "      <td>1</td>\n",
       "      <td>oldsmobile omega</td>\n",
       "    </tr>\n",
       "    <tr>\n",
       "      <th>376</th>\n",
       "      <td>34.0</td>\n",
       "      <td>4</td>\n",
       "      <td>108.0</td>\n",
       "      <td>70</td>\n",
       "      <td>2245</td>\n",
       "      <td>16.9</td>\n",
       "      <td>82</td>\n",
       "      <td>3</td>\n",
       "      <td>toyota corolla</td>\n",
       "    </tr>\n",
       "    <tr>\n",
       "      <th>170</th>\n",
       "      <td>25.0</td>\n",
       "      <td>4</td>\n",
       "      <td>90.0</td>\n",
       "      <td>71</td>\n",
       "      <td>2223</td>\n",
       "      <td>16.5</td>\n",
       "      <td>75</td>\n",
       "      <td>2</td>\n",
       "      <td>volkswagen dasher</td>\n",
       "    </tr>\n",
       "    <tr>\n",
       "      <th>96</th>\n",
       "      <td>18.0</td>\n",
       "      <td>6</td>\n",
       "      <td>225.0</td>\n",
       "      <td>105</td>\n",
       "      <td>3121</td>\n",
       "      <td>16.5</td>\n",
       "      <td>73</td>\n",
       "      <td>1</td>\n",
       "      <td>plymouth valiant</td>\n",
       "    </tr>\n",
       "  </tbody>\n",
       "</table>\n",
       "</div>"
      ],
      "text/plain": [
       "      mpg  cylinders  displacement  horsepower  weight  acceleration  \\\n",
       "332  35.0          4         122.0          88    2500          15.1   \n",
       "123  11.0          8         350.0         180    3664          11.0   \n",
       "376  34.0          4         108.0          70    2245          16.9   \n",
       "170  25.0          4          90.0          71    2223          16.5   \n",
       "96   18.0          6         225.0         105    3121          16.5   \n",
       "\n",
       "     model year  origin           car name  \n",
       "332          80       2  triumph tr7 coupe  \n",
       "123          73       1   oldsmobile omega  \n",
       "376          82       3     toyota corolla  \n",
       "170          75       2  volkswagen dasher  \n",
       "96           73       1   plymouth valiant  "
      ]
     },
     "execution_count": 37,
     "metadata": {},
     "output_type": "execute_result"
    }
   ],
   "source": [
    "with open('sample.pkl', 'rb') as pkl_obj:\n",
    "    sample = pickle.load(pkl_obj)\n",
    "sample.head()"
   ]
  },
  {
   "cell_type": "markdown",
   "metadata": {},
   "source": [
    "Load the the second sample"
   ]
  },
  {
   "cell_type": "code",
   "execution_count": 35,
   "metadata": {},
   "outputs": [],
   "source": [
    "# alternatively\n",
    "sample2 = pd.read_pickle('sample2.pkl')"
   ]
  },
  {
   "cell_type": "code",
   "execution_count": 36,
   "metadata": {},
   "outputs": [
    {
     "data": {
      "text/html": [
       "<div>\n",
       "<style scoped>\n",
       "    .dataframe tbody tr th:only-of-type {\n",
       "        vertical-align: middle;\n",
       "    }\n",
       "\n",
       "    .dataframe tbody tr th {\n",
       "        vertical-align: top;\n",
       "    }\n",
       "\n",
       "    .dataframe thead th {\n",
       "        text-align: right;\n",
       "    }\n",
       "</style>\n",
       "<table border=\"1\" class=\"dataframe\">\n",
       "  <thead>\n",
       "    <tr style=\"text-align: right;\">\n",
       "      <th></th>\n",
       "      <th>mpg</th>\n",
       "      <th>cylinders</th>\n",
       "      <th>displacement</th>\n",
       "      <th>horsepower</th>\n",
       "      <th>weight</th>\n",
       "      <th>acceleration</th>\n",
       "      <th>model year</th>\n",
       "      <th>origin</th>\n",
       "      <th>car name</th>\n",
       "    </tr>\n",
       "  </thead>\n",
       "  <tbody>\n",
       "    <tr>\n",
       "      <th>12</th>\n",
       "      <td>15.0</td>\n",
       "      <td>8</td>\n",
       "      <td>400.0</td>\n",
       "      <td>150</td>\n",
       "      <td>3761</td>\n",
       "      <td>9.5</td>\n",
       "      <td>70</td>\n",
       "      <td>1</td>\n",
       "      <td>chevrolet monte carlo</td>\n",
       "    </tr>\n",
       "    <tr>\n",
       "      <th>195</th>\n",
       "      <td>29.0</td>\n",
       "      <td>4</td>\n",
       "      <td>90.0</td>\n",
       "      <td>70</td>\n",
       "      <td>1937</td>\n",
       "      <td>14.2</td>\n",
       "      <td>76</td>\n",
       "      <td>2</td>\n",
       "      <td>vw rabbit</td>\n",
       "    </tr>\n",
       "    <tr>\n",
       "      <th>287</th>\n",
       "      <td>16.9</td>\n",
       "      <td>8</td>\n",
       "      <td>350.0</td>\n",
       "      <td>155</td>\n",
       "      <td>4360</td>\n",
       "      <td>14.9</td>\n",
       "      <td>79</td>\n",
       "      <td>1</td>\n",
       "      <td>buick estate wagon (sw)</td>\n",
       "    </tr>\n",
       "    <tr>\n",
       "      <th>143</th>\n",
       "      <td>32.0</td>\n",
       "      <td>4</td>\n",
       "      <td>83.0</td>\n",
       "      <td>61</td>\n",
       "      <td>2003</td>\n",
       "      <td>19.0</td>\n",
       "      <td>74</td>\n",
       "      <td>3</td>\n",
       "      <td>datsun 710</td>\n",
       "    </tr>\n",
       "    <tr>\n",
       "      <th>383</th>\n",
       "      <td>22.0</td>\n",
       "      <td>6</td>\n",
       "      <td>232.0</td>\n",
       "      <td>112</td>\n",
       "      <td>2835</td>\n",
       "      <td>14.7</td>\n",
       "      <td>82</td>\n",
       "      <td>1</td>\n",
       "      <td>ford granada l</td>\n",
       "    </tr>\n",
       "  </tbody>\n",
       "</table>\n",
       "</div>"
      ],
      "text/plain": [
       "      mpg  cylinders  displacement  horsepower  weight  acceleration  \\\n",
       "12   15.0          8         400.0         150    3761           9.5   \n",
       "195  29.0          4          90.0          70    1937          14.2   \n",
       "287  16.9          8         350.0         155    4360          14.9   \n",
       "143  32.0          4          83.0          61    2003          19.0   \n",
       "383  22.0          6         232.0         112    2835          14.7   \n",
       "\n",
       "     model year  origin                 car name  \n",
       "12           70       1    chevrolet monte carlo  \n",
       "195          76       2                vw rabbit  \n",
       "287          79       1  buick estate wagon (sw)  \n",
       "143          74       3               datsun 710  \n",
       "383          82       1           ford granada l  "
      ]
     },
     "execution_count": 36,
     "metadata": {},
     "output_type": "execute_result"
    }
   ],
   "source": [
    "sample2.head()"
   ]
  },
  {
   "cell_type": "code",
   "execution_count": null,
   "metadata": {},
   "outputs": [],
   "source": []
  },
  {
   "cell_type": "code",
   "execution_count": null,
   "metadata": {},
   "outputs": [],
   "source": []
  },
  {
   "cell_type": "markdown",
   "metadata": {},
   "source": [
    "Let's load the original data. In this case, we will consider this data as \"population\""
   ]
  },
  {
   "cell_type": "code",
   "execution_count": 38,
   "metadata": {},
   "outputs": [],
   "source": [
    "auto = pd.read_csv('data/auto-mpg.csv')\n",
    "mu = auto.mpg.mean()\n",
    "sigma = auto.mpg.std(ddof=1)\n",
    "# delta degrees of freedom. the divisors used in calculation is N-DDOF\n",
    "# total degrees of freedom is the number of total observations\n",
    "# only matters when observation numbers are small (<15)"
   ]
  },
  {
   "cell_type": "code",
   "execution_count": null,
   "metadata": {},
   "outputs": [],
   "source": []
  },
  {
   "cell_type": "markdown",
   "metadata": {},
   "source": [
    "Here print population parameters $\\mu$ and $\\sigma$"
   ]
  },
  {
   "cell_type": "code",
   "execution_count": 41,
   "metadata": {},
   "outputs": [
    {
     "name": "stdout",
     "output_type": "stream",
     "text": [
      "population mean: 23.4459\n",
      "population standard deviation: 7.8050\n"
     ]
    }
   ],
   "source": [
    "print(f'population mean: {mu:.4f}', f'population standard deviation: {sigma:.4f}', sep='\\n')"
   ]
  },
  {
   "cell_type": "markdown",
   "metadata": {},
   "source": [
    "The difference between the sample mean and the population mean is known as the **Sampling Error**.  \n",
    "\n",
    ">When using the sample mean to estimate the population mean, some possible error will be involved since random sample means are also random.\n",
    "\n",
    "### It's your turn again\n",
    "\n",
    "Repeat the sampling process you did above 1000 times and plot the result."
   ]
  },
  {
   "cell_type": "code",
   "execution_count": 42,
   "metadata": {},
   "outputs": [],
   "source": [
    "import matplotlib.pyplot as plt\n",
    "plt.style.use('fivethirtyeight')\n",
    "\n",
    "%matplotlib inline"
   ]
  },
  {
   "cell_type": "code",
   "execution_count": 52,
   "metadata": {},
   "outputs": [
    {
     "data": {
      "text/plain": [
       "(array([ 3., 10., 40., 38., 36., 37., 29., 29., 20., 33., 24., 24., 20.,\n",
       "        17., 13.,  9.,  3.,  1.,  5.,  1.]),\n",
       " array([ 9.  , 10.88, 12.76, 14.64, 16.52, 18.4 , 20.28, 22.16, 24.04,\n",
       "        25.92, 27.8 , 29.68, 31.56, 33.44, 35.32, 37.2 , 39.08, 40.96,\n",
       "        42.84, 44.72, 46.6 ]),\n",
       " <a list of 20 Patch objects>)"
      ]
     },
     "execution_count": 52,
     "metadata": {},
     "output_type": "execute_result"
    },
    {
     "data": {
      "image/png": "[encoded data removed]",
      "text/plain": [
       "<Figure size 432x288 with 1 Axes>"
      ]
     },
     "metadata": {
      "needs_background": "light"
     },
     "output_type": "display_data"
    }
   ],
   "source": [
    "plt.hist(auto.mpg, bins=20)"
   ]
  },
  {
   "cell_type": "code",
   "execution_count": 44,
   "metadata": {},
   "outputs": [
    {
     "data": {
      "text/plain": [
       "7.805007486571799"
      ]
     },
     "execution_count": 44,
     "metadata": {},
     "output_type": "execute_result"
    }
   ],
   "source": [
    "auto.mpg.std()"
   ]
  },
  {
   "cell_type": "code",
   "execution_count": 62,
   "metadata": {},
   "outputs": [],
   "source": [
    "sample_means = []\n",
    "\n",
    "\n",
    "for i in range(1000):\n",
    "    mean = auto.sample(n=30).mpg.mean()\n",
    "    sample_means.append(mean)"
   ]
  },
  {
   "cell_type": "code",
   "execution_count": 46,
   "metadata": {},
   "outputs": [],
   "source": [
    "sample_means2 = [auto.sample(n=30).mpg.mean() for i in range(1000)]\n",
    "# same thing as above, using list comprehension method.\n",
    "# take a n=30 sample 1000 times"
   ]
  },
  {
   "cell_type": "code",
   "execution_count": 59,
   "metadata": {},
   "outputs": [
    {
     "data": {
      "text/plain": [
       "(array([  5.,   6.,   8.,  18.,  29.,  54.,  76., 108., 108., 125., 133.,\n",
       "        123.,  80.,  53.,  36.,  22.,   7.,   6.,   2.,   1.]),\n",
       " array([21.315  , 21.53765, 21.7603 , 21.98295, 22.2056 , 22.42825,\n",
       "        22.6509 , 22.87355, 23.0962 , 23.31885, 23.5415 , 23.76415,\n",
       "        23.9868 , 24.20945, 24.4321 , 24.65475, 24.8774 , 25.10005,\n",
       "        25.3227 , 25.54535, 25.768  ]),\n",
       " <a list of 20 Patch objects>)"
      ]
     },
     "execution_count": 59,
     "metadata": {},
     "output_type": "execute_result"
    },
    {
     "data": {
      "image/png": "[encoded data removed]",
      "text/plain": [
       "<Figure size 432x288 with 1 Axes>"
      ]
     },
     "metadata": {
      "needs_background": "light"
     },
     "output_type": "display_data"
    }
   ],
   "source": [
    "plt.hist(sample_means, bins=20)"
   ]
  },
  {
   "cell_type": "code",
   "execution_count": 64,
   "metadata": {},
   "outputs": [
    {
     "data": {
      "text/plain": [
       "1.3990276339413896"
      ]
     },
     "execution_count": 64,
     "metadata": {},
     "output_type": "execute_result"
    }
   ],
   "source": [
    "np.std(sample_means, ddof=1)"
   ]
  },
  {
   "cell_type": "code",
   "execution_count": 63,
   "metadata": {},
   "outputs": [
    {
     "data": {
      "text/plain": [
       "1.4493521144718897"
      ]
     },
     "execution_count": 63,
     "metadata": {},
     "output_type": "execute_result"
    }
   ],
   "source": [
    "7.805/np.sqrt(29)  #n-1 (n=30 or 100 or whatever)"
   ]
  },
  {
   "cell_type": "code",
   "execution_count": 66,
   "metadata": {},
   "outputs": [
    {
     "data": {
      "text/plain": [
       "23.44591836734694"
      ]
     },
     "execution_count": 66,
     "metadata": {},
     "output_type": "execute_result"
    }
   ],
   "source": [
    "auto.mpg.mean()"
   ]
  },
  {
   "cell_type": "code",
   "execution_count": 65,
   "metadata": {},
   "outputs": [
    {
     "data": {
      "text/plain": [
       "24.146666666666665"
      ]
     },
     "execution_count": 65,
     "metadata": {},
     "output_type": "execute_result"
    }
   ],
   "source": [
    "sample.mpg.mean()"
   ]
  },
  {
   "cell_type": "code",
   "execution_count": 67,
   "metadata": {},
   "outputs": [],
   "source": [
    "import matplotlib.pyplot as plt\n",
    "plt.style.use('fivethirtyeight')\n",
    "\n",
    "%matplotlib inline"
   ]
  },
  {
   "cell_type": "code",
   "execution_count": 68,
   "metadata": {},
   "outputs": [
    {
     "data": {
      "text/plain": [
       "(array([  1.,  12.,  47., 149., 264., 263., 170.,  71.,  17.,   6.]),\n",
       " array([18.27666667, 19.27333333, 20.27      , 21.26666667, 22.26333333,\n",
       "        23.26      , 24.25666667, 25.25333333, 26.25      , 27.24666667,\n",
       "        28.24333333]),\n",
       " <a list of 10 Patch objects>)"
      ]
     },
     "execution_count": 68,
     "metadata": {},
     "output_type": "execute_result"
    },
    {
     "data": {
      "image/png": "[encoded data removed]",
      "text/plain": [
       "<Figure size 432x288 with 1 Axes>"
      ]
     },
     "metadata": {
      "needs_background": "light"
     },
     "output_type": "display_data"
    }
   ],
   "source": [
    "plt.hist(sample_means)"
   ]
  },
  {
   "cell_type": "code",
   "execution_count": 69,
   "metadata": {},
   "outputs": [
    {
     "data": {
      "text/plain": [
       "24.146666666666665"
      ]
     },
     "execution_count": 69,
     "metadata": {},
     "output_type": "execute_result"
    }
   ],
   "source": [
    "sample.mpg.mean()"
   ]
  },
  {
   "cell_type": "code",
   "execution_count": 74,
   "metadata": {},
   "outputs": [
    {
     "data": {
      "image/png": "[encoded data removed]",
      "text/plain": [
       "<Figure size 432x288 with 1 Axes>"
      ]
     },
     "metadata": {
      "needs_background": "light"
     },
     "output_type": "display_data"
    }
   ],
   "source": [
    "# %load -r 9-22 supplement.py\n",
    "# taking repeating samples from auto dataset\n",
    "thousand_rand_samp = [auto.sample(n=2).mpg.mean() for i in range(1000)]\n",
    "# n of size 2, 1000 times. \n",
    "bars = plt.hist(thousand_rand_samp, bins=20)\n",
    "\n",
    "plt.vlines(x=mu, ymin=0,\n",
    "           ymax=bars[0].max() + 1,\n",
    "           color='r', label='pop mean')\n",
    "plt.xticks(range(17, 29))\n",
    "plt.xlabel('sample_means')\n",
    "plt.ylabel('frequencies of sample means')\n",
    "\n",
    "plt.legend()\n",
    "plt.show()\n",
    "\n",
    "#mean of the samples becoming roughly the mean of the population"
   ]
  },
  {
   "cell_type": "code",
   "execution_count": 77,
   "metadata": {},
   "outputs": [
    {
     "data": {
      "image/png": "[encoded data removed]",
      "text/plain": [
       "<Figure size 432x288 with 1 Axes>"
      ]
     },
     "metadata": {
      "needs_background": "light"
     },
     "output_type": "display_data"
    }
   ],
   "source": [
    "thousand_rand_samp = [auto.sample(n=30).mpg.mean() for i in range(1000)]\n",
    "\n",
    "bars = plt.hist(thousand_rand_samp, bins=20)\n",
    "\n",
    "plt.vlines(x=mu, ymin=0,\n",
    "           ymax=bars[0].max() + 1,\n",
    "           color='r', label='pop mean')\n",
    "plt.xticks(range(17, 29))\n",
    "plt.xlabel('sample_means')\n",
    "plt.ylabel('frequencies of sample means')\n",
    "\n",
    "plt.legend()\n",
    "plt.show()"
   ]
  },
  {
   "cell_type": "code",
   "execution_count": 79,
   "metadata": {},
   "outputs": [
    {
     "data": {
      "text/plain": [
       "1.424992887297358"
      ]
     },
     "execution_count": 79,
     "metadata": {},
     "output_type": "execute_result"
    }
   ],
   "source": [
    "#standard error\n",
    "sigma = auto.mpg.std()\n",
    "\n",
    "\n",
    "standard_error = sigma / (np.sqrt(30))\n",
    "\n",
    "standard_error"
   ]
  },
  {
   "cell_type": "code",
   "execution_count": 80,
   "metadata": {},
   "outputs": [],
   "source": [
    "# Calculate confidence interval\n",
    "confidence_interval_lower = sample.mpg.mean() - 2*standard_error\n",
    "\n",
    "confidence_interval_upper = sample.mpg.mean() + 2*standard_error"
   ]
  },
  {
   "cell_type": "code",
   "execution_count": 81,
   "metadata": {},
   "outputs": [
    {
     "data": {
      "text/plain": [
       "21.296680892071947"
      ]
     },
     "execution_count": 81,
     "metadata": {},
     "output_type": "execute_result"
    }
   ],
   "source": [
    "confidence_interval_lower"
   ]
  },
  {
   "cell_type": "code",
   "execution_count": 82,
   "metadata": {},
   "outputs": [
    {
     "data": {
      "text/plain": [
       "26.996652441261382"
      ]
     },
     "execution_count": 82,
     "metadata": {},
     "output_type": "execute_result"
    }
   ],
   "source": [
    "confidence_interval_upper"
   ]
  },
  {
   "cell_type": "code",
   "execution_count": 83,
   "metadata": {},
   "outputs": [],
   "source": [
    "confidence_interval_lower_2 = sample2.mpg.mean() - 2*standard_error\n",
    "\n",
    "confidence_interval_upper_2 = sample2.mpg.mean() + 2*standard_error"
   ]
  },
  {
   "cell_type": "code",
   "execution_count": 84,
   "metadata": {},
   "outputs": [],
   "source": [
    "sample3 = auto.sample(n=30)\n",
    "\n",
    "confidence_interval_lower_3 = sample3.mpg.mean() - 2*standard_error\n",
    "\n",
    "confidence_interval_upper_3 = sample3.mpg.mean() + 2*standard_error"
   ]
  },
  {
   "cell_type": "code",
   "execution_count": 85,
   "metadata": {},
   "outputs": [
    {
     "data": {
      "text/plain": [
       "22.25668089207195"
      ]
     },
     "execution_count": 85,
     "metadata": {},
     "output_type": "execute_result"
    }
   ],
   "source": [
    "confidence_interval_lower_3"
   ]
  },
  {
   "cell_type": "code",
   "execution_count": 86,
   "metadata": {},
   "outputs": [
    {
     "data": {
      "text/plain": [
       "27.956652441261387"
      ]
     },
     "execution_count": 86,
     "metadata": {},
     "output_type": "execute_result"
    }
   ],
   "source": [
    "confidence_interval_upper_3"
   ]
  },
  {
   "cell_type": "code",
   "execution_count": 87,
   "metadata": {},
   "outputs": [
    {
     "data": {
      "text/plain": [
       "23.44591836734694"
      ]
     },
     "execution_count": 87,
     "metadata": {},
     "output_type": "execute_result"
    }
   ],
   "source": [
    "auto.mpg.mean()"
   ]
  },
  {
   "cell_type": "markdown",
   "metadata": {},
   "source": [
    "# Central Limit Theorem\n",
    "\n",
    "The Central Limit Theorem states: \n",
    ">When you add **a large number** of independent random variables, irrespective of the original distribution of these variables, **their sampling mean distribution tends towards a normal distribution** with mean equals to the mean of the original population and the standard deviation equals to $\\frac{\\sigma}{\\sqrt{n}}$.\n",
    "\n",
    "\n",
    "\n",
    "\n",
    "\n",
    "The standard error of the mean is the standard deviation of the sampling distribution.\n",
    "The issue is that a sample is not an exact replica of the population. We need to account for the fact that in order to make our estimate of the $\\mu$ value possible. Let's break it down:\n",
    "\n",
    "## Standard Error\n",
    "\n",
    "$$\\sigma _{\\bar{X}} = \\frac{\\sigma }{\\sqrt{n}}$$\n",
    "\n",
    "* $ \\sigma _{x}$ = standard error of $\\bar{x} $ (sample)\n",
    "* $ \\sigma $ = standard deviation of population\n",
    "\n",
    "distribution of the means of the samples\n",
    "\n",
    "\n",
    "**What if we do not know the population sigma?**<br>\n",
    "If we do not know the population standard deviation, we can approximate for it by used the sample standard deviation.\n",
    "\n",
    "$\\sigma _{x} ≈ \\frac{s}{\\sqrt{n}}$\n",
    "\n",
    "* s = sample standard deviation\n",
    "\n",
    "But in this case, distribution shape is not 'normal' anymore. In this case the shape will be call 'T-distribution'. We will study this later in more details.\n",
    "\n",
    "\n",
    "**Sample size impact on standard error of mean**<br>\n",
    "\n",
    "Q: How should sample size influence standard error of the mean?\n",
    "\n",
    "\n",
    "![error](./img/diminishing_error.png)\n",
    "Important implication: The Standard Error of the mean remains the same as long as the population standard deviation is known and sample size remains the same.\n",
    "\n",
    "\n",
    "__Note-1__ In the case of finite sampling, we need to adjust the formula for standard error:\n",
    "\n",
    "<img src=\"img/standard_deviation_of_x_bar.png\" width=\"650\">\n",
    "\n",
    "\n",
    "__Note-2__ Note that in CLT the shape of initial distribution is not important! With enough sample size we can always achieve a distribution very close to normal one.\n",
    "\n",
    "<img src=\"img/clt_with_different.png\" width=\"650\">\n",
    "\n",
    "\n",
    "## Interval Estimation - Confidence Intervals\n",
    "\n",
    "Q: Let's assume that we have a sample of size=49 and we know the standard deviation of the population is $\\sigma = 5$. If we know that sampling mean is $\\bar{x} = 20$. What might be a good estimate for the population mean if we also know that the population mean is bigger than 20?\n",
    "\n",
    "Hint: What do we mean by 'a good estimate'?"
   ]
  },
  {
   "cell_type": "markdown",
   "metadata": {},
   "source": [
    "[Z-scores](https://www.mathsisfun.com/data/standard-normal-distribution-table.html)\n",
    "\n",
    "<img src=\"img/interval_estimation.png\" width=\"650\">"
   ]
  },
  {
   "cell_type": "markdown",
   "metadata": {},
   "source": [
    "Objective is to create a 99% confidence interval around the sample mean of mpg."
   ]
  },
  {
   "cell_type": "code",
   "execution_count": 88,
   "metadata": {},
   "outputs": [
    {
     "data": {
      "text/plain": [
       "24.146666666666665"
      ]
     },
     "execution_count": 88,
     "metadata": {},
     "output_type": "execute_result"
    }
   ],
   "source": [
    "x_bar = sample.mpg.mean()\n",
    "x_bar"
   ]
  },
  {
   "cell_type": "code",
   "execution_count": 89,
   "metadata": {},
   "outputs": [
    {
     "data": {
      "text/plain": [
       "7.805007486571799"
      ]
     },
     "execution_count": 89,
     "metadata": {},
     "output_type": "execute_result"
    }
   ],
   "source": [
    "sigma_mpg = auto.mpg.std(ddof=1)\n",
    "sigma_mpg"
   ]
  },
  {
   "cell_type": "code",
   "execution_count": 90,
   "metadata": {},
   "outputs": [
    {
     "data": {
      "text/plain": [
       "30"
      ]
     },
     "execution_count": 90,
     "metadata": {},
     "output_type": "execute_result"
    }
   ],
   "source": [
    "n = sample.shape[0]\n",
    "n"
   ]
  },
  {
   "cell_type": "code",
   "execution_count": 91,
   "metadata": {},
   "outputs": [
    {
     "data": {
      "text/plain": [
       "1.4493535046933719"
      ]
     },
     "execution_count": 91,
     "metadata": {},
     "output_type": "execute_result"
    }
   ],
   "source": [
    "# step size\n",
    "sigma_sampling_mean = sigma / np.sqrt(n-1)\n",
    "sigma_sampling_mean"
   ]
  },
  {
   "cell_type": "code",
   "execution_count": 93,
   "metadata": {},
   "outputs": [],
   "source": [
    "import scipy.stats as stats"
   ]
  },
  {
   "cell_type": "code",
   "execution_count": 102,
   "metadata": {},
   "outputs": [
    {
     "data": {
      "text/plain": [
       "2.3263478740408408"
      ]
     },
     "execution_count": 102,
     "metadata": {},
     "output_type": "execute_result"
    }
   ],
   "source": [
    "# confidence level %99\n",
    "z_alpha_2 = -stats.norm.ppf(0.01)\n",
    "z_alpha_2"
   ]
  },
  {
   "cell_type": "code",
   "execution_count": 103,
   "metadata": {},
   "outputs": [
    {
     "data": {
      "text/plain": [
       "(20.7749662222896, 27.51836711104373)"
      ]
     },
     "execution_count": 103,
     "metadata": {},
     "output_type": "execute_result"
    }
   ],
   "source": [
    "(x_bar - z_alpha_2 * sigma_sampling_mean, x_bar + z_alpha_2 * sigma_sampling_mean)"
   ]
  },
  {
   "cell_type": "code",
   "execution_count": 106,
   "metadata": {},
   "outputs": [
    {
     "data": {
      "text/plain": [
       "(array([  1.,   0.,   1.,  11.,  15.,  32.,  63.,  86., 122., 142., 148.,\n",
       "        115.,  96.,  74.,  46.,  25.,  13.,   4.,   3.,   3.]),\n",
       " array([18.27666667, 18.775     , 19.27333333, 19.77166667, 20.27      ,\n",
       "        20.76833333, 21.26666667, 21.765     , 22.26333333, 22.76166667,\n",
       "        23.26      , 23.75833333, 24.25666667, 24.755     , 25.25333333,\n",
       "        25.75166667, 26.25      , 26.74833333, 27.24666667, 27.745     ,\n",
       "        28.24333333]),\n",
       " <a list of 20 Patch objects>)"
      ]
     },
     "execution_count": 106,
     "metadata": {},
     "output_type": "execute_result"
    },
    {
     "data": {
      "image/png": "[encoded data removed]",
      "text/plain": [
       "<Figure size 432x288 with 1 Axes>"
      ]
     },
     "metadata": {
      "needs_background": "light"
     },
     "output_type": "display_data"
    }
   ],
   "source": [
    "plt.hist(sample_means, bins=20)"
   ]
  },
  {
   "cell_type": "code",
   "execution_count": 107,
   "metadata": {},
   "outputs": [],
   "source": [
    "import scipy.stats as stats\n"
   ]
  },
  {
   "cell_type": "code",
   "execution_count": 108,
   "metadata": {},
   "outputs": [
    {
     "data": {
      "text/plain": [
       "1.2815515655446004"
      ]
     },
     "execution_count": 108,
     "metadata": {},
     "output_type": "execute_result"
    }
   ],
   "source": [
    "z_alpha_2 = -stats.norm.ppf(0.1)\n",
    "z_alpha_2"
   ]
  },
  {
   "cell_type": "code",
   "execution_count": 109,
   "metadata": {},
   "outputs": [
    {
     "data": {
      "text/plain": [
       "(22.28924541369932, 26.00408791963401)"
      ]
     },
     "execution_count": 109,
     "metadata": {},
     "output_type": "execute_result"
    }
   ],
   "source": [
    "(x_bar - z_alpha_2 * sigma_sampling_mean, x_bar + z_alpha_2 * sigma_sampling_mean)"
   ]
  },
  {
   "cell_type": "code",
   "execution_count": 110,
   "metadata": {},
   "outputs": [
    {
     "data": {
      "text/plain": [
       "23.44591836734694"
      ]
     },
     "execution_count": 110,
     "metadata": {},
     "output_type": "execute_result"
    }
   ],
   "source": [
    "auto.mpg.mean()"
   ]
  },
  {
   "cell_type": "code",
   "execution_count": 111,
   "metadata": {},
   "outputs": [
    {
     "name": "stdout",
     "output_type": "stream",
     "text": [
      "1.959963984540054\n"
     ]
    },
    {
     "data": {
      "image/png": "[encoded data removed]",
      "text/plain": [
       "<Figure size 432x288 with 1 Axes>"
      ]
     },
     "metadata": {
      "needs_background": "light"
     },
     "output_type": "display_data"
    }
   ],
   "source": [
    "import matplotlib.pyplot as plt\n",
    "import numpy as np\n",
    "import scipy.stats as stats\n",
    "import math\n",
    "%matplotlib inline\n",
    "\n",
    "\n",
    "# suppose population mu is 21\n",
    "mu = 21\n",
    "# sample mean gives us a point estimator\n",
    "point_estimator = 20\n",
    "\n",
    "# we know population variance is 49\n",
    "std_error = 5/(np.sqrt(49))\n",
    "\n",
    "\n",
    "# how much confidence do we require\n",
    "confidence = 0.95\n",
    "\n",
    "# alpha\n",
    "alpha = 1 - confidence\n",
    "\n",
    "# due to symmetry we divided alpha by 2\n",
    "# note that to find z_alpha_over_2 we used\n",
    "# standard normal distribution\n",
    "\n",
    "z_alpha_over_2 = np.abs(stats.norm.ppf(alpha/2))\n",
    "\n",
    "print(z_alpha_over_2)\n",
    "\n",
    "\n",
    "# upper bound gives us a value so that\n",
    "# 2*(the area between point_estimator - upper_bound) = confidence\n",
    "\n",
    "upper_bound = point_estimator + z_alpha_over_2 * std_error\n",
    "\n",
    "# now let's plot these\n",
    "\n",
    "# a normal distribution with mean=mu and std=sigma\n",
    "x = np.linspace(mu - 4*std_error, mu + 4*std_error, 100)\n",
    "plt.plot(x, stats.norm.pdf(x, mu, std_error))\n",
    "\n",
    "# a vertical line to mark point estimator\n",
    "plt.vlines(point_estimator, ymin=0,\n",
    "           ymax=stats.norm.pdf(point_estimator, mu, std_error))\n",
    "\n",
    "# a vertical line for population mu\n",
    "plt.vlines(mu, ymin=0,\n",
    "           ymax=stats.norm.pdf(mu, mu, std_error),\n",
    "           color='g')\n",
    "\n",
    "# a vertical line for upper bound\n",
    "plt.vlines(upper_bound, ymin=0,\n",
    "           ymax=stats.norm.pdf(upper_bound,\n",
    "                               mu, std_error))\n",
    "\n",
    "\n",
    "# fill the area between upper_bound and point_estimator\n",
    "plt.fill_between(x=np.linspace(point_estimator, upper_bound, 100),\n",
    "                 y1=stats.norm.pdf(np.linspace(point_estimator,\n",
    "                                               upper_bound, 100), mu, std_error),\n",
    "                 facecolor='blue',\n",
    "                 alpha=0.35,\n",
    "                 label='btwn point estimator and\\n upper bound')\n",
    "\n",
    "# fill the area between point estimator and the left of it\n",
    "plt.fill_between(x=np.linspace(mu - 4*std_error, point_estimator, 100),\n",
    "                 y1=stats.norm.pdf(np.linspace(\n",
    "                     mu - 4*std_error, point_estimator, 100), mu, std_error),\n",
    "                 facecolor='red',\n",
    "                 alpha=0.35,\n",
    "                 label='red area %.3f' % (stats.norm.cdf(point_estimator, mu, std_error)))\n",
    "\n",
    "plt.legend(loc='upper right')\n",
    "plt.show()"
   ]
  },
  {
   "cell_type": "markdown",
   "metadata": {},
   "source": [
    "CLT: as our number of sampling increases, the mean of the samples approaches the mean of the population."
   ]
  }
 ],
 "metadata": {
  "kernelspec": {
   "display_name": "Python 3",
   "language": "python",
   "name": "python3"
  },
  "language_info": {
   "codemirror_mode": {
    "name": "ipython",
    "version": 3
   },
   "file_extension": ".py",
   "mimetype": "text/x-python",
   "name": "python",
   "nbconvert_exporter": "python",
   "pygments_lexer": "ipython3",
   "version": "3.7.6"
  },
  "toc": {
   "base_numbering": 1,
   "nav_menu": {},
   "number_sections": true,
   "sideBar": true,
   "skip_h1_title": false,
   "title_cell": "Table of Contents",
   "title_sidebar": "Contents",
   "toc_cell": false,
   "toc_position": {},
   "toc_section_display": true,
   "toc_window_display": false
  }
 },
 "nbformat": 4,
 "nbformat_minor": 2
}
