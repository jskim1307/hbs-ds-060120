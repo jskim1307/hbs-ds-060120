{
 "cells": [
  {
   "cell_type": "markdown",
   "metadata": {},
   "source": [
    "# Agenda\n",
    "\n",
    "- Random Variables Definition\n",
    "    \n",
    "- Discrete Random Variables\n",
    "\n",
    "- Probability Mass Functions and Cumulative Mass Functions for Discrete Random Variables\n",
    "\n",
    "- Continuous Random Variables\n",
    "\n",
    "- Probability Density Functions and Cumulative Density Functions for Continuous Random Variables.\n"
   ]
  },
  {
   "cell_type": "markdown",
   "metadata": {},
   "source": [
    "## Random Variables\n",
    "\n",
    "Informally: \"A variable whose values depend on outcomes of a random phenomenon\"\n",
    "\n",
    "More informally: :) \"A map from a random process's outcomes to numbers\"\"\n",
    "\n",
    "What about formally? Let's see!\n",
    "\n",
    "(You really don't want to do this but it's your choice: [Read definition part from Wikipedia](https://en.wikipedia.org/wiki/Random_variable))\n",
    "\n",
    "### Examples\n",
    "\n",
    "Let's start with a traditional one:\n",
    "\n",
    "__Example:__\n",
    "Experiment: rolling two dice: \n",
    "\n",
    "X -- (This is usually how we denote a random variable.) {Sum of numbers on the dice}\n",
    "\n",
    "Q: what are the possible values of X:\n",
    "\n",
    "2 - 12, and any whole number in between\n",
    "\n",
    "__Example:__ \n",
    "\n",
    "Experiment: Tossing a coin \n",
    "\n",
    "X = 15 if it is Head and X =-10 if it is Tails.\n",
    "\n",
    "this is the mapping of numbers to the outcomes (head / tail)\n",
    "\n",
    "random variables are 15 and -10\n",
    "\n",
    "expected outcome: 2.5 = 15 * .5 + -10 * .5\n",
    "\n",
    "\n",
    "__Example:__ \n",
    "\n",
    "Experiment: Choosing a random person from Harvard Yard\n",
    "\n",
    "Y: This person's exact height in meters. \n",
    "\n",
    "Q: What are the possible values that Y can take?\n",
    "\n",
    "normal distribution, with two bumps\n",
    "\n",
    "\n",
    "__Example:__ \n",
    "\n",
    "Experiment: Pick a random point from the unit square.\n",
    "\n",
    "Z: The x-coordinate of the point\n",
    "\n",
    "Q: What are the possible values that Z-can take?\n",
    "\n",
    "\n",
    "1 >= z >= 0\n",
    "\n",
    "uniform distribution\n"
   ]
  },
  {
   "attachments": {
    "image.png": {
     "image/png": "[encoded data removed]"
    }
   },
   "cell_type": "markdown",
   "metadata": {},
   "source": [
    "![image.png](attachment:image.png)"
   ]
  },
  {
   "cell_type": "markdown",
   "metadata": {},
   "source": [
    "Now let's discuss the random variables in more concrete setting."
   ]
  },
  {
   "cell_type": "code",
   "execution_count": 1,
   "metadata": {},
   "outputs": [],
   "source": [
    "import itertools  # iterator tools. built within python.\n",
    "import numpy as np\n",
    "\n",
    "# let's create a deck of cards\n",
    "suits = ['diamonds', 'clubs', 'hearts', 'spades']\n",
    "\n",
    "runs = ['A', '2', '3', '4', '5', '6', '7', '8', '9', '10', 'J', 'Q', 'K']\n",
    "\n",
    "cards = list(itertools.product(suits, runs))\n",
    "\n",
    "# Find all possible 2 cards\n"
   ]
  },
  {
   "cell_type": "code",
   "execution_count": 2,
   "metadata": {},
   "outputs": [
    {
     "data": {
      "text/plain": [
       "52"
      ]
     },
     "execution_count": 2,
     "metadata": {},
     "output_type": "execute_result"
    }
   ],
   "source": [
    "len(cards)"
   ]
  },
  {
   "cell_type": "code",
   "execution_count": 6,
   "metadata": {},
   "outputs": [
    {
     "data": {
      "text/plain": [
       "[('diamonds', 'A'),\n",
       " ('diamonds', '2'),\n",
       " ('diamonds', '3'),\n",
       " ('diamonds', '4'),\n",
       " ('diamonds', '5'),\n",
       " ('diamonds', '6'),\n",
       " ('diamonds', '7'),\n",
       " ('diamonds', '8'),\n",
       " ('diamonds', '9'),\n",
       " ('diamonds', '10'),\n",
       " ('diamonds', 'J'),\n",
       " ('diamonds', 'Q'),\n",
       " ('diamonds', 'K'),\n",
       " ('clubs', 'A'),\n",
       " ('clubs', '2')]"
      ]
     },
     "execution_count": 6,
     "metadata": {},
     "output_type": "execute_result"
    }
   ],
   "source": [
    "cards[:15]"
   ]
  },
  {
   "cell_type": "code",
   "execution_count": 8,
   "metadata": {},
   "outputs": [
    {
     "data": {
      "text/plain": [
       "[(('diamonds', 'A'), ('diamonds', '2')),\n",
       " (('diamonds', 'A'), ('diamonds', '3')),\n",
       " (('diamonds', 'A'), ('diamonds', '4')),\n",
       " (('diamonds', 'A'), ('diamonds', '5')),\n",
       " (('diamonds', 'A'), ('diamonds', '6')),\n",
       " (('diamonds', 'A'), ('diamonds', '7')),\n",
       " (('diamonds', 'A'), ('diamonds', '8')),\n",
       " (('diamonds', 'A'), ('diamonds', '9')),\n",
       " (('diamonds', 'A'), ('diamonds', '10')),\n",
       " (('diamonds', 'A'), ('diamonds', 'J')),\n",
       " (('diamonds', 'A'), ('diamonds', 'Q')),\n",
       " (('diamonds', 'A'), ('diamonds', 'K')),\n",
       " (('diamonds', 'A'), ('clubs', 'A')),\n",
       " (('diamonds', 'A'), ('clubs', '2')),\n",
       " (('diamonds', 'A'), ('clubs', '3')),\n",
       " (('diamonds', 'A'), ('clubs', '4')),\n",
       " (('diamonds', 'A'), ('clubs', '5')),\n",
       " (('diamonds', 'A'), ('clubs', '6')),\n",
       " (('diamonds', 'A'), ('clubs', '7')),\n",
       " (('diamonds', 'A'), ('clubs', '8')),\n",
       " (('diamonds', 'A'), ('clubs', '9')),\n",
       " (('diamonds', 'A'), ('clubs', '10')),\n",
       " (('diamonds', 'A'), ('clubs', 'J')),\n",
       " (('diamonds', 'A'), ('clubs', 'Q')),\n",
       " (('diamonds', 'A'), ('clubs', 'K')),\n",
       " (('diamonds', 'A'), ('hearts', 'A')),\n",
       " (('diamonds', 'A'), ('hearts', '2')),\n",
       " (('diamonds', 'A'), ('hearts', '3')),\n",
       " (('diamonds', 'A'), ('hearts', '4')),\n",
       " (('diamonds', 'A'), ('hearts', '5')),\n",
       " (('diamonds', 'A'), ('hearts', '6')),\n",
       " (('diamonds', 'A'), ('hearts', '7')),\n",
       " (('diamonds', 'A'), ('hearts', '8')),\n",
       " (('diamonds', 'A'), ('hearts', '9')),\n",
       " (('diamonds', 'A'), ('hearts', '10')),\n",
       " (('diamonds', 'A'), ('hearts', 'J')),\n",
       " (('diamonds', 'A'), ('hearts', 'Q')),\n",
       " (('diamonds', 'A'), ('hearts', 'K')),\n",
       " (('diamonds', 'A'), ('spades', 'A')),\n",
       " (('diamonds', 'A'), ('spades', '2')),\n",
       " (('diamonds', 'A'), ('spades', '3')),\n",
       " (('diamonds', 'A'), ('spades', '4')),\n",
       " (('diamonds', 'A'), ('spades', '5')),\n",
       " (('diamonds', 'A'), ('spades', '6')),\n",
       " (('diamonds', 'A'), ('spades', '7')),\n",
       " (('diamonds', 'A'), ('spades', '8')),\n",
       " (('diamonds', 'A'), ('spades', '9')),\n",
       " (('diamonds', 'A'), ('spades', '10')),\n",
       " (('diamonds', 'A'), ('spades', 'J')),\n",
       " (('diamonds', 'A'), ('spades', 'Q')),\n",
       " (('diamonds', 'A'), ('spades', 'K')),\n",
       " (('diamonds', '2'), ('diamonds', '3')),\n",
       " (('diamonds', '2'), ('diamonds', '4')),\n",
       " (('diamonds', '2'), ('diamonds', '5')),\n",
       " (('diamonds', '2'), ('diamonds', '6')),\n",
       " (('diamonds', '2'), ('diamonds', '7')),\n",
       " (('diamonds', '2'), ('diamonds', '8')),\n",
       " (('diamonds', '2'), ('diamonds', '9')),\n",
       " (('diamonds', '2'), ('diamonds', '10')),\n",
       " (('diamonds', '2'), ('diamonds', 'J')),\n",
       " (('diamonds', '2'), ('diamonds', 'Q')),\n",
       " (('diamonds', '2'), ('diamonds', 'K')),\n",
       " (('diamonds', '2'), ('clubs', 'A')),\n",
       " (('diamonds', '2'), ('clubs', '2')),\n",
       " (('diamonds', '2'), ('clubs', '3')),\n",
       " (('diamonds', '2'), ('clubs', '4')),\n",
       " (('diamonds', '2'), ('clubs', '5')),\n",
       " (('diamonds', '2'), ('clubs', '6')),\n",
       " (('diamonds', '2'), ('clubs', '7')),\n",
       " (('diamonds', '2'), ('clubs', '8')),\n",
       " (('diamonds', '2'), ('clubs', '9')),\n",
       " (('diamonds', '2'), ('clubs', '10')),\n",
       " (('diamonds', '2'), ('clubs', 'J')),\n",
       " (('diamonds', '2'), ('clubs', 'Q')),\n",
       " (('diamonds', '2'), ('clubs', 'K')),\n",
       " (('diamonds', '2'), ('hearts', 'A')),\n",
       " (('diamonds', '2'), ('hearts', '2')),\n",
       " (('diamonds', '2'), ('hearts', '3')),\n",
       " (('diamonds', '2'), ('hearts', '4')),\n",
       " (('diamonds', '2'), ('hearts', '5')),\n",
       " (('diamonds', '2'), ('hearts', '6')),\n",
       " (('diamonds', '2'), ('hearts', '7')),\n",
       " (('diamonds', '2'), ('hearts', '8')),\n",
       " (('diamonds', '2'), ('hearts', '9')),\n",
       " (('diamonds', '2'), ('hearts', '10')),\n",
       " (('diamonds', '2'), ('hearts', 'J')),\n",
       " (('diamonds', '2'), ('hearts', 'Q')),\n",
       " (('diamonds', '2'), ('hearts', 'K')),\n",
       " (('diamonds', '2'), ('spades', 'A')),\n",
       " (('diamonds', '2'), ('spades', '2')),\n",
       " (('diamonds', '2'), ('spades', '3')),\n",
       " (('diamonds', '2'), ('spades', '4')),\n",
       " (('diamonds', '2'), ('spades', '5')),\n",
       " (('diamonds', '2'), ('spades', '6')),\n",
       " (('diamonds', '2'), ('spades', '7')),\n",
       " (('diamonds', '2'), ('spades', '8')),\n",
       " (('diamonds', '2'), ('spades', '9')),\n",
       " (('diamonds', '2'), ('spades', '10')),\n",
       " (('diamonds', '2'), ('spades', 'J')),\n",
       " (('diamonds', '2'), ('spades', 'Q')),\n",
       " (('diamonds', '2'), ('spades', 'K')),\n",
       " (('diamonds', '3'), ('diamonds', '4')),\n",
       " (('diamonds', '3'), ('diamonds', '5')),\n",
       " (('diamonds', '3'), ('diamonds', '6')),\n",
       " (('diamonds', '3'), ('diamonds', '7')),\n",
       " (('diamonds', '3'), ('diamonds', '8')),\n",
       " (('diamonds', '3'), ('diamonds', '9')),\n",
       " (('diamonds', '3'), ('diamonds', '10')),\n",
       " (('diamonds', '3'), ('diamonds', 'J')),\n",
       " (('diamonds', '3'), ('diamonds', 'Q')),\n",
       " (('diamonds', '3'), ('diamonds', 'K')),\n",
       " (('diamonds', '3'), ('clubs', 'A')),\n",
       " (('diamonds', '3'), ('clubs', '2')),\n",
       " (('diamonds', '3'), ('clubs', '3')),\n",
       " (('diamonds', '3'), ('clubs', '4')),\n",
       " (('diamonds', '3'), ('clubs', '5')),\n",
       " (('diamonds', '3'), ('clubs', '6')),\n",
       " (('diamonds', '3'), ('clubs', '7')),\n",
       " (('diamonds', '3'), ('clubs', '8')),\n",
       " (('diamonds', '3'), ('clubs', '9')),\n",
       " (('diamonds', '3'), ('clubs', '10')),\n",
       " (('diamonds', '3'), ('clubs', 'J')),\n",
       " (('diamonds', '3'), ('clubs', 'Q')),\n",
       " (('diamonds', '3'), ('clubs', 'K')),\n",
       " (('diamonds', '3'), ('hearts', 'A')),\n",
       " (('diamonds', '3'), ('hearts', '2')),\n",
       " (('diamonds', '3'), ('hearts', '3')),\n",
       " (('diamonds', '3'), ('hearts', '4')),\n",
       " (('diamonds', '3'), ('hearts', '5')),\n",
       " (('diamonds', '3'), ('hearts', '6')),\n",
       " (('diamonds', '3'), ('hearts', '7')),\n",
       " (('diamonds', '3'), ('hearts', '8')),\n",
       " (('diamonds', '3'), ('hearts', '9')),\n",
       " (('diamonds', '3'), ('hearts', '10')),\n",
       " (('diamonds', '3'), ('hearts', 'J')),\n",
       " (('diamonds', '3'), ('hearts', 'Q')),\n",
       " (('diamonds', '3'), ('hearts', 'K')),\n",
       " (('diamonds', '3'), ('spades', 'A')),\n",
       " (('diamonds', '3'), ('spades', '2')),\n",
       " (('diamonds', '3'), ('spades', '3')),\n",
       " (('diamonds', '3'), ('spades', '4')),\n",
       " (('diamonds', '3'), ('spades', '5')),\n",
       " (('diamonds', '3'), ('spades', '6')),\n",
       " (('diamonds', '3'), ('spades', '7')),\n",
       " (('diamonds', '3'), ('spades', '8')),\n",
       " (('diamonds', '3'), ('spades', '9')),\n",
       " (('diamonds', '3'), ('spades', '10')),\n",
       " (('diamonds', '3'), ('spades', 'J')),\n",
       " (('diamonds', '3'), ('spades', 'Q')),\n",
       " (('diamonds', '3'), ('spades', 'K')),\n",
       " (('diamonds', '4'), ('diamonds', '5')),\n",
       " (('diamonds', '4'), ('diamonds', '6')),\n",
       " (('diamonds', '4'), ('diamonds', '7')),\n",
       " (('diamonds', '4'), ('diamonds', '8')),\n",
       " (('diamonds', '4'), ('diamonds', '9')),\n",
       " (('diamonds', '4'), ('diamonds', '10')),\n",
       " (('diamonds', '4'), ('diamonds', 'J')),\n",
       " (('diamonds', '4'), ('diamonds', 'Q')),\n",
       " (('diamonds', '4'), ('diamonds', 'K')),\n",
       " (('diamonds', '4'), ('clubs', 'A')),\n",
       " (('diamonds', '4'), ('clubs', '2')),\n",
       " (('diamonds', '4'), ('clubs', '3')),\n",
       " (('diamonds', '4'), ('clubs', '4')),\n",
       " (('diamonds', '4'), ('clubs', '5')),\n",
       " (('diamonds', '4'), ('clubs', '6')),\n",
       " (('diamonds', '4'), ('clubs', '7')),\n",
       " (('diamonds', '4'), ('clubs', '8')),\n",
       " (('diamonds', '4'), ('clubs', '9')),\n",
       " (('diamonds', '4'), ('clubs', '10')),\n",
       " (('diamonds', '4'), ('clubs', 'J')),\n",
       " (('diamonds', '4'), ('clubs', 'Q')),\n",
       " (('diamonds', '4'), ('clubs', 'K')),\n",
       " (('diamonds', '4'), ('hearts', 'A')),\n",
       " (('diamonds', '4'), ('hearts', '2')),\n",
       " (('diamonds', '4'), ('hearts', '3')),\n",
       " (('diamonds', '4'), ('hearts', '4')),\n",
       " (('diamonds', '4'), ('hearts', '5')),\n",
       " (('diamonds', '4'), ('hearts', '6')),\n",
       " (('diamonds', '4'), ('hearts', '7')),\n",
       " (('diamonds', '4'), ('hearts', '8')),\n",
       " (('diamonds', '4'), ('hearts', '9')),\n",
       " (('diamonds', '4'), ('hearts', '10')),\n",
       " (('diamonds', '4'), ('hearts', 'J')),\n",
       " (('diamonds', '4'), ('hearts', 'Q')),\n",
       " (('diamonds', '4'), ('hearts', 'K')),\n",
       " (('diamonds', '4'), ('spades', 'A')),\n",
       " (('diamonds', '4'), ('spades', '2')),\n",
       " (('diamonds', '4'), ('spades', '3')),\n",
       " (('diamonds', '4'), ('spades', '4')),\n",
       " (('diamonds', '4'), ('spades', '5')),\n",
       " (('diamonds', '4'), ('spades', '6')),\n",
       " (('diamonds', '4'), ('spades', '7')),\n",
       " (('diamonds', '4'), ('spades', '8')),\n",
       " (('diamonds', '4'), ('spades', '9')),\n",
       " (('diamonds', '4'), ('spades', '10')),\n",
       " (('diamonds', '4'), ('spades', 'J')),\n",
       " (('diamonds', '4'), ('spades', 'Q')),\n",
       " (('diamonds', '4'), ('spades', 'K')),\n",
       " (('diamonds', '5'), ('diamonds', '6')),\n",
       " (('diamonds', '5'), ('diamonds', '7')),\n",
       " (('diamonds', '5'), ('diamonds', '8')),\n",
       " (('diamonds', '5'), ('diamonds', '9')),\n",
       " (('diamonds', '5'), ('diamonds', '10')),\n",
       " (('diamonds', '5'), ('diamonds', 'J')),\n",
       " (('diamonds', '5'), ('diamonds', 'Q')),\n",
       " (('diamonds', '5'), ('diamonds', 'K')),\n",
       " (('diamonds', '5'), ('clubs', 'A')),\n",
       " (('diamonds', '5'), ('clubs', '2')),\n",
       " (('diamonds', '5'), ('clubs', '3')),\n",
       " (('diamonds', '5'), ('clubs', '4')),\n",
       " (('diamonds', '5'), ('clubs', '5')),\n",
       " (('diamonds', '5'), ('clubs', '6')),\n",
       " (('diamonds', '5'), ('clubs', '7')),\n",
       " (('diamonds', '5'), ('clubs', '8')),\n",
       " (('diamonds', '5'), ('clubs', '9')),\n",
       " (('diamonds', '5'), ('clubs', '10')),\n",
       " (('diamonds', '5'), ('clubs', 'J')),\n",
       " (('diamonds', '5'), ('clubs', 'Q')),\n",
       " (('diamonds', '5'), ('clubs', 'K')),\n",
       " (('diamonds', '5'), ('hearts', 'A')),\n",
       " (('diamonds', '5'), ('hearts', '2')),\n",
       " (('diamonds', '5'), ('hearts', '3')),\n",
       " (('diamonds', '5'), ('hearts', '4')),\n",
       " (('diamonds', '5'), ('hearts', '5')),\n",
       " (('diamonds', '5'), ('hearts', '6')),\n",
       " (('diamonds', '5'), ('hearts', '7')),\n",
       " (('diamonds', '5'), ('hearts', '8')),\n",
       " (('diamonds', '5'), ('hearts', '9')),\n",
       " (('diamonds', '5'), ('hearts', '10')),\n",
       " (('diamonds', '5'), ('hearts', 'J')),\n",
       " (('diamonds', '5'), ('hearts', 'Q')),\n",
       " (('diamonds', '5'), ('hearts', 'K')),\n",
       " (('diamonds', '5'), ('spades', 'A')),\n",
       " (('diamonds', '5'), ('spades', '2')),\n",
       " (('diamonds', '5'), ('spades', '3')),\n",
       " (('diamonds', '5'), ('spades', '4')),\n",
       " (('diamonds', '5'), ('spades', '5')),\n",
       " (('diamonds', '5'), ('spades', '6')),\n",
       " (('diamonds', '5'), ('spades', '7')),\n",
       " (('diamonds', '5'), ('spades', '8')),\n",
       " (('diamonds', '5'), ('spades', '9')),\n",
       " (('diamonds', '5'), ('spades', '10')),\n",
       " (('diamonds', '5'), ('spades', 'J')),\n",
       " (('diamonds', '5'), ('spades', 'Q')),\n",
       " (('diamonds', '5'), ('spades', 'K')),\n",
       " (('diamonds', '6'), ('diamonds', '7')),\n",
       " (('diamonds', '6'), ('diamonds', '8')),\n",
       " (('diamonds', '6'), ('diamonds', '9')),\n",
       " (('diamonds', '6'), ('diamonds', '10')),\n",
       " (('diamonds', '6'), ('diamonds', 'J')),\n",
       " (('diamonds', '6'), ('diamonds', 'Q')),\n",
       " (('diamonds', '6'), ('diamonds', 'K')),\n",
       " (('diamonds', '6'), ('clubs', 'A')),\n",
       " (('diamonds', '6'), ('clubs', '2')),\n",
       " (('diamonds', '6'), ('clubs', '3')),\n",
       " (('diamonds', '6'), ('clubs', '4')),\n",
       " (('diamonds', '6'), ('clubs', '5')),\n",
       " (('diamonds', '6'), ('clubs', '6')),\n",
       " (('diamonds', '6'), ('clubs', '7')),\n",
       " (('diamonds', '6'), ('clubs', '8')),\n",
       " (('diamonds', '6'), ('clubs', '9')),\n",
       " (('diamonds', '6'), ('clubs', '10')),\n",
       " (('diamonds', '6'), ('clubs', 'J')),\n",
       " (('diamonds', '6'), ('clubs', 'Q')),\n",
       " (('diamonds', '6'), ('clubs', 'K')),\n",
       " (('diamonds', '6'), ('hearts', 'A')),\n",
       " (('diamonds', '6'), ('hearts', '2')),\n",
       " (('diamonds', '6'), ('hearts', '3')),\n",
       " (('diamonds', '6'), ('hearts', '4')),\n",
       " (('diamonds', '6'), ('hearts', '5')),\n",
       " (('diamonds', '6'), ('hearts', '6')),\n",
       " (('diamonds', '6'), ('hearts', '7')),\n",
       " (('diamonds', '6'), ('hearts', '8')),\n",
       " (('diamonds', '6'), ('hearts', '9')),\n",
       " (('diamonds', '6'), ('hearts', '10')),\n",
       " (('diamonds', '6'), ('hearts', 'J')),\n",
       " (('diamonds', '6'), ('hearts', 'Q')),\n",
       " (('diamonds', '6'), ('hearts', 'K')),\n",
       " (('diamonds', '6'), ('spades', 'A')),\n",
       " (('diamonds', '6'), ('spades', '2')),\n",
       " (('diamonds', '6'), ('spades', '3')),\n",
       " (('diamonds', '6'), ('spades', '4')),\n",
       " (('diamonds', '6'), ('spades', '5')),\n",
       " (('diamonds', '6'), ('spades', '6')),\n",
       " (('diamonds', '6'), ('spades', '7')),\n",
       " (('diamonds', '6'), ('spades', '8')),\n",
       " (('diamonds', '6'), ('spades', '9')),\n",
       " (('diamonds', '6'), ('spades', '10')),\n",
       " (('diamonds', '6'), ('spades', 'J')),\n",
       " (('diamonds', '6'), ('spades', 'Q')),\n",
       " (('diamonds', '6'), ('spades', 'K')),\n",
       " (('diamonds', '7'), ('diamonds', '8')),\n",
       " (('diamonds', '7'), ('diamonds', '9')),\n",
       " (('diamonds', '7'), ('diamonds', '10')),\n",
       " (('diamonds', '7'), ('diamonds', 'J')),\n",
       " (('diamonds', '7'), ('diamonds', 'Q')),\n",
       " (('diamonds', '7'), ('diamonds', 'K')),\n",
       " (('diamonds', '7'), ('clubs', 'A')),\n",
       " (('diamonds', '7'), ('clubs', '2')),\n",
       " (('diamonds', '7'), ('clubs', '3')),\n",
       " (('diamonds', '7'), ('clubs', '4')),\n",
       " (('diamonds', '7'), ('clubs', '5')),\n",
       " (('diamonds', '7'), ('clubs', '6')),\n",
       " (('diamonds', '7'), ('clubs', '7')),\n",
       " (('diamonds', '7'), ('clubs', '8')),\n",
       " (('diamonds', '7'), ('clubs', '9')),\n",
       " (('diamonds', '7'), ('clubs', '10')),\n",
       " (('diamonds', '7'), ('clubs', 'J')),\n",
       " (('diamonds', '7'), ('clubs', 'Q')),\n",
       " (('diamonds', '7'), ('clubs', 'K')),\n",
       " (('diamonds', '7'), ('hearts', 'A')),\n",
       " (('diamonds', '7'), ('hearts', '2')),\n",
       " (('diamonds', '7'), ('hearts', '3')),\n",
       " (('diamonds', '7'), ('hearts', '4')),\n",
       " (('diamonds', '7'), ('hearts', '5')),\n",
       " (('diamonds', '7'), ('hearts', '6')),\n",
       " (('diamonds', '7'), ('hearts', '7')),\n",
       " (('diamonds', '7'), ('hearts', '8')),\n",
       " (('diamonds', '7'), ('hearts', '9')),\n",
       " (('diamonds', '7'), ('hearts', '10')),\n",
       " (('diamonds', '7'), ('hearts', 'J')),\n",
       " (('diamonds', '7'), ('hearts', 'Q')),\n",
       " (('diamonds', '7'), ('hearts', 'K')),\n",
       " (('diamonds', '7'), ('spades', 'A')),\n",
       " (('diamonds', '7'), ('spades', '2')),\n",
       " (('diamonds', '7'), ('spades', '3')),\n",
       " (('diamonds', '7'), ('spades', '4')),\n",
       " (('diamonds', '7'), ('spades', '5')),\n",
       " (('diamonds', '7'), ('spades', '6')),\n",
       " (('diamonds', '7'), ('spades', '7')),\n",
       " (('diamonds', '7'), ('spades', '8')),\n",
       " (('diamonds', '7'), ('spades', '9')),\n",
       " (('diamonds', '7'), ('spades', '10')),\n",
       " (('diamonds', '7'), ('spades', 'J')),\n",
       " (('diamonds', '7'), ('spades', 'Q')),\n",
       " (('diamonds', '7'), ('spades', 'K')),\n",
       " (('diamonds', '8'), ('diamonds', '9')),\n",
       " (('diamonds', '8'), ('diamonds', '10')),\n",
       " (('diamonds', '8'), ('diamonds', 'J')),\n",
       " (('diamonds', '8'), ('diamonds', 'Q')),\n",
       " (('diamonds', '8'), ('diamonds', 'K')),\n",
       " (('diamonds', '8'), ('clubs', 'A')),\n",
       " (('diamonds', '8'), ('clubs', '2')),\n",
       " (('diamonds', '8'), ('clubs', '3')),\n",
       " (('diamonds', '8'), ('clubs', '4')),\n",
       " (('diamonds', '8'), ('clubs', '5')),\n",
       " (('diamonds', '8'), ('clubs', '6')),\n",
       " (('diamonds', '8'), ('clubs', '7')),\n",
       " (('diamonds', '8'), ('clubs', '8')),\n",
       " (('diamonds', '8'), ('clubs', '9')),\n",
       " (('diamonds', '8'), ('clubs', '10')),\n",
       " (('diamonds', '8'), ('clubs', 'J')),\n",
       " (('diamonds', '8'), ('clubs', 'Q')),\n",
       " (('diamonds', '8'), ('clubs', 'K')),\n",
       " (('diamonds', '8'), ('hearts', 'A')),\n",
       " (('diamonds', '8'), ('hearts', '2')),\n",
       " (('diamonds', '8'), ('hearts', '3')),\n",
       " (('diamonds', '8'), ('hearts', '4')),\n",
       " (('diamonds', '8'), ('hearts', '5')),\n",
       " (('diamonds', '8'), ('hearts', '6')),\n",
       " (('diamonds', '8'), ('hearts', '7')),\n",
       " (('diamonds', '8'), ('hearts', '8')),\n",
       " (('diamonds', '8'), ('hearts', '9')),\n",
       " (('diamonds', '8'), ('hearts', '10')),\n",
       " (('diamonds', '8'), ('hearts', 'J')),\n",
       " (('diamonds', '8'), ('hearts', 'Q')),\n",
       " (('diamonds', '8'), ('hearts', 'K')),\n",
       " (('diamonds', '8'), ('spades', 'A')),\n",
       " (('diamonds', '8'), ('spades', '2')),\n",
       " (('diamonds', '8'), ('spades', '3')),\n",
       " (('diamonds', '8'), ('spades', '4')),\n",
       " (('diamonds', '8'), ('spades', '5')),\n",
       " (('diamonds', '8'), ('spades', '6')),\n",
       " (('diamonds', '8'), ('spades', '7')),\n",
       " (('diamonds', '8'), ('spades', '8')),\n",
       " (('diamonds', '8'), ('spades', '9')),\n",
       " (('diamonds', '8'), ('spades', '10')),\n",
       " (('diamonds', '8'), ('spades', 'J')),\n",
       " (('diamonds', '8'), ('spades', 'Q')),\n",
       " (('diamonds', '8'), ('spades', 'K')),\n",
       " (('diamonds', '9'), ('diamonds', '10')),\n",
       " (('diamonds', '9'), ('diamonds', 'J')),\n",
       " (('diamonds', '9'), ('diamonds', 'Q')),\n",
       " (('diamonds', '9'), ('diamonds', 'K')),\n",
       " (('diamonds', '9'), ('clubs', 'A')),\n",
       " (('diamonds', '9'), ('clubs', '2')),\n",
       " (('diamonds', '9'), ('clubs', '3')),\n",
       " (('diamonds', '9'), ('clubs', '4')),\n",
       " (('diamonds', '9'), ('clubs', '5')),\n",
       " (('diamonds', '9'), ('clubs', '6')),\n",
       " (('diamonds', '9'), ('clubs', '7')),\n",
       " (('diamonds', '9'), ('clubs', '8')),\n",
       " (('diamonds', '9'), ('clubs', '9')),\n",
       " (('diamonds', '9'), ('clubs', '10')),\n",
       " (('diamonds', '9'), ('clubs', 'J')),\n",
       " (('diamonds', '9'), ('clubs', 'Q')),\n",
       " (('diamonds', '9'), ('clubs', 'K')),\n",
       " (('diamonds', '9'), ('hearts', 'A')),\n",
       " (('diamonds', '9'), ('hearts', '2')),\n",
       " (('diamonds', '9'), ('hearts', '3')),\n",
       " (('diamonds', '9'), ('hearts', '4')),\n",
       " (('diamonds', '9'), ('hearts', '5')),\n",
       " (('diamonds', '9'), ('hearts', '6')),\n",
       " (('diamonds', '9'), ('hearts', '7')),\n",
       " (('diamonds', '9'), ('hearts', '8')),\n",
       " (('diamonds', '9'), ('hearts', '9')),\n",
       " (('diamonds', '9'), ('hearts', '10')),\n",
       " (('diamonds', '9'), ('hearts', 'J')),\n",
       " (('diamonds', '9'), ('hearts', 'Q')),\n",
       " (('diamonds', '9'), ('hearts', 'K')),\n",
       " (('diamonds', '9'), ('spades', 'A')),\n",
       " (('diamonds', '9'), ('spades', '2')),\n",
       " (('diamonds', '9'), ('spades', '3')),\n",
       " (('diamonds', '9'), ('spades', '4')),\n",
       " (('diamonds', '9'), ('spades', '5')),\n",
       " (('diamonds', '9'), ('spades', '6')),\n",
       " (('diamonds', '9'), ('spades', '7')),\n",
       " (('diamonds', '9'), ('spades', '8')),\n",
       " (('diamonds', '9'), ('spades', '9')),\n",
       " (('diamonds', '9'), ('spades', '10')),\n",
       " (('diamonds', '9'), ('spades', 'J')),\n",
       " (('diamonds', '9'), ('spades', 'Q')),\n",
       " (('diamonds', '9'), ('spades', 'K')),\n",
       " (('diamonds', '10'), ('diamonds', 'J')),\n",
       " (('diamonds', '10'), ('diamonds', 'Q')),\n",
       " (('diamonds', '10'), ('diamonds', 'K')),\n",
       " (('diamonds', '10'), ('clubs', 'A')),\n",
       " (('diamonds', '10'), ('clubs', '2')),\n",
       " (('diamonds', '10'), ('clubs', '3')),\n",
       " (('diamonds', '10'), ('clubs', '4')),\n",
       " (('diamonds', '10'), ('clubs', '5')),\n",
       " (('diamonds', '10'), ('clubs', '6')),\n",
       " (('diamonds', '10'), ('clubs', '7')),\n",
       " (('diamonds', '10'), ('clubs', '8')),\n",
       " (('diamonds', '10'), ('clubs', '9')),\n",
       " (('diamonds', '10'), ('clubs', '10')),\n",
       " (('diamonds', '10'), ('clubs', 'J')),\n",
       " (('diamonds', '10'), ('clubs', 'Q')),\n",
       " (('diamonds', '10'), ('clubs', 'K')),\n",
       " (('diamonds', '10'), ('hearts', 'A')),\n",
       " (('diamonds', '10'), ('hearts', '2')),\n",
       " (('diamonds', '10'), ('hearts', '3')),\n",
       " (('diamonds', '10'), ('hearts', '4')),\n",
       " (('diamonds', '10'), ('hearts', '5')),\n",
       " (('diamonds', '10'), ('hearts', '6')),\n",
       " (('diamonds', '10'), ('hearts', '7')),\n",
       " (('diamonds', '10'), ('hearts', '8')),\n",
       " (('diamonds', '10'), ('hearts', '9')),\n",
       " (('diamonds', '10'), ('hearts', '10')),\n",
       " (('diamonds', '10'), ('hearts', 'J')),\n",
       " (('diamonds', '10'), ('hearts', 'Q')),\n",
       " (('diamonds', '10'), ('hearts', 'K')),\n",
       " (('diamonds', '10'), ('spades', 'A')),\n",
       " (('diamonds', '10'), ('spades', '2')),\n",
       " (('diamonds', '10'), ('spades', '3')),\n",
       " (('diamonds', '10'), ('spades', '4')),\n",
       " (('diamonds', '10'), ('spades', '5')),\n",
       " (('diamonds', '10'), ('spades', '6')),\n",
       " (('diamonds', '10'), ('spades', '7')),\n",
       " (('diamonds', '10'), ('spades', '8')),\n",
       " (('diamonds', '10'), ('spades', '9')),\n",
       " (('diamonds', '10'), ('spades', '10')),\n",
       " (('diamonds', '10'), ('spades', 'J')),\n",
       " (('diamonds', '10'), ('spades', 'Q')),\n",
       " (('diamonds', '10'), ('spades', 'K')),\n",
       " (('diamonds', 'J'), ('diamonds', 'Q')),\n",
       " (('diamonds', 'J'), ('diamonds', 'K')),\n",
       " (('diamonds', 'J'), ('clubs', 'A')),\n",
       " (('diamonds', 'J'), ('clubs', '2')),\n",
       " (('diamonds', 'J'), ('clubs', '3')),\n",
       " (('diamonds', 'J'), ('clubs', '4')),\n",
       " (('diamonds', 'J'), ('clubs', '5')),\n",
       " (('diamonds', 'J'), ('clubs', '6')),\n",
       " (('diamonds', 'J'), ('clubs', '7')),\n",
       " (('diamonds', 'J'), ('clubs', '8')),\n",
       " (('diamonds', 'J'), ('clubs', '9')),\n",
       " (('diamonds', 'J'), ('clubs', '10')),\n",
       " (('diamonds', 'J'), ('clubs', 'J')),\n",
       " (('diamonds', 'J'), ('clubs', 'Q')),\n",
       " (('diamonds', 'J'), ('clubs', 'K')),\n",
       " (('diamonds', 'J'), ('hearts', 'A')),\n",
       " (('diamonds', 'J'), ('hearts', '2')),\n",
       " (('diamonds', 'J'), ('hearts', '3')),\n",
       " (('diamonds', 'J'), ('hearts', '4')),\n",
       " (('diamonds', 'J'), ('hearts', '5')),\n",
       " (('diamonds', 'J'), ('hearts', '6')),\n",
       " (('diamonds', 'J'), ('hearts', '7')),\n",
       " (('diamonds', 'J'), ('hearts', '8')),\n",
       " (('diamonds', 'J'), ('hearts', '9')),\n",
       " (('diamonds', 'J'), ('hearts', '10')),\n",
       " (('diamonds', 'J'), ('hearts', 'J')),\n",
       " (('diamonds', 'J'), ('hearts', 'Q')),\n",
       " (('diamonds', 'J'), ('hearts', 'K')),\n",
       " (('diamonds', 'J'), ('spades', 'A')),\n",
       " (('diamonds', 'J'), ('spades', '2')),\n",
       " (('diamonds', 'J'), ('spades', '3')),\n",
       " (('diamonds', 'J'), ('spades', '4')),\n",
       " (('diamonds', 'J'), ('spades', '5')),\n",
       " (('diamonds', 'J'), ('spades', '6')),\n",
       " (('diamonds', 'J'), ('spades', '7')),\n",
       " (('diamonds', 'J'), ('spades', '8')),\n",
       " (('diamonds', 'J'), ('spades', '9')),\n",
       " (('diamonds', 'J'), ('spades', '10')),\n",
       " (('diamonds', 'J'), ('spades', 'J')),\n",
       " (('diamonds', 'J'), ('spades', 'Q')),\n",
       " (('diamonds', 'J'), ('spades', 'K')),\n",
       " (('diamonds', 'Q'), ('diamonds', 'K')),\n",
       " (('diamonds', 'Q'), ('clubs', 'A')),\n",
       " (('diamonds', 'Q'), ('clubs', '2')),\n",
       " (('diamonds', 'Q'), ('clubs', '3')),\n",
       " (('diamonds', 'Q'), ('clubs', '4')),\n",
       " (('diamonds', 'Q'), ('clubs', '5')),\n",
       " (('diamonds', 'Q'), ('clubs', '6')),\n",
       " (('diamonds', 'Q'), ('clubs', '7')),\n",
       " (('diamonds', 'Q'), ('clubs', '8')),\n",
       " (('diamonds', 'Q'), ('clubs', '9')),\n",
       " (('diamonds', 'Q'), ('clubs', '10')),\n",
       " (('diamonds', 'Q'), ('clubs', 'J')),\n",
       " (('diamonds', 'Q'), ('clubs', 'Q')),\n",
       " (('diamonds', 'Q'), ('clubs', 'K')),\n",
       " (('diamonds', 'Q'), ('hearts', 'A')),\n",
       " (('diamonds', 'Q'), ('hearts', '2')),\n",
       " (('diamonds', 'Q'), ('hearts', '3')),\n",
       " (('diamonds', 'Q'), ('hearts', '4')),\n",
       " (('diamonds', 'Q'), ('hearts', '5')),\n",
       " (('diamonds', 'Q'), ('hearts', '6')),\n",
       " (('diamonds', 'Q'), ('hearts', '7')),\n",
       " (('diamonds', 'Q'), ('hearts', '8')),\n",
       " (('diamonds', 'Q'), ('hearts', '9')),\n",
       " (('diamonds', 'Q'), ('hearts', '10')),\n",
       " (('diamonds', 'Q'), ('hearts', 'J')),\n",
       " (('diamonds', 'Q'), ('hearts', 'Q')),\n",
       " (('diamonds', 'Q'), ('hearts', 'K')),\n",
       " (('diamonds', 'Q'), ('spades', 'A')),\n",
       " (('diamonds', 'Q'), ('spades', '2')),\n",
       " (('diamonds', 'Q'), ('spades', '3')),\n",
       " (('diamonds', 'Q'), ('spades', '4')),\n",
       " (('diamonds', 'Q'), ('spades', '5')),\n",
       " (('diamonds', 'Q'), ('spades', '6')),\n",
       " (('diamonds', 'Q'), ('spades', '7')),\n",
       " (('diamonds', 'Q'), ('spades', '8')),\n",
       " (('diamonds', 'Q'), ('spades', '9')),\n",
       " (('diamonds', 'Q'), ('spades', '10')),\n",
       " (('diamonds', 'Q'), ('spades', 'J')),\n",
       " (('diamonds', 'Q'), ('spades', 'Q')),\n",
       " (('diamonds', 'Q'), ('spades', 'K')),\n",
       " (('diamonds', 'K'), ('clubs', 'A')),\n",
       " (('diamonds', 'K'), ('clubs', '2')),\n",
       " (('diamonds', 'K'), ('clubs', '3')),\n",
       " (('diamonds', 'K'), ('clubs', '4')),\n",
       " (('diamonds', 'K'), ('clubs', '5')),\n",
       " (('diamonds', 'K'), ('clubs', '6')),\n",
       " (('diamonds', 'K'), ('clubs', '7')),\n",
       " (('diamonds', 'K'), ('clubs', '8')),\n",
       " (('diamonds', 'K'), ('clubs', '9')),\n",
       " (('diamonds', 'K'), ('clubs', '10')),\n",
       " (('diamonds', 'K'), ('clubs', 'J')),\n",
       " (('diamonds', 'K'), ('clubs', 'Q')),\n",
       " (('diamonds', 'K'), ('clubs', 'K')),\n",
       " (('diamonds', 'K'), ('hearts', 'A')),\n",
       " (('diamonds', 'K'), ('hearts', '2')),\n",
       " (('diamonds', 'K'), ('hearts', '3')),\n",
       " (('diamonds', 'K'), ('hearts', '4')),\n",
       " (('diamonds', 'K'), ('hearts', '5')),\n",
       " (('diamonds', 'K'), ('hearts', '6')),\n",
       " (('diamonds', 'K'), ('hearts', '7')),\n",
       " (('diamonds', 'K'), ('hearts', '8')),\n",
       " (('diamonds', 'K'), ('hearts', '9')),\n",
       " (('diamonds', 'K'), ('hearts', '10')),\n",
       " (('diamonds', 'K'), ('hearts', 'J')),\n",
       " (('diamonds', 'K'), ('hearts', 'Q')),\n",
       " (('diamonds', 'K'), ('hearts', 'K')),\n",
       " (('diamonds', 'K'), ('spades', 'A')),\n",
       " (('diamonds', 'K'), ('spades', '2')),\n",
       " (('diamonds', 'K'), ('spades', '3')),\n",
       " (('diamonds', 'K'), ('spades', '4')),\n",
       " (('diamonds', 'K'), ('spades', '5')),\n",
       " (('diamonds', 'K'), ('spades', '6')),\n",
       " (('diamonds', 'K'), ('spades', '7')),\n",
       " (('diamonds', 'K'), ('spades', '8')),\n",
       " (('diamonds', 'K'), ('spades', '9')),\n",
       " (('diamonds', 'K'), ('spades', '10')),\n",
       " (('diamonds', 'K'), ('spades', 'J')),\n",
       " (('diamonds', 'K'), ('spades', 'Q')),\n",
       " (('diamonds', 'K'), ('spades', 'K')),\n",
       " (('clubs', 'A'), ('clubs', '2')),\n",
       " (('clubs', 'A'), ('clubs', '3')),\n",
       " (('clubs', 'A'), ('clubs', '4')),\n",
       " (('clubs', 'A'), ('clubs', '5')),\n",
       " (('clubs', 'A'), ('clubs', '6')),\n",
       " (('clubs', 'A'), ('clubs', '7')),\n",
       " (('clubs', 'A'), ('clubs', '8')),\n",
       " (('clubs', 'A'), ('clubs', '9')),\n",
       " (('clubs', 'A'), ('clubs', '10')),\n",
       " (('clubs', 'A'), ('clubs', 'J')),\n",
       " (('clubs', 'A'), ('clubs', 'Q')),\n",
       " (('clubs', 'A'), ('clubs', 'K')),\n",
       " (('clubs', 'A'), ('hearts', 'A')),\n",
       " (('clubs', 'A'), ('hearts', '2')),\n",
       " (('clubs', 'A'), ('hearts', '3')),\n",
       " (('clubs', 'A'), ('hearts', '4')),\n",
       " (('clubs', 'A'), ('hearts', '5')),\n",
       " (('clubs', 'A'), ('hearts', '6')),\n",
       " (('clubs', 'A'), ('hearts', '7')),\n",
       " (('clubs', 'A'), ('hearts', '8')),\n",
       " (('clubs', 'A'), ('hearts', '9')),\n",
       " (('clubs', 'A'), ('hearts', '10')),\n",
       " (('clubs', 'A'), ('hearts', 'J')),\n",
       " (('clubs', 'A'), ('hearts', 'Q')),\n",
       " (('clubs', 'A'), ('hearts', 'K')),\n",
       " (('clubs', 'A'), ('spades', 'A')),\n",
       " (('clubs', 'A'), ('spades', '2')),\n",
       " (('clubs', 'A'), ('spades', '3')),\n",
       " (('clubs', 'A'), ('spades', '4')),\n",
       " (('clubs', 'A'), ('spades', '5')),\n",
       " (('clubs', 'A'), ('spades', '6')),\n",
       " (('clubs', 'A'), ('spades', '7')),\n",
       " (('clubs', 'A'), ('spades', '8')),\n",
       " (('clubs', 'A'), ('spades', '9')),\n",
       " (('clubs', 'A'), ('spades', '10')),\n",
       " (('clubs', 'A'), ('spades', 'J')),\n",
       " (('clubs', 'A'), ('spades', 'Q')),\n",
       " (('clubs', 'A'), ('spades', 'K')),\n",
       " (('clubs', '2'), ('clubs', '3')),\n",
       " (('clubs', '2'), ('clubs', '4')),\n",
       " (('clubs', '2'), ('clubs', '5')),\n",
       " (('clubs', '2'), ('clubs', '6')),\n",
       " (('clubs', '2'), ('clubs', '7')),\n",
       " (('clubs', '2'), ('clubs', '8')),\n",
       " (('clubs', '2'), ('clubs', '9')),\n",
       " (('clubs', '2'), ('clubs', '10')),\n",
       " (('clubs', '2'), ('clubs', 'J')),\n",
       " (('clubs', '2'), ('clubs', 'Q')),\n",
       " (('clubs', '2'), ('clubs', 'K')),\n",
       " (('clubs', '2'), ('hearts', 'A')),\n",
       " (('clubs', '2'), ('hearts', '2')),\n",
       " (('clubs', '2'), ('hearts', '3')),\n",
       " (('clubs', '2'), ('hearts', '4')),\n",
       " (('clubs', '2'), ('hearts', '5')),\n",
       " (('clubs', '2'), ('hearts', '6')),\n",
       " (('clubs', '2'), ('hearts', '7')),\n",
       " (('clubs', '2'), ('hearts', '8')),\n",
       " (('clubs', '2'), ('hearts', '9')),\n",
       " (('clubs', '2'), ('hearts', '10')),\n",
       " (('clubs', '2'), ('hearts', 'J')),\n",
       " (('clubs', '2'), ('hearts', 'Q')),\n",
       " (('clubs', '2'), ('hearts', 'K')),\n",
       " (('clubs', '2'), ('spades', 'A')),\n",
       " (('clubs', '2'), ('spades', '2')),\n",
       " (('clubs', '2'), ('spades', '3')),\n",
       " (('clubs', '2'), ('spades', '4')),\n",
       " (('clubs', '2'), ('spades', '5')),\n",
       " (('clubs', '2'), ('spades', '6')),\n",
       " (('clubs', '2'), ('spades', '7')),\n",
       " (('clubs', '2'), ('spades', '8')),\n",
       " (('clubs', '2'), ('spades', '9')),\n",
       " (('clubs', '2'), ('spades', '10')),\n",
       " (('clubs', '2'), ('spades', 'J')),\n",
       " (('clubs', '2'), ('spades', 'Q')),\n",
       " (('clubs', '2'), ('spades', 'K')),\n",
       " (('clubs', '3'), ('clubs', '4')),\n",
       " (('clubs', '3'), ('clubs', '5')),\n",
       " (('clubs', '3'), ('clubs', '6')),\n",
       " (('clubs', '3'), ('clubs', '7')),\n",
       " (('clubs', '3'), ('clubs', '8')),\n",
       " (('clubs', '3'), ('clubs', '9')),\n",
       " (('clubs', '3'), ('clubs', '10')),\n",
       " (('clubs', '3'), ('clubs', 'J')),\n",
       " (('clubs', '3'), ('clubs', 'Q')),\n",
       " (('clubs', '3'), ('clubs', 'K')),\n",
       " (('clubs', '3'), ('hearts', 'A')),\n",
       " (('clubs', '3'), ('hearts', '2')),\n",
       " (('clubs', '3'), ('hearts', '3')),\n",
       " (('clubs', '3'), ('hearts', '4')),\n",
       " (('clubs', '3'), ('hearts', '5')),\n",
       " (('clubs', '3'), ('hearts', '6')),\n",
       " (('clubs', '3'), ('hearts', '7')),\n",
       " (('clubs', '3'), ('hearts', '8')),\n",
       " (('clubs', '3'), ('hearts', '9')),\n",
       " (('clubs', '3'), ('hearts', '10')),\n",
       " (('clubs', '3'), ('hearts', 'J')),\n",
       " (('clubs', '3'), ('hearts', 'Q')),\n",
       " (('clubs', '3'), ('hearts', 'K')),\n",
       " (('clubs', '3'), ('spades', 'A')),\n",
       " (('clubs', '3'), ('spades', '2')),\n",
       " (('clubs', '3'), ('spades', '3')),\n",
       " (('clubs', '3'), ('spades', '4')),\n",
       " (('clubs', '3'), ('spades', '5')),\n",
       " (('clubs', '3'), ('spades', '6')),\n",
       " (('clubs', '3'), ('spades', '7')),\n",
       " (('clubs', '3'), ('spades', '8')),\n",
       " (('clubs', '3'), ('spades', '9')),\n",
       " (('clubs', '3'), ('spades', '10')),\n",
       " (('clubs', '3'), ('spades', 'J')),\n",
       " (('clubs', '3'), ('spades', 'Q')),\n",
       " (('clubs', '3'), ('spades', 'K')),\n",
       " (('clubs', '4'), ('clubs', '5')),\n",
       " (('clubs', '4'), ('clubs', '6')),\n",
       " (('clubs', '4'), ('clubs', '7')),\n",
       " (('clubs', '4'), ('clubs', '8')),\n",
       " (('clubs', '4'), ('clubs', '9')),\n",
       " (('clubs', '4'), ('clubs', '10')),\n",
       " (('clubs', '4'), ('clubs', 'J')),\n",
       " (('clubs', '4'), ('clubs', 'Q')),\n",
       " (('clubs', '4'), ('clubs', 'K')),\n",
       " (('clubs', '4'), ('hearts', 'A')),\n",
       " (('clubs', '4'), ('hearts', '2')),\n",
       " (('clubs', '4'), ('hearts', '3')),\n",
       " (('clubs', '4'), ('hearts', '4')),\n",
       " (('clubs', '4'), ('hearts', '5')),\n",
       " (('clubs', '4'), ('hearts', '6')),\n",
       " (('clubs', '4'), ('hearts', '7')),\n",
       " (('clubs', '4'), ('hearts', '8')),\n",
       " (('clubs', '4'), ('hearts', '9')),\n",
       " (('clubs', '4'), ('hearts', '10')),\n",
       " (('clubs', '4'), ('hearts', 'J')),\n",
       " (('clubs', '4'), ('hearts', 'Q')),\n",
       " (('clubs', '4'), ('hearts', 'K')),\n",
       " (('clubs', '4'), ('spades', 'A')),\n",
       " (('clubs', '4'), ('spades', '2')),\n",
       " (('clubs', '4'), ('spades', '3')),\n",
       " (('clubs', '4'), ('spades', '4')),\n",
       " (('clubs', '4'), ('spades', '5')),\n",
       " (('clubs', '4'), ('spades', '6')),\n",
       " (('clubs', '4'), ('spades', '7')),\n",
       " (('clubs', '4'), ('spades', '8')),\n",
       " (('clubs', '4'), ('spades', '9')),\n",
       " (('clubs', '4'), ('spades', '10')),\n",
       " (('clubs', '4'), ('spades', 'J')),\n",
       " (('clubs', '4'), ('spades', 'Q')),\n",
       " (('clubs', '4'), ('spades', 'K')),\n",
       " (('clubs', '5'), ('clubs', '6')),\n",
       " (('clubs', '5'), ('clubs', '7')),\n",
       " (('clubs', '5'), ('clubs', '8')),\n",
       " (('clubs', '5'), ('clubs', '9')),\n",
       " (('clubs', '5'), ('clubs', '10')),\n",
       " (('clubs', '5'), ('clubs', 'J')),\n",
       " (('clubs', '5'), ('clubs', 'Q')),\n",
       " (('clubs', '5'), ('clubs', 'K')),\n",
       " (('clubs', '5'), ('hearts', 'A')),\n",
       " (('clubs', '5'), ('hearts', '2')),\n",
       " (('clubs', '5'), ('hearts', '3')),\n",
       " (('clubs', '5'), ('hearts', '4')),\n",
       " (('clubs', '5'), ('hearts', '5')),\n",
       " (('clubs', '5'), ('hearts', '6')),\n",
       " (('clubs', '5'), ('hearts', '7')),\n",
       " (('clubs', '5'), ('hearts', '8')),\n",
       " (('clubs', '5'), ('hearts', '9')),\n",
       " (('clubs', '5'), ('hearts', '10')),\n",
       " (('clubs', '5'), ('hearts', 'J')),\n",
       " (('clubs', '5'), ('hearts', 'Q')),\n",
       " (('clubs', '5'), ('hearts', 'K')),\n",
       " (('clubs', '5'), ('spades', 'A')),\n",
       " (('clubs', '5'), ('spades', '2')),\n",
       " (('clubs', '5'), ('spades', '3')),\n",
       " (('clubs', '5'), ('spades', '4')),\n",
       " (('clubs', '5'), ('spades', '5')),\n",
       " (('clubs', '5'), ('spades', '6')),\n",
       " (('clubs', '5'), ('spades', '7')),\n",
       " (('clubs', '5'), ('spades', '8')),\n",
       " (('clubs', '5'), ('spades', '9')),\n",
       " (('clubs', '5'), ('spades', '10')),\n",
       " (('clubs', '5'), ('spades', 'J')),\n",
       " (('clubs', '5'), ('spades', 'Q')),\n",
       " (('clubs', '5'), ('spades', 'K')),\n",
       " (('clubs', '6'), ('clubs', '7')),\n",
       " (('clubs', '6'), ('clubs', '8')),\n",
       " (('clubs', '6'), ('clubs', '9')),\n",
       " (('clubs', '6'), ('clubs', '10')),\n",
       " (('clubs', '6'), ('clubs', 'J')),\n",
       " (('clubs', '6'), ('clubs', 'Q')),\n",
       " (('clubs', '6'), ('clubs', 'K')),\n",
       " (('clubs', '6'), ('hearts', 'A')),\n",
       " (('clubs', '6'), ('hearts', '2')),\n",
       " (('clubs', '6'), ('hearts', '3')),\n",
       " (('clubs', '6'), ('hearts', '4')),\n",
       " (('clubs', '6'), ('hearts', '5')),\n",
       " (('clubs', '6'), ('hearts', '6')),\n",
       " (('clubs', '6'), ('hearts', '7')),\n",
       " (('clubs', '6'), ('hearts', '8')),\n",
       " (('clubs', '6'), ('hearts', '9')),\n",
       " (('clubs', '6'), ('hearts', '10')),\n",
       " (('clubs', '6'), ('hearts', 'J')),\n",
       " (('clubs', '6'), ('hearts', 'Q')),\n",
       " (('clubs', '6'), ('hearts', 'K')),\n",
       " (('clubs', '6'), ('spades', 'A')),\n",
       " (('clubs', '6'), ('spades', '2')),\n",
       " (('clubs', '6'), ('spades', '3')),\n",
       " (('clubs', '6'), ('spades', '4')),\n",
       " (('clubs', '6'), ('spades', '5')),\n",
       " (('clubs', '6'), ('spades', '6')),\n",
       " (('clubs', '6'), ('spades', '7')),\n",
       " (('clubs', '6'), ('spades', '8')),\n",
       " (('clubs', '6'), ('spades', '9')),\n",
       " (('clubs', '6'), ('spades', '10')),\n",
       " (('clubs', '6'), ('spades', 'J')),\n",
       " (('clubs', '6'), ('spades', 'Q')),\n",
       " (('clubs', '6'), ('spades', 'K')),\n",
       " (('clubs', '7'), ('clubs', '8')),\n",
       " (('clubs', '7'), ('clubs', '9')),\n",
       " (('clubs', '7'), ('clubs', '10')),\n",
       " (('clubs', '7'), ('clubs', 'J')),\n",
       " (('clubs', '7'), ('clubs', 'Q')),\n",
       " (('clubs', '7'), ('clubs', 'K')),\n",
       " (('clubs', '7'), ('hearts', 'A')),\n",
       " (('clubs', '7'), ('hearts', '2')),\n",
       " (('clubs', '7'), ('hearts', '3')),\n",
       " (('clubs', '7'), ('hearts', '4')),\n",
       " (('clubs', '7'), ('hearts', '5')),\n",
       " (('clubs', '7'), ('hearts', '6')),\n",
       " (('clubs', '7'), ('hearts', '7')),\n",
       " (('clubs', '7'), ('hearts', '8')),\n",
       " (('clubs', '7'), ('hearts', '9')),\n",
       " (('clubs', '7'), ('hearts', '10')),\n",
       " (('clubs', '7'), ('hearts', 'J')),\n",
       " (('clubs', '7'), ('hearts', 'Q')),\n",
       " (('clubs', '7'), ('hearts', 'K')),\n",
       " (('clubs', '7'), ('spades', 'A')),\n",
       " (('clubs', '7'), ('spades', '2')),\n",
       " (('clubs', '7'), ('spades', '3')),\n",
       " (('clubs', '7'), ('spades', '4')),\n",
       " (('clubs', '7'), ('spades', '5')),\n",
       " (('clubs', '7'), ('spades', '6')),\n",
       " (('clubs', '7'), ('spades', '7')),\n",
       " (('clubs', '7'), ('spades', '8')),\n",
       " (('clubs', '7'), ('spades', '9')),\n",
       " (('clubs', '7'), ('spades', '10')),\n",
       " (('clubs', '7'), ('spades', 'J')),\n",
       " (('clubs', '7'), ('spades', 'Q')),\n",
       " (('clubs', '7'), ('spades', 'K')),\n",
       " (('clubs', '8'), ('clubs', '9')),\n",
       " (('clubs', '8'), ('clubs', '10')),\n",
       " (('clubs', '8'), ('clubs', 'J')),\n",
       " (('clubs', '8'), ('clubs', 'Q')),\n",
       " (('clubs', '8'), ('clubs', 'K')),\n",
       " (('clubs', '8'), ('hearts', 'A')),\n",
       " (('clubs', '8'), ('hearts', '2')),\n",
       " (('clubs', '8'), ('hearts', '3')),\n",
       " (('clubs', '8'), ('hearts', '4')),\n",
       " (('clubs', '8'), ('hearts', '5')),\n",
       " (('clubs', '8'), ('hearts', '6')),\n",
       " (('clubs', '8'), ('hearts', '7')),\n",
       " (('clubs', '8'), ('hearts', '8')),\n",
       " (('clubs', '8'), ('hearts', '9')),\n",
       " (('clubs', '8'), ('hearts', '10')),\n",
       " (('clubs', '8'), ('hearts', 'J')),\n",
       " (('clubs', '8'), ('hearts', 'Q')),\n",
       " (('clubs', '8'), ('hearts', 'K')),\n",
       " (('clubs', '8'), ('spades', 'A')),\n",
       " (('clubs', '8'), ('spades', '2')),\n",
       " (('clubs', '8'), ('spades', '3')),\n",
       " (('clubs', '8'), ('spades', '4')),\n",
       " (('clubs', '8'), ('spades', '5')),\n",
       " (('clubs', '8'), ('spades', '6')),\n",
       " (('clubs', '8'), ('spades', '7')),\n",
       " (('clubs', '8'), ('spades', '8')),\n",
       " (('clubs', '8'), ('spades', '9')),\n",
       " (('clubs', '8'), ('spades', '10')),\n",
       " (('clubs', '8'), ('spades', 'J')),\n",
       " (('clubs', '8'), ('spades', 'Q')),\n",
       " (('clubs', '8'), ('spades', 'K')),\n",
       " (('clubs', '9'), ('clubs', '10')),\n",
       " (('clubs', '9'), ('clubs', 'J')),\n",
       " (('clubs', '9'), ('clubs', 'Q')),\n",
       " (('clubs', '9'), ('clubs', 'K')),\n",
       " (('clubs', '9'), ('hearts', 'A')),\n",
       " (('clubs', '9'), ('hearts', '2')),\n",
       " (('clubs', '9'), ('hearts', '3')),\n",
       " (('clubs', '9'), ('hearts', '4')),\n",
       " (('clubs', '9'), ('hearts', '5')),\n",
       " (('clubs', '9'), ('hearts', '6')),\n",
       " (('clubs', '9'), ('hearts', '7')),\n",
       " (('clubs', '9'), ('hearts', '8')),\n",
       " (('clubs', '9'), ('hearts', '9')),\n",
       " (('clubs', '9'), ('hearts', '10')),\n",
       " (('clubs', '9'), ('hearts', 'J')),\n",
       " (('clubs', '9'), ('hearts', 'Q')),\n",
       " (('clubs', '9'), ('hearts', 'K')),\n",
       " (('clubs', '9'), ('spades', 'A')),\n",
       " (('clubs', '9'), ('spades', '2')),\n",
       " (('clubs', '9'), ('spades', '3')),\n",
       " (('clubs', '9'), ('spades', '4')),\n",
       " (('clubs', '9'), ('spades', '5')),\n",
       " (('clubs', '9'), ('spades', '6')),\n",
       " (('clubs', '9'), ('spades', '7')),\n",
       " (('clubs', '9'), ('spades', '8')),\n",
       " (('clubs', '9'), ('spades', '9')),\n",
       " (('clubs', '9'), ('spades', '10')),\n",
       " (('clubs', '9'), ('spades', 'J')),\n",
       " (('clubs', '9'), ('spades', 'Q')),\n",
       " (('clubs', '9'), ('spades', 'K')),\n",
       " (('clubs', '10'), ('clubs', 'J')),\n",
       " (('clubs', '10'), ('clubs', 'Q')),\n",
       " (('clubs', '10'), ('clubs', 'K')),\n",
       " (('clubs', '10'), ('hearts', 'A')),\n",
       " (('clubs', '10'), ('hearts', '2')),\n",
       " (('clubs', '10'), ('hearts', '3')),\n",
       " (('clubs', '10'), ('hearts', '4')),\n",
       " (('clubs', '10'), ('hearts', '5')),\n",
       " (('clubs', '10'), ('hearts', '6')),\n",
       " (('clubs', '10'), ('hearts', '7')),\n",
       " (('clubs', '10'), ('hearts', '8')),\n",
       " (('clubs', '10'), ('hearts', '9')),\n",
       " (('clubs', '10'), ('hearts', '10')),\n",
       " (('clubs', '10'), ('hearts', 'J')),\n",
       " (('clubs', '10'), ('hearts', 'Q')),\n",
       " (('clubs', '10'), ('hearts', 'K')),\n",
       " (('clubs', '10'), ('spades', 'A')),\n",
       " (('clubs', '10'), ('spades', '2')),\n",
       " (('clubs', '10'), ('spades', '3')),\n",
       " (('clubs', '10'), ('spades', '4')),\n",
       " (('clubs', '10'), ('spades', '5')),\n",
       " (('clubs', '10'), ('spades', '6')),\n",
       " (('clubs', '10'), ('spades', '7')),\n",
       " (('clubs', '10'), ('spades', '8')),\n",
       " (('clubs', '10'), ('spades', '9')),\n",
       " (('clubs', '10'), ('spades', '10')),\n",
       " (('clubs', '10'), ('spades', 'J')),\n",
       " (('clubs', '10'), ('spades', 'Q')),\n",
       " (('clubs', '10'), ('spades', 'K')),\n",
       " (('clubs', 'J'), ('clubs', 'Q')),\n",
       " (('clubs', 'J'), ('clubs', 'K')),\n",
       " (('clubs', 'J'), ('hearts', 'A')),\n",
       " (('clubs', 'J'), ('hearts', '2')),\n",
       " (('clubs', 'J'), ('hearts', '3')),\n",
       " (('clubs', 'J'), ('hearts', '4')),\n",
       " (('clubs', 'J'), ('hearts', '5')),\n",
       " (('clubs', 'J'), ('hearts', '6')),\n",
       " (('clubs', 'J'), ('hearts', '7')),\n",
       " (('clubs', 'J'), ('hearts', '8')),\n",
       " (('clubs', 'J'), ('hearts', '9')),\n",
       " (('clubs', 'J'), ('hearts', '10')),\n",
       " (('clubs', 'J'), ('hearts', 'J')),\n",
       " (('clubs', 'J'), ('hearts', 'Q')),\n",
       " (('clubs', 'J'), ('hearts', 'K')),\n",
       " (('clubs', 'J'), ('spades', 'A')),\n",
       " (('clubs', 'J'), ('spades', '2')),\n",
       " (('clubs', 'J'), ('spades', '3')),\n",
       " (('clubs', 'J'), ('spades', '4')),\n",
       " (('clubs', 'J'), ('spades', '5')),\n",
       " (('clubs', 'J'), ('spades', '6')),\n",
       " (('clubs', 'J'), ('spades', '7')),\n",
       " (('clubs', 'J'), ('spades', '8')),\n",
       " (('clubs', 'J'), ('spades', '9')),\n",
       " (('clubs', 'J'), ('spades', '10')),\n",
       " (('clubs', 'J'), ('spades', 'J')),\n",
       " (('clubs', 'J'), ('spades', 'Q')),\n",
       " (('clubs', 'J'), ('spades', 'K')),\n",
       " (('clubs', 'Q'), ('clubs', 'K')),\n",
       " (('clubs', 'Q'), ('hearts', 'A')),\n",
       " (('clubs', 'Q'), ('hearts', '2')),\n",
       " (('clubs', 'Q'), ('hearts', '3')),\n",
       " (('clubs', 'Q'), ('hearts', '4')),\n",
       " (('clubs', 'Q'), ('hearts', '5')),\n",
       " (('clubs', 'Q'), ('hearts', '6')),\n",
       " (('clubs', 'Q'), ('hearts', '7')),\n",
       " (('clubs', 'Q'), ('hearts', '8')),\n",
       " (('clubs', 'Q'), ('hearts', '9')),\n",
       " (('clubs', 'Q'), ('hearts', '10')),\n",
       " (('clubs', 'Q'), ('hearts', 'J')),\n",
       " (('clubs', 'Q'), ('hearts', 'Q')),\n",
       " (('clubs', 'Q'), ('hearts', 'K')),\n",
       " (('clubs', 'Q'), ('spades', 'A')),\n",
       " (('clubs', 'Q'), ('spades', '2')),\n",
       " (('clubs', 'Q'), ('spades', '3')),\n",
       " (('clubs', 'Q'), ('spades', '4')),\n",
       " (('clubs', 'Q'), ('spades', '5')),\n",
       " (('clubs', 'Q'), ('spades', '6')),\n",
       " (('clubs', 'Q'), ('spades', '7')),\n",
       " (('clubs', 'Q'), ('spades', '8')),\n",
       " (('clubs', 'Q'), ('spades', '9')),\n",
       " (('clubs', 'Q'), ('spades', '10')),\n",
       " (('clubs', 'Q'), ('spades', 'J')),\n",
       " (('clubs', 'Q'), ('spades', 'Q')),\n",
       " (('clubs', 'Q'), ('spades', 'K')),\n",
       " (('clubs', 'K'), ('hearts', 'A')),\n",
       " (('clubs', 'K'), ('hearts', '2')),\n",
       " (('clubs', 'K'), ('hearts', '3')),\n",
       " (('clubs', 'K'), ('hearts', '4')),\n",
       " (('clubs', 'K'), ('hearts', '5')),\n",
       " (('clubs', 'K'), ('hearts', '6')),\n",
       " (('clubs', 'K'), ('hearts', '7')),\n",
       " (('clubs', 'K'), ('hearts', '8')),\n",
       " (('clubs', 'K'), ('hearts', '9')),\n",
       " (('clubs', 'K'), ('hearts', '10')),\n",
       " (('clubs', 'K'), ('hearts', 'J')),\n",
       " (('clubs', 'K'), ('hearts', 'Q')),\n",
       " (('clubs', 'K'), ('hearts', 'K')),\n",
       " (('clubs', 'K'), ('spades', 'A')),\n",
       " (('clubs', 'K'), ('spades', '2')),\n",
       " (('clubs', 'K'), ('spades', '3')),\n",
       " (('clubs', 'K'), ('spades', '4')),\n",
       " (('clubs', 'K'), ('spades', '5')),\n",
       " (('clubs', 'K'), ('spades', '6')),\n",
       " (('clubs', 'K'), ('spades', '7')),\n",
       " (('clubs', 'K'), ('spades', '8')),\n",
       " (('clubs', 'K'), ('spades', '9')),\n",
       " (('clubs', 'K'), ('spades', '10')),\n",
       " (('clubs', 'K'), ('spades', 'J')),\n",
       " (('clubs', 'K'), ('spades', 'Q')),\n",
       " ...]"
      ]
     },
     "execution_count": 8,
     "metadata": {},
     "output_type": "execute_result"
    }
   ],
   "source": [
    "# Combinations  (all possible combs)\n",
    "\n",
    "sample_space = list(itertools.combinations(cards, 2))\n",
    "sample_space # returning a list of tuples"
   ]
  },
  {
   "cell_type": "code",
   "execution_count": 9,
   "metadata": {},
   "outputs": [
    {
     "data": {
      "text/plain": [
       "1326"
      ]
     },
     "execution_count": 9,
     "metadata": {},
     "output_type": "execute_result"
    }
   ],
   "source": [
    "len(sample_space)"
   ]
  },
  {
   "cell_type": "markdown",
   "metadata": {},
   "source": [
    "n! / (n! * 2!) permutations\n",
    "\n",
    "52!/(50!  2!)"
   ]
  },
  {
   "cell_type": "code",
   "execution_count": 22,
   "metadata": {},
   "outputs": [
    {
     "data": {
      "text/plain": [
       "1326.0"
      ]
     },
     "execution_count": 22,
     "metadata": {},
     "output_type": "execute_result"
    }
   ],
   "source": [
    "import numpy as np\n",
    "import math\n",
    "\n",
    "math.factorial(52)/(math.factorial(50) * math.factorial(2))"
   ]
  },
  {
   "cell_type": "code",
   "execution_count": 12,
   "metadata": {},
   "outputs": [
    {
     "data": {
      "text/plain": [
       "[(('diamonds', 'A'), ('diamonds', '2')),\n",
       " (('diamonds', 'A'), ('diamonds', '3')),\n",
       " (('diamonds', 'A'), ('diamonds', '4')),\n",
       " (('diamonds', 'A'), ('diamonds', '5')),\n",
       " (('diamonds', 'A'), ('diamonds', '6')),\n",
       " (('diamonds', 'A'), ('diamonds', '7')),\n",
       " (('diamonds', 'A'), ('diamonds', '8')),\n",
       " (('diamonds', 'A'), ('diamonds', '9')),\n",
       " (('diamonds', 'A'), ('diamonds', '10')),\n",
       " (('diamonds', 'A'), ('diamonds', 'J'))]"
      ]
     },
     "execution_count": 12,
     "metadata": {},
     "output_type": "execute_result"
    }
   ],
   "source": [
    "sample_space[:10]"
   ]
  },
  {
   "cell_type": "markdown",
   "metadata": {},
   "source": [
    "Let's us define a function $X: S \\to \\mathbb{N}$ on this sample space such that when X(card1, card2) = card1 + card2. \n",
    "\n",
    "(J = 11, Q = 12, K=13, A = 1)\n",
    "\n",
    "Let's write this function in code:"
   ]
  },
  {
   "cell_type": "code",
   "execution_count": null,
   "metadata": {},
   "outputs": [],
   "source": []
  },
  {
   "cell_type": "code",
   "execution_count": 27,
   "metadata": {},
   "outputs": [],
   "source": [
    "royal_num = {'A': 1, 'J': 11, 'Q': 12, 'K': 13}\n",
    "\n",
    "def get_value(card): # above tuple is in string, so this is string\n",
    "    if card.isnumeric():\n",
    "        return int(card)\n",
    "    else:\n",
    "        return royal_num[card]\n",
    "\n",
    "def random_variable(card1, card2):\n",
    "    return get_value(card1[1]) + get_value(card2[1])\n",
    "    \n"
   ]
  },
  {
   "cell_type": "code",
   "execution_count": 33,
   "metadata": {},
   "outputs": [
    {
     "data": {
      "text/plain": [
       "5"
      ]
     },
     "execution_count": 33,
     "metadata": {},
     "output_type": "execute_result"
    }
   ],
   "source": [
    "random_variable(*sample_space[2])  # what does * do again? unpacking"
   ]
  },
  {
   "cell_type": "code",
   "execution_count": 30,
   "metadata": {},
   "outputs": [
    {
     "data": {
      "text/plain": [
       "(('clubs', 'K'), ('spades', 'K'))"
      ]
     },
     "execution_count": 30,
     "metadata": {},
     "output_type": "execute_result"
    }
   ],
   "source": [
    "sample_space[1000]"
   ]
  },
  {
   "cell_type": "code",
   "execution_count": 92,
   "metadata": {},
   "outputs": [
    {
     "name": "stdout",
     "output_type": "stream",
     "text": [
      "(('diamonds', '5'), ('diamonds', 'K'))\n"
     ]
    },
    {
     "data": {
      "text/plain": [
       "18"
      ]
     },
     "execution_count": 92,
     "metadata": {},
     "output_type": "execute_result"
    }
   ],
   "source": [
    "card_index = np.random.choice(range(1326), 1)[0]  # grabbing one value out of 1326 choices\n",
    "print(sample_space[card_index])\n",
    "random_variable(*sample_space[card_index])"
   ]
  },
  {
   "cell_type": "code",
   "execution_count": 93,
   "metadata": {},
   "outputs": [
    {
     "name": "stdout",
     "output_type": "stream",
     "text": [
      "(('diamonds', 'K'), ('hearts', '8'))\n"
     ]
    },
    {
     "data": {
      "text/plain": [
       "21"
      ]
     },
     "execution_count": 93,
     "metadata": {},
     "output_type": "execute_result"
    }
   ],
   "source": [
    "royal_num = {'A': 1, 'J': 11, 'Q': 12, 'K': 13}\n",
    "\n",
    "def random_variable(two_cards):\n",
    "    num1 = 0\n",
    "    num2 = 0\n",
    "    card1 = two_cards[0]\n",
    "    card2 = two_cards[1]\n",
    "    if card1[1] in royal_num.keys():\n",
    "        num1 = royal_num[card1[1]]\n",
    "    else:\n",
    "        num1 = int(card1[1])\n",
    "    if card2[1] in royal_num.keys():\n",
    "        num2 = royal_num[card2[1]]\n",
    "    else:\n",
    "        num2 = int(card2[1])\n",
    "    return num1 + num2\n",
    "\n",
    "\n",
    "card_index = np.random.choice(range(1326), 1)[0]\n",
    "print(sample_space[card_index])\n",
    "random_variable(sample_space[card_index])"
   ]
  },
  {
   "cell_type": "markdown",
   "metadata": {},
   "source": [
    "### Discrete and Continuous Random Variables\n",
    "\n",
    "- Note that in the examples above we can count possible values for some random variables. These random variables are called __discrete random variables__.\n",
    "\n",
    "- In other cases, it is not possible to be able to count exact possible values of a random variables. These are called __continuous random variables__. We can also say that continuous random variables can take any value in a range.\n",
    "\n",
    "\n",
    "Q: Let's go back and decide which random variables are continuous and which ones are discrete.\n",
    "\n",
    "## Distributions\n",
    "\n",
    "Why do we study random variables?\n",
    "\n",
    "- Random variables most of the time more relevant to the problem we would like to solve. \n",
    "\n",
    "Q: What is the probability distribution of a random variable?\n",
    "\n",
    "A: It is a function from a random variables possible values to numbers again. \n",
    "\n",
    "- Exact definition of a distribution changes slightly depending on whether we are working with a discrete random variable or a continuous one. \n",
    "\n",
    "### Probability Mass Function\n",
    "\n",
    "[For formal discussion](https://www.itl.nist.gov/div898/handbook/eda/section3/eda361.htm)\n",
    "\n",
    "The probability mass function is the function which describes the probability associated with the random variable x. This function is named p(x) or P(X=x) to avoid confusion. P(X=x) corresponds to the probability that the random variable x take the value X \n",
    "\n",
    "Mass function : discrete!\n",
    "Density function : continuous!\n",
    "\n",
    "X random variable\n",
    "x individual observation\n",
    "\n",
    "### Simulation"
   ]
  },
  {
   "cell_type": "code",
   "execution_count": 96,
   "metadata": {},
   "outputs": [],
   "source": [
    "all_values = [random_variable(two_cards) for two_cards in sample_space]"
   ]
  },
  {
   "cell_type": "code",
   "execution_count": 97,
   "metadata": {},
   "outputs": [
    {
     "data": {
      "text/plain": [
       "[3, 4, 5, 6, 7, 8, 9, 10, 11, 12]"
      ]
     },
     "execution_count": 97,
     "metadata": {},
     "output_type": "execute_result"
    }
   ],
   "source": [
    "all_values[:10]"
   ]
  },
  {
   "cell_type": "code",
   "execution_count": 98,
   "metadata": {},
   "outputs": [
    {
     "data": {
      "image/png": "[encoded data removed]",
      "text/plain": [
       "<Figure size 432x288 with 1 Axes>"
      ]
     },
     "metadata": {
      "needs_background": "light"
     },
     "output_type": "display_data"
    }
   ],
   "source": [
    "# plotting the frequencies\n",
    "\n",
    "import matplotlib.pyplot as plt\n",
    "%matplotlib inline\n",
    "n, bins, patches = plt.hist(x=all_values, bins=range(2, 28), color='#0504aa',\n",
    "                            alpha=0.5, rwidth=0.8, align='left')\n",
    "plt.grid(axis='y', alpha=0.2)\n",
    "plt.xlabel('Value')\n",
    "plt.ylabel('Frequency')\n",
    "plt.xticks(range(2, 28, 2))\n",
    "plt.title('Frequencies of the values of random variables')\n",
    "maxfreq = n.max()\n",
    "# Set a clean upper y-axis limit.\n",
    "plt.ylim(ymax=np.ceil(maxfreq / 10) * 10 if maxfreq % 10 else maxfreq + 10)\n",
    "\n",
    "plt.show()"
   ]
  },
  {
   "cell_type": "code",
   "execution_count": 99,
   "metadata": {},
   "outputs": [],
   "source": [
    "import collections\n",
    "counter = collections.Counter(all_values)  # counter is a special dict object"
   ]
  },
  {
   "cell_type": "code",
   "execution_count": 100,
   "metadata": {},
   "outputs": [
    {
     "data": {
      "text/plain": [
       "Counter({3: 16,\n",
       "         4: 22,\n",
       "         5: 32,\n",
       "         6: 38,\n",
       "         7: 48,\n",
       "         8: 54,\n",
       "         9: 64,\n",
       "         10: 70,\n",
       "         11: 80,\n",
       "         12: 86,\n",
       "         13: 96,\n",
       "         14: 102,\n",
       "         2: 6,\n",
       "         15: 96,\n",
       "         16: 86,\n",
       "         17: 80,\n",
       "         18: 70,\n",
       "         19: 64,\n",
       "         20: 54,\n",
       "         21: 48,\n",
       "         22: 38,\n",
       "         23: 32,\n",
       "         24: 22,\n",
       "         25: 16,\n",
       "         26: 6})"
      ]
     },
     "execution_count": 100,
     "metadata": {},
     "output_type": "execute_result"
    }
   ],
   "source": [
    "counter"
   ]
  },
  {
   "cell_type": "code",
   "execution_count": 101,
   "metadata": {},
   "outputs": [
    {
     "name": "stdout",
     "output_type": "stream",
     "text": [
      "dict_keys([3, 4, 5, 6, 7, 8, 9, 10, 11, 12, 13, 14, 2, 15, 16, 17, 18, 19, 20, 21, 22, 23, 24, 25, 26]) [0.0121, 0.0166, 0.0241, 0.0287, 0.0362, 0.0407, 0.0483, 0.0528, 0.0603, 0.0649, 0.0724, 0.0769, 0.0045, 0.0724, 0.0649, 0.0603, 0.0528, 0.0483, 0.0407, 0.0362, 0.0287, 0.0241, 0.0166, 0.0121, 0.0045]\n"
     ]
    }
   ],
   "source": [
    "# Convert frequency to probability - divide each frequency value by total number of values\n",
    "pmf = []\n",
    "for key, val in counter.items():\n",
    "    pmf.append(round(val / len(all_values), 4))\n",
    "\n",
    "print(counter.keys(), pmf)"
   ]
  },
  {
   "cell_type": "code",
   "execution_count": 103,
   "metadata": {
    "scrolled": true
   },
   "outputs": [
    {
     "data": {
      "image/png": "[encoded data removed]",
      "text/plain": [
       "<Figure size 432x288 with 1 Axes>"
      ]
     },
     "metadata": {
      "needs_background": "light"
     },
     "output_type": "display_data"
    }
   ],
   "source": [
    "# we can plot the probability mass function\n",
    "plt.bar(counter.keys(), pmf)  # probability mass function\n",
    "\n",
    "plt.xticks(range(1, 27, 2))\n",
    "\n",
    "plt.show()"
   ]
  },
  {
   "cell_type": "markdown",
   "metadata": {},
   "source": [
    "same shape, just the y axis changed from frequency to percentage"
   ]
  },
  {
   "cell_type": "code",
   "execution_count": 104,
   "metadata": {},
   "outputs": [
    {
     "data": {
      "text/plain": [
       "1.0000999999999998"
      ]
     },
     "execution_count": 104,
     "metadata": {},
     "output_type": "execute_result"
    }
   ],
   "source": [
    "sum(pmf)  # difference comes from rounding above"
   ]
  },
  {
   "cell_type": "markdown",
   "metadata": {},
   "source": [
    "### Cumulative Mass Function\n",
    "\n",
    "\n",
    "The CDF is a function of $x$ just like a PMF or a PDF, where $x$ is any value that can possibly appear in a given distribution. To calculate the $CDF(x)$ for any value of $x$, we compute the proportion of values in the distribution less than or equal to $x$ as follows:\n",
    "\n",
    "$$\\large F(x) = P(X \\leq x)$$\n",
    "\n",
    "> The Cumulative Distribution Function, CDF, gives the probability that the variable $X$ is less than or equal to a certain possible value $x$. \n",
    "\n"
   ]
  },
  {
   "cell_type": "code",
   "execution_count": 115,
   "metadata": {},
   "outputs": [
    {
     "data": {
      "image/png": "[encoded data removed]",
      "text/plain": [
       "<Figure size 432x288 with 1 Axes>"
      ]
     },
     "metadata": {
      "needs_background": "light"
     },
     "output_type": "display_data"
    }
   ],
   "source": [
    "# x = np.unique(all_values, return_counts=True)[0]\n",
    "y = np.cumsum(np.unique(all_values, return_counts=True)[1])/len(all_values)\n",
    "plt.plot(x, y, marker='*', linestyle='none')\n",
    "plt.xticks(range(0, 28, 1))\n",
    "\n",
    "plt.show()\n",
    "\n",
    "# np.cumsum: cummulative sum function built in"
   ]
  },
  {
   "attachments": {
    "image.png": {
     "image/png": "[encoded data removed]"
    }
   },
   "cell_type": "markdown",
   "metadata": {},
   "source": [
    "pmf of 6 sided die\n",
    "\n",
    "![image.png](attachment:image.png)"
   ]
  },
  {
   "attachments": {
    "image.png": {
     "image/png": "[encoded data removed]"
    }
   },
   "cell_type": "markdown",
   "metadata": {},
   "source": [
    "cdf of 6 sided die\n",
    "\n",
    "![image.png](attachment:image.png)"
   ]
  },
  {
   "cell_type": "markdown",
   "metadata": {},
   "source": [
    "### Further Discussions\n",
    "\n",
    "\n",
    "- Please read the corresponding material form learn.co. Especially the definitions of expected values and variance.\n",
    "\n",
    "- Note that one of the most important discrete distribution is Bernoulli and Binomial distributions. We will discuss these in more details but make sure that you read the corresponding material in learn.co."
   ]
  },
  {
   "cell_type": "markdown",
   "metadata": {},
   "source": [
    "## Probability Density Functions\n",
    "\n",
    "- First observation: For a cont. random variable the probability of getting an exact value is always zero. (Bummer!!)\n",
    "\n",
    "P(x = n) = 0\n",
    "\n",
    "- In that sense, instead of exact probabilities we will talk about density of the random variables. \n",
    "\n",
    "\n",
    "\n",
    "- A Probability Density Function (PDF) helps identify the regions in the distribution where observations are more likely to occur, in other words, where the observation occurrence is more dense.\n",
    "\n",
    "\n",
    "\n",
    "\n",
    "<img src=\"img/probability_for_continuous_rv.png\" width=\"650\">"
   ]
  },
  {
   "cell_type": "markdown",
   "metadata": {},
   "source": [
    "- In this case, probability is found by the following formula: \n",
    "\n",
    "$$\\large P(82 \\leq X \\leq 85) = \\int_{82}^{85} f_x(x) dx \\geq 0 $$\n",
    "\n",
    "- Let's consider the example where the random variable is the exact measure of height of a randomly chosen person from Lafayatte Park.\n",
    "\n",
    "[Normal Distribution](https://www.mathsisfun.com/data/standard-normal-distribution.html)\n",
    "\n",
    "[Normal Distribution App](https://homepage.divms.uiowa.edu/~mbognar/applets/normal.html)\n",
    "\n",
    "[Standardization](https://www.intmath.com/counting-probability/normal-distribution-graph-interactive.php)\n",
    "\n",
    "[Chi-Square App](https://homepage.divms.uiowa.edu/~mbognar/applets/chisq.html)\n"
   ]
  },
  {
   "cell_type": "code",
   "execution_count": 116,
   "metadata": {},
   "outputs": [],
   "source": [
    "from scipy import stats"
   ]
  },
  {
   "cell_type": "code",
   "execution_count": 117,
   "metadata": {},
   "outputs": [],
   "source": [
    "dist = stats.norm(loc=0, scale=1)"
   ]
  },
  {
   "cell_type": "code",
   "execution_count": 123,
   "metadata": {},
   "outputs": [
    {
     "data": {
      "text/plain": [
       "<scipy.stats._distn_infrastructure.rv_frozen at 0x2313543f6c8>"
      ]
     },
     "execution_count": 123,
     "metadata": {},
     "output_type": "execute_result"
    }
   ],
   "source": [
    "dist"
   ]
  },
  {
   "cell_type": "code",
   "execution_count": 118,
   "metadata": {},
   "outputs": [
    {
     "data": {
      "text/plain": [
       "0.15865525393145707"
      ]
     },
     "execution_count": 118,
     "metadata": {},
     "output_type": "execute_result"
    }
   ],
   "source": [
    "dist.cdf(-1)"
   ]
  },
  {
   "cell_type": "code",
   "execution_count": 129,
   "metadata": {
    "scrolled": false
   },
   "outputs": [
    {
     "data": {
      "text/plain": [
       "<matplotlib.collections.PathCollection at 0x2313557bd88>"
      ]
     },
     "execution_count": 129,
     "metadata": {},
     "output_type": "execute_result"
    },
    {
     "data": {
      "image/png": "[encoded data removed]",
      "text/plain": [
       "<Figure size 432x288 with 1 Axes>"
      ]
     },
     "metadata": {
      "needs_background": "light"
     },
     "output_type": "display_data"
    }
   ],
   "source": [
    "plt.scatter(np.linspace(-4, 4, 1000), \n",
    "            dist.cdf(np.linspace(-4, 4,1000)))\n"
   ]
  },
  {
   "cell_type": "code",
   "execution_count": 131,
   "metadata": {},
   "outputs": [
    {
     "data": {
      "text/plain": [
       "<matplotlib.collections.PathCollection at 0x23135639c08>"
      ]
     },
     "execution_count": 131,
     "metadata": {},
     "output_type": "execute_result"
    },
    {
     "data": {
      "image/png": "[encoded data removed]",
      "text/plain": [
       "<Figure size 432x288 with 1 Axes>"
      ]
     },
     "metadata": {
      "needs_background": "light"
     },
     "output_type": "display_data"
    }
   ],
   "source": [
    "plt.scatter(np.linspace(-4, 4, 1000),\n",
    "            dist.pdf(np.linspace(-4, 4, 1000)))"
   ]
  },
  {
   "cell_type": "code",
   "execution_count": null,
   "metadata": {},
   "outputs": [],
   "source": []
  }
 ],
 "metadata": {
  "kernelspec": {
   "display_name": "Python 3",
   "language": "python",
   "name": "python3"
  },
  "language_info": {
   "codemirror_mode": {
    "name": "ipython",
    "version": 3
   },
   "file_extension": ".py",
   "mimetype": "text/x-python",
   "name": "python",
   "nbconvert_exporter": "python",
   "pygments_lexer": "ipython3",
   "version": "3.7.6"
  },
  "toc": {
   "base_numbering": 1,
   "nav_menu": {},
   "number_sections": true,
   "sideBar": true,
   "skip_h1_title": false,
   "title_cell": "Table of Contents",
   "title_sidebar": "Contents",
   "toc_cell": false,
   "toc_position": {
    "height": "calc(100% - 180px)",
    "left": "10px",
    "top": "150px",
    "width": "165px"
   },
   "toc_section_display": true,
   "toc_window_display": false
  }
 },
 "nbformat": 4,
 "nbformat_minor": 2
}
