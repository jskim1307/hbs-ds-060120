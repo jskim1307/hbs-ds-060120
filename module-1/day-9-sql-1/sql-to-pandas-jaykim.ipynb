{
 "cells": [
  {
   "cell_type": "markdown",
   "metadata": {
    "slideshow": {
     "slide_type": "slide"
    }
   },
   "source": [
    "![sql](img/sql-logo.jpg)\n",
    "\n",
    "# A beginner's guide to databases, SQL, & using them with `pandas`"
   ]
  },
  {
   "cell_type": "markdown",
   "metadata": {
    "slideshow": {
     "slide_type": "slide"
    }
   },
   "source": [
    "**Scenario:** You are a data analyst for the Homeland Security, trying to create reports on the active airports world wide. The data you need to access is in a SQL database. YOu need to be able to query for the data in a database!"
   ]
  },
  {
   "cell_type": "markdown",
   "metadata": {
    "slideshow": {
     "slide_type": "slide"
    }
   },
   "source": [
    "## Learning goals:\n",
    "- Goal 1: Summarize the use case for sql in the data science skill set\n",
    "- Goal 2: Define key sql terminology\n",
    "- Goal 3: Get information about DB schema and table structure\n",
    "- Goal 4: Use basic SQL commands:\n",
    "    - Construct SQL queries\n",
    "    - Use `JOIN` to merge tables along logical columns\n",
    "    - Grouping Data with SQL, inlcuding `HAVING`\n",
    "- Goal 5: Convert SQL to pandas"
   ]
  },
  {
   "cell_type": "markdown",
   "metadata": {
    "slideshow": {
     "slide_type": "slide"
    }
   },
   "source": [
    "## Goal 1: Summarize\n",
    "\n",
    "To date the data we've seen has looked like [this.](https://data.austintexas.gov/Health-and-Community-Services/Austin-Animal-Center-Intakes/wter-evkm)\n",
    "\n",
    "That is how we need data to look to run analysis and build models.<br>\n",
    "But it doesn't _live_ there in it's native state."
   ]
  },
  {
   "cell_type": "markdown",
   "metadata": {
    "slideshow": {
     "slide_type": "slide"
    }
   },
   "source": [
    "[Netflix has a great article](https://medium.com/netflix-techblog/notebook-innovation-591ee3221233) describing three different data roles at their company, their different needs, and their toolsets.\n",
    "\n",
    "![netflix](img/netflix-data-roles.jpeg)\n",
    "\n",
    "Examining that graphic, SQL shows up as one of the tools of the _Data Engineer_ "
   ]
  },
  {
   "cell_type": "markdown",
   "metadata": {
    "slideshow": {
     "slide_type": "slide"
    }
   },
   "source": [
    "Data Engineers provide the essential data architecture services that make data science possible.\n",
    "\n",
    "![hierarchy](img/ai-hierachy.png)\n",
    "\n",
    "[Source: Monica Rogati’s fantastic Medium post “The AI Hierarchy of Needs”\n",
    "](https://hackernoon.com/the-ai-hierarchy-of-needs-18f111fcc007)"
   ]
  },
  {
   "cell_type": "markdown",
   "metadata": {},
   "source": [
    "## What does it mean to **Engineer Data**?\n",
    "\n",
    "Let's start with a basic scenario:<br>\n",
    "You are HR. You have *no* current database. \n",
    "How would you set it up?\n",
    "\n",
    "Data needs considerations:\n",
    "- What you want to store\n",
    "- What \"views\" you anticipate wanting in the future\n",
    "\n",
    "Structure considerations:\n",
    "- Speed of retrieval\n",
    "- How much data you are accessing\n",
    "- How much you are storing"
   ]
  },
  {
   "cell_type": "markdown",
   "metadata": {
    "slideshow": {
     "slide_type": "slide"
    }
   },
   "source": [
    "![etl](img/etl.png)\n",
    "\n",
    "[img source: Jeff Hammerbacher’s slide from UC Berkeley CS 194 course ](https://bcourses.berkeley.edu/courses/1377158/pages/cs-194-16-introduction-to-data-science-fall-2015)"
   ]
  },
  {
   "cell_type": "markdown",
   "metadata": {},
   "source": [
    "application database: really fast to retrieve database, but disparate\n",
    "\n",
    "data warehouse: all data stored together, slower but can pull bigger set of data\n"
   ]
  },
  {
   "cell_type": "markdown",
   "metadata": {
    "slideshow": {
     "slide_type": "slide"
    }
   },
   "source": [
    "### What is a Relational Database? \n",
    "\n",
    "![rdb](img/relational-dbms-model.png)\n",
    "[reference for image ](https://www.studytonight.com/dbms/database-model.php)"
   ]
  },
  {
   "cell_type": "markdown",
   "metadata": {
    "slideshow": {
     "slide_type": "slide"
    }
   },
   "source": [
    "### POPULAR RDBMS (relational database management system)\n",
    "\n",
    "- SQLite  <- today we are learning this.\n",
    "- MySQL   <- this is most common, first lightweight database (mid-90s)\n",
    "- PostgreSql <- new hot stuff\n",
    "- Oracle DB <- very expensive, but very reliable.\n",
    "- SQL Server <- microsoft."
   ]
  },
  {
   "cell_type": "markdown",
   "metadata": {},
   "source": [
    "***\n",
    "### SQL Readings\n",
    "\n",
    "[History of SQL](https://www.businessnewsdaily.com/5804-what-is-sql.html)\n",
    "\n",
    "[The original SQL paper from the 1970s.](https://www.seas.upenn.edu/~zives/03f/cis550/codd.pdf)"
   ]
  },
  {
   "cell_type": "markdown",
   "metadata": {},
   "source": [
    "Structured Query Language, is a programming language that is used to communicate with and manipulate databases.\n",
    "\n",
    "a database is a tool for collecting and organizing information. Databases can store information about people, products, orders or anything else. Many databases start in a word processing program or spreadsheet, but as they get larger many businesses will find it helpful to transfer them to a database created by a database management system.\n",
    "\n",
    "data warehouse: 4-5T of data\n",
    "\n",
    "pull down only exactly what you want"
   ]
  },
  {
   "cell_type": "markdown",
   "metadata": {
    "slideshow": {
     "slide_type": "slide"
    }
   },
   "source": [
    "***\n",
    "## Goal 2: Database terminology\n",
    "\n",
    "### Relational Database Schema\n",
    "\n",
    "![schema](img/MySQL_Schema_Music_Example.png)\n",
    "\n",
    "[source of image](https://database.guide/what-is-a-database-schema/)"
   ]
  },
  {
   "cell_type": "markdown",
   "metadata": {},
   "source": [
    "Collection of tables. relationship between tables are mapped.\n",
    "\n",
    "Schema: visual representation of relationships/connections between tables/dataframes (ERD: entity relationship diagram)\n",
    "\n",
    "crossfoot: can have multiple\n",
    "\n",
    "= : only one\n",
    "\n",
    "ie) albums have only one genre, but each genre can have thousands of albums"
   ]
  },
  {
   "cell_type": "markdown",
   "metadata": {
    "slideshow": {
     "slide_type": "slide"
    }
   },
   "source": [
    "***\n",
    "### SQLite\n",
    "\n",
    "<img src=\"img/SQLite-Python.jpg\" width=500>\n",
    "\n",
    "- C library (fast)\n",
    "- lightweight disk-based database\n",
    "- that doesn’t require a separate server process\n",
    "- nonstandard variant of the SQL query language\n",
    "- applications can use SQLite for internal data storage (iPhone apps constantly creating databases on phones to retrieve data)\n",
    "- use case: prototype an application using SQLite and then port the code to a larger database such as PostgreSQL or Oracle (development)\n",
    "\n",
    "\n",
    "different from datawarehouses ran as a separate, dedicated server.\n",
    "SQLite is on the file. \n",
    "\n",
    "\n",
    "[sqlite documentation](https://docs.python.org/2/library/sqlite3.html)\n",
    "\n",
    "https://sqlitebrowser.org/dl/"
   ]
  },
  {
   "cell_type": "markdown",
   "metadata": {
    "slideshow": {
     "slide_type": "slide"
    }
   },
   "source": [
    "## But what about connecting to database servers?\n",
    "\n",
    "To connect to other database types there are many different libraries:\n",
    "- Oracle: [cx_Oracle](https://oracle.github.io/python-cx_Oracle/)\n",
    "- MySQL: [MySQL-python](https://github.com/farcepest/MySQLdb1)\n",
    "- PostgreSQL: [Psycopg2](http://initd.org/psycopg/docs/)\n",
    "- Microsoft SQL Server: [pymssql](http://www.pymssql.org/en/stable/)\n",
    "\n",
    "modules. just drop in different modules to connect to different databases\n",
    "\n",
    "These all implement [PEP 249: DB API v2](https://www.python.org/dev/peps/pep-0249/)"
   ]
  },
  {
   "cell_type": "markdown",
   "metadata": {
    "slideshow": {
     "slide_type": "slide"
    }
   },
   "source": [
    "## Goal 3: Get going with sqlite!"
   ]
  },
  {
   "cell_type": "code",
   "execution_count": 1,
   "metadata": {
    "slideshow": {
     "slide_type": "fragment"
    }
   },
   "outputs": [],
   "source": [
    "import sqlite3"
   ]
  },
  {
   "cell_type": "markdown",
   "metadata": {
    "slideshow": {
     "slide_type": "slide"
    }
   },
   "source": [
    "#### Load a DB object with `connect` and `cursor`"
   ]
  },
  {
   "cell_type": "code",
   "execution_count": 2,
   "metadata": {
    "slideshow": {
     "slide_type": "fragment"
    }
   },
   "outputs": [],
   "source": [
    "con = sqlite3.connect('data/flights.db') # .connect\n",
    "cursor = con.cursor()"
   ]
  },
  {
   "cell_type": "code",
   "execution_count": 4,
   "metadata": {},
   "outputs": [
    {
     "name": "stdout",
     "output_type": "stream",
     "text": [
      " Volume in drive C has no label.\n",
      " Volume Serial Number is 06B9-E2F5\n",
      "\n",
      " Directory of C:\\Users\\jongs\\Desktop\\DS_2020\\Course_Materials\\code\\hbs-ds-060120\\module-1\\day-9-sql-1\\data\n",
      "\n",
      "06/11/2020  07:03    <DIR>          .\n",
      "06/11/2020  07:03    <DIR>          ..\n",
      "06/11/2020  07:03         5,415,936 flights.db\n",
      "               1 File(s)      5,415,936 bytes\n",
      "               2 Dir(s)  27,967,500,288 bytes free\n"
     ]
    }
   ],
   "source": [
    "ls data"
   ]
  },
  {
   "cell_type": "markdown",
   "metadata": {
    "slideshow": {
     "slide_type": "slide"
    }
   },
   "source": [
    "#### Use sqlite_master to find all the tables in the schema\n",
    "Get the schema of a database from a db in sqlite"
   ]
  },
  {
   "cell_type": "code",
   "execution_count": 10,
   "metadata": {},
   "outputs": [
    {
     "name": "stdout",
     "output_type": "stream",
     "text": [
      "[('airports',), ('airlines',), ('routes',)]\n"
     ]
    }
   ],
   "source": [
    "cursor.execute(\"SELECT name FROM sqlite_master WHERE type='table';\")\n",
    "print(cursor.fetchall()) # execute and fetch!\n",
    "\n",
    "# double quotes on the outside, single quotes on the inside"
   ]
  },
  {
   "cell_type": "markdown",
   "metadata": {},
   "source": [
    "Three tables in this database. \n",
    "just google \"get tables from sqllite\" (sqllite master)"
   ]
  },
  {
   "cell_type": "code",
   "execution_count": 9,
   "metadata": {},
   "outputs": [
    {
     "name": "stdout",
     "output_type": "stream",
     "text": [
      "He said, \"Hello, world!\" The end.\n",
      "He said, \"Hello, world!\" The end.\n"
     ]
    }
   ],
   "source": [
    "# triple quotes\n",
    "print(\"\"\"He said, \"Hello, world!\" The end.\"\"\")\n",
    "print('''He said, \"Hello, world!\" The end.''')"
   ]
  },
  {
   "cell_type": "code",
   "execution_count": 11,
   "metadata": {},
   "outputs": [
    {
     "data": {
      "text/plain": [
       "(('name', None, None, None, None, None, None),)"
      ]
     },
     "execution_count": 11,
     "metadata": {},
     "output_type": "execute_result"
    }
   ],
   "source": [
    "cursor.description"
   ]
  },
  {
   "cell_type": "code",
   "execution_count": 13,
   "metadata": {},
   "outputs": [
    {
     "name": "stdout",
     "output_type": "stream",
     "text": [
      "[('airports', 'table'), ('airlines', 'table'), ('routes', 'table')]\n"
     ]
    }
   ],
   "source": [
    "cursor.execute(\"SELECT name, type FROM sqlite_master WHERE type='table';\")\n",
    "print(cursor.fetchall())"
   ]
  },
  {
   "cell_type": "code",
   "execution_count": 15,
   "metadata": {},
   "outputs": [
    {
     "name": "stdout",
     "output_type": "stream",
     "text": [
      "[('airports', 'table'), ('ix_airports_index', 'index'), ('airlines', 'table'), ('ix_airlines_index', 'index'), ('routes', 'table'), ('ix_routes_index', 'index')]\n"
     ]
    }
   ],
   "source": [
    "cursor.execute(\"SELECT name, type FROM sqlite_master;\")\n",
    "print(cursor.fetchall())"
   ]
  },
  {
   "cell_type": "code",
   "execution_count": 18,
   "metadata": {},
   "outputs": [
    {
     "name": "stdout",
     "output_type": "stream",
     "text": [
      "('table', 'airports', 'airports', 2, 'CREATE TABLE airports (\\n[index] INTEGER,\\n  [id] TEXT,\\n  [name] TEXT,\\n  [city] TEXT,\\n  [country] TEXT,\\n  [code] TEXT,\\n  [icao] TEXT,\\n  [latitude] TEXT,\\n  [longitude] TEXT,\\n  [altitude] TEXT,\\n  [offset] TEXT,\\n  [dst] TEXT,\\n  [timezone] TEXT\\n)')\n",
      "('index', 'ix_airports_index', 'airports', 3, 'CREATE INDEX ix_airports_index ON airports ([index])')\n",
      "('table', 'airlines', 'airlines', 945, 'CREATE TABLE airlines (\\n[index] INTEGER,\\n  [id] TEXT,\\n  [name] TEXT,\\n  [alias] TEXT,\\n  [iata] TEXT,\\n  [icao] TEXT,\\n  [callsign] TEXT,\\n  [country] TEXT,\\n  [active] TEXT\\n)')\n",
      "('index', 'ix_airlines_index', 'airlines', 946, 'CREATE INDEX ix_airlines_index ON airlines ([index])')\n",
      "('table', 'routes', 'routes', 1393, 'CREATE TABLE routes (\\n[index] INTEGER,\\n  [airline] TEXT,\\n  [airline_id] TEXT,\\n  [source] TEXT,\\n  [source_id] TEXT,\\n  [dest] TEXT,\\n  [dest_id] TEXT,\\n  [codeshare] TEXT,\\n  [stops] TEXT,\\n  [equipment] TEXT\\n)')\n",
      "('index', 'ix_routes_index', 'routes', 1394, 'CREATE INDEX ix_routes_index ON routes ([index])')\n"
     ]
    }
   ],
   "source": [
    "cursor.execute(\"SELECT * FROM sqlite_master;\") # ; means the end of sql command\n",
    "results = cursor.fetchall()\n",
    "for res in results:\n",
    "    print(res)\n",
    "    \n",
    "# sqlLite can only execute one command at a time.\n",
    "# not capable of stacking multiple sql commands separated by ;"
   ]
  },
  {
   "cell_type": "code",
   "execution_count": 19,
   "metadata": {},
   "outputs": [
    {
     "data": {
      "text/plain": [
       "(('type', None, None, None, None, None, None),\n",
       " ('name', None, None, None, None, None, None),\n",
       " ('tbl_name', None, None, None, None, None, None),\n",
       " ('rootpage', None, None, None, None, None, None),\n",
       " ('sql', None, None, None, None, None, None))"
      ]
     },
     "execution_count": 19,
     "metadata": {},
     "output_type": "execute_result"
    }
   ],
   "source": [
    "cursor.description"
   ]
  },
  {
   "cell_type": "code",
   "execution_count": 20,
   "metadata": {},
   "outputs": [
    {
     "name": "stdout",
     "output_type": "stream",
     "text": [
      "('table', 'airports', 2)\n",
      "('index', 'airports', 3)\n",
      "('table', 'airlines', 945)\n",
      "('index', 'airlines', 946)\n",
      "('table', 'routes', 1393)\n",
      "('index', 'routes', 1394)\n"
     ]
    }
   ],
   "source": [
    "cursor.execute(\"SELECT type, tbl_name, rootpage FROM sqlite_master;\") \n",
    "results = cursor.fetchall()\n",
    "for res in results:\n",
    "    print(res)"
   ]
  },
  {
   "cell_type": "code",
   "execution_count": 21,
   "metadata": {},
   "outputs": [
    {
     "data": {
      "text/plain": [
       "(('type', None, None, None, None, None, None),\n",
       " ('tbl_name', None, None, None, None, None, None),\n",
       " ('rootpage', None, None, None, None, None, None))"
      ]
     },
     "execution_count": 21,
     "metadata": {},
     "output_type": "execute_result"
    }
   ],
   "source": [
    "cursor.description"
   ]
  },
  {
   "cell_type": "code",
   "execution_count": 22,
   "metadata": {},
   "outputs": [],
   "source": [
    "# capitalization does not matter in sql (unlike how it is crucial in Python)"
   ]
  },
  {
   "cell_type": "markdown",
   "metadata": {},
   "source": [
    "cursor objects are pointers, like variables in python"
   ]
  },
  {
   "cell_type": "markdown",
   "metadata": {
    "slideshow": {
     "slide_type": "slide"
    }
   },
   "source": [
    "#### Get information about one table\n",
    "\n",
    "**A note about** `execute`<br>\n",
    "Each time you use it, you reset the value of cursor"
   ]
  },
  {
   "cell_type": "code",
   "execution_count": 33,
   "metadata": {},
   "outputs": [
    {
     "data": {
      "text/plain": [
       "(0,\n",
       " '1',\n",
       " 'Goroka',\n",
       " 'Goroka',\n",
       " 'Papua New Guinea',\n",
       " 'GKA',\n",
       " 'AYGA',\n",
       " '-6.081689',\n",
       " '145.391881',\n",
       " '5282',\n",
       " '10',\n",
       " 'U',\n",
       " 'Pacific/Port_Moresby')"
      ]
     },
     "execution_count": 33,
     "metadata": {},
     "output_type": "execute_result"
    }
   ],
   "source": [
    "cursor.execute(\"SELECT * FROM airports as a\").fetchone() \n",
    "#fetches one row"
   ]
  },
  {
   "cell_type": "code",
   "execution_count": 456,
   "metadata": {},
   "outputs": [
    {
     "data": {
      "text/plain": [
       "(0,\n",
       " '1',\n",
       " 'Goroka',\n",
       " 'Goroka',\n",
       " 'Papua New Guinea',\n",
       " 'GKA',\n",
       " 'AYGA',\n",
       " '-6.081689',\n",
       " '145.391881',\n",
       " '5282',\n",
       " '10',\n",
       " 'U',\n",
       " 'Pacific/Port_Moresby')"
      ]
     },
     "execution_count": 456,
     "metadata": {},
     "output_type": "execute_result"
    }
   ],
   "source": [
    "cursor.execute(\"SELECT * FROM airports\").fetchone()"
   ]
  },
  {
   "cell_type": "code",
   "execution_count": 457,
   "metadata": {
    "scrolled": true
   },
   "outputs": [
    {
     "data": {
      "text/plain": [
       "(1,\n",
       " '2',\n",
       " 'Madang',\n",
       " 'Madang',\n",
       " 'Papua New Guinea',\n",
       " 'MAG',\n",
       " 'AYMD',\n",
       " '-5.207083',\n",
       " '145.7887',\n",
       " '20',\n",
       " '10',\n",
       " 'U',\n",
       " 'Pacific/Port_Moresby')"
      ]
     },
     "execution_count": 457,
     "metadata": {},
     "output_type": "execute_result"
    }
   ],
   "source": [
    "cursor.fetchone()  # without new execute, it goes to the next row\n",
    "# to get back to row 1, or to go back, you need to execute again.\n",
    "# you have to store results from the fetch command to get back to them"
   ]
  },
  {
   "cell_type": "code",
   "execution_count": 458,
   "metadata": {},
   "outputs": [
    {
     "data": {
      "text/plain": [
       "[(2,\n",
       "  '3',\n",
       "  'Mount Hagen',\n",
       "  'Mount Hagen',\n",
       "  'Papua New Guinea',\n",
       "  'HGU',\n",
       "  'AYMH',\n",
       "  '-5.826789',\n",
       "  '144.295861',\n",
       "  '5388',\n",
       "  '10',\n",
       "  'U',\n",
       "  'Pacific/Port_Moresby'),\n",
       " (3,\n",
       "  '4',\n",
       "  'Nadzab',\n",
       "  'Nadzab',\n",
       "  'Papua New Guinea',\n",
       "  'LAE',\n",
       "  'AYNZ',\n",
       "  '-6.569828',\n",
       "  '146.726242',\n",
       "  '239',\n",
       "  '10',\n",
       "  'U',\n",
       "  'Pacific/Port_Moresby'),\n",
       " (4,\n",
       "  '5',\n",
       "  'Port Moresby Jacksons Intl',\n",
       "  'Port Moresby',\n",
       "  'Papua New Guinea',\n",
       "  'POM',\n",
       "  'AYPY',\n",
       "  '-9.443383',\n",
       "  '147.22005',\n",
       "  '146',\n",
       "  '10',\n",
       "  'U',\n",
       "  'Pacific/Port_Moresby'),\n",
       " (5,\n",
       "  '6',\n",
       "  'Wewak Intl',\n",
       "  'Wewak',\n",
       "  'Papua New Guinea',\n",
       "  'WWK',\n",
       "  'AYWK',\n",
       "  '-3.583828',\n",
       "  '143.669186',\n",
       "  '19',\n",
       "  '10',\n",
       "  'U',\n",
       "  'Pacific/Port_Moresby')]"
      ]
     },
     "execution_count": 458,
     "metadata": {},
     "output_type": "execute_result"
    }
   ],
   "source": [
    "cursor.fetchmany(4)  # fetched as tuples, but basically rows"
   ]
  },
  {
   "cell_type": "code",
   "execution_count": 459,
   "metadata": {},
   "outputs": [
    {
     "name": "stdout",
     "output_type": "stream",
     "text": [
      "(6, '7', 'Narsarsuaq', 'Narssarssuaq', 'Greenland', 'UAK', 'BGBW', '61.160517', '-45.425978', '112', '-3', 'E', 'America/Godthab')\n",
      "(7, '8', 'Nuuk', 'Godthaab', 'Greenland', 'GOH', 'BGGH', '64.190922', '-51.678064', '283', '-3', 'E', 'America/Godthab')\n",
      "(8, '9', 'Sondre Stromfjord', 'Sondrestrom', 'Greenland', 'SFJ', 'BGSF', '67.016969', '-50.689325', '165', '-3', 'E', 'America/Godthab')\n",
      "(9, '10', 'Thule Air Base', 'Thule', 'Greenland', 'THU', 'BGTL', '76.531203', '-68.703161', '251', '-4', 'E', 'America/Thule')\n"
     ]
    }
   ],
   "source": [
    "for row in cursor.fetchmany(4):\n",
    "    print(row)"
   ]
  },
  {
   "cell_type": "code",
   "execution_count": 460,
   "metadata": {
    "scrolled": true
   },
   "outputs": [
    {
     "name": "stdout",
     "output_type": "stream",
     "text": [
      "10 11 Akureyri Akureyri Iceland AEY BIAR 65.659994 -18.072703 6 0 N Atlantic/Reykjavik\n",
      "11 12 Egilsstadir Egilsstadir Iceland EGS BIEG 65.283333 -14.401389 76 0 N Atlantic/Reykjavik\n",
      "12 13 Hornafjordur Hofn Iceland HFN BIHN 64.295556 -15.227222 24 0 N Atlantic/Reykjavik\n",
      "13 14 Husavik Husavik Iceland HZK BIHU 65.952328 -17.425978 48 0 N Atlantic/Reykjavik\n"
     ]
    }
   ],
   "source": [
    "for row in cursor.fetchmany(4):\n",
    "    print(' '.join([str(x) for x in row]))  # using list comprehension"
   ]
  },
  {
   "cell_type": "code",
   "execution_count": 461,
   "metadata": {},
   "outputs": [
    {
     "name": "stdout",
     "output_type": "stream",
     "text": [
      "14\t15\tIsafjordur\tIsafjordur\tIceland\tIFJ\tBIIS\t66.058056\t-23.135278\t8\t0\tN\tAtlantic/Reykjavik\n",
      "15\t16\tKeflavik International Airport\tKeflavik\tIceland\tKEF\tBIKF\t63.985\t-22.605556\t171\t0\tN\tAtlantic/Reykjavik\n",
      "16\t17\tPatreksfjordur\tPatreksfjordur\tIceland\tPFJ\tBIPA\t65.555833\t-23.965\t11\t0\tN\tAtlantic/Reykjavik\n",
      "17\t18\tReykjavik\tReykjavik\tIceland\tRKV\tBIRK\t64.13\t-21.940556\t48\t0\tN\tAtlantic/Reykjavik\n",
      "18\t19\tSiglufjordur\tSiglufjordur\tIceland\tSIJ\tBISI\t66.133333\t-18.916667\t10\t0\tN\tAtlantic/Reykjavik\n",
      "19\t20\tVestmannaeyjar\tVestmannaeyjar\tIceland\tVEY\tBIVM\t63.424303\t-20.278875\t326\t0\tN\tAtlantic/Reykjavik\n",
      "20\t21\tSault Ste Marie\tSault Sainte Marie\tCanada\tYAM\tCYAM\t46.485001\t-84.509445\t630\t-5\tA\tAmerica/Toronto\n",
      "21\t22\tWinnipeg St Andrews\tWinnipeg\tCanada\tYAV\tCYAV\t50.056389\t-97.0325\t760\t-6\tA\tAmerica/Winnipeg\n",
      "22\t23\tShearwater\tHalifax\tCanada\tYAW\tCYAW\t44.639721\t-63.499444\t167\t-4\tA\tAmerica/Halifax\n",
      "23\t24\tSt Anthony\tSt. Anthony\tCanada\tYAY\tCYAY\t51.391944\t-56.083056\t108\t-3.5\tA\tAmerica/St_Johns\n"
     ]
    }
   ],
   "source": [
    "for row in cursor.fetchmany(10):\n",
    "    print('\\t'.join([str(x) for x in row]))  # using list comprehension"
   ]
  },
  {
   "cell_type": "code",
   "execution_count": 433,
   "metadata": {},
   "outputs": [
    {
     "data": {
      "text/plain": [
       "123"
      ]
     },
     "execution_count": 433,
     "metadata": {},
     "output_type": "execute_result"
    }
   ],
   "source": [
    "y = 123\n",
    "y"
   ]
  },
  {
   "cell_type": "code",
   "execution_count": 434,
   "metadata": {},
   "outputs": [
    {
     "data": {
      "text/plain": [
       "'123'"
      ]
     },
     "execution_count": 434,
     "metadata": {},
     "output_type": "execute_result"
    }
   ],
   "source": [
    "str(y)"
   ]
  },
  {
   "cell_type": "markdown",
   "metadata": {
    "slideshow": {
     "slide_type": "slide"
    }
   },
   "source": [
    "#### Use description"
   ]
  },
  {
   "cell_type": "code",
   "execution_count": 462,
   "metadata": {
    "slideshow": {
     "slide_type": "fragment"
    }
   },
   "outputs": [
    {
     "data": {
      "text/plain": [
       "(('index', None, None, None, None, None, None),\n",
       " ('id', None, None, None, None, None, None),\n",
       " ('name', None, None, None, None, None, None),\n",
       " ('city', None, None, None, None, None, None),\n",
       " ('country', None, None, None, None, None, None),\n",
       " ('code', None, None, None, None, None, None),\n",
       " ('icao', None, None, None, None, None, None),\n",
       " ('latitude', None, None, None, None, None, None),\n",
       " ('longitude', None, None, None, None, None, None),\n",
       " ('altitude', None, None, None, None, None, None),\n",
       " ('offset', None, None, None, None, None, None),\n",
       " ('dst', None, None, None, None, None, None),\n",
       " ('timezone', None, None, None, None, None, None))"
      ]
     },
     "execution_count": 462,
     "metadata": {},
     "output_type": "execute_result"
    }
   ],
   "source": [
    "cursor.description"
   ]
  },
  {
   "cell_type": "markdown",
   "metadata": {
    "slideshow": {
     "slide_type": "slide"
    }
   },
   "source": [
    "#### Or use `Pragma`\n",
    "`Pragma` tool [link here](https://www.sqlite.org/pragma.html#pragma_table_info)\n",
    "\n",
    "**output**<br>\n",
    "`(column id, column name, data type, whether or not the column can be NULL, and the default value for the column)`"
   ]
  },
  {
   "cell_type": "markdown",
   "metadata": {},
   "source": [
    "andy doesn't like pragma too much"
   ]
  },
  {
   "cell_type": "code",
   "execution_count": 463,
   "metadata": {
    "slideshow": {
     "slide_type": "slide"
    }
   },
   "outputs": [
    {
     "name": "stdout",
     "output_type": "stream",
     "text": [
      "(0, 'index', 'INTEGER', 0, None, 0)\n",
      "(1, 'id', 'TEXT', 0, None, 0)\n",
      "(2, 'name', 'TEXT', 0, None, 0)\n",
      "(3, 'city', 'TEXT', 0, None, 0)\n",
      "(4, 'country', 'TEXT', 0, None, 0)\n",
      "(5, 'code', 'TEXT', 0, None, 0)\n",
      "(6, 'icao', 'TEXT', 0, None, 0)\n",
      "(7, 'latitude', 'TEXT', 0, None, 0)\n",
      "(8, 'longitude', 'TEXT', 0, None, 0)\n",
      "(9, 'altitude', 'TEXT', 0, None, 0)\n",
      "(10, 'offset', 'TEXT', 0, None, 0)\n",
      "(11, 'dst', 'TEXT', 0, None, 0)\n",
      "(12, 'timezone', 'TEXT', 0, None, 0)\n"
     ]
    }
   ],
   "source": [
    "cursor.execute(\"PRAGMA table_info(airports)\")\n",
    "info = cursor.fetchall()\n",
    "print(*info, sep = \"\\n\") "
   ]
  },
  {
   "cell_type": "markdown",
   "metadata": {
    "slideshow": {
     "slide_type": "slide"
    }
   },
   "source": [
    "#### Making fetch happen\n",
    "\n",
    "`.fetchall()` is how you get the query results out of the object.\n",
    "\n",
    "You can also `.fetchone()` or `.fetchmany()`"
   ]
  },
  {
   "cell_type": "markdown",
   "metadata": {
    "slideshow": {
     "slide_type": "slide"
    }
   },
   "source": [
    "**Task:** Get the descriptive data for airlines and routes tables"
   ]
  },
  {
   "cell_type": "code",
   "execution_count": 465,
   "metadata": {},
   "outputs": [],
   "source": [
    "z = (1, 2)"
   ]
  },
  {
   "cell_type": "code",
   "execution_count": 469,
   "metadata": {},
   "outputs": [
    {
     "data": {
      "text/plain": [
       "int"
      ]
     },
     "execution_count": 469,
     "metadata": {},
     "output_type": "execute_result"
    }
   ],
   "source": [
    "x, y = (1, 2) # unpacking\n",
    "type(x)"
   ]
  },
  {
   "cell_type": "code",
   "execution_count": 467,
   "metadata": {},
   "outputs": [
    {
     "name": "stdout",
     "output_type": "stream",
     "text": [
      "(1, 2)\n"
     ]
    }
   ],
   "source": [
    "print(z)"
   ]
  },
  {
   "cell_type": "code",
   "execution_count": 468,
   "metadata": {},
   "outputs": [
    {
     "name": "stdout",
     "output_type": "stream",
     "text": [
      "1 2\n"
     ]
    }
   ],
   "source": [
    "print(z[0],z[1])"
   ]
  },
  {
   "cell_type": "code",
   "execution_count": 470,
   "metadata": {},
   "outputs": [
    {
     "name": "stdout",
     "output_type": "stream",
     "text": [
      "1 2\n"
     ]
    }
   ],
   "source": [
    "# same as\n",
    "print(*z)    # unpacking"
   ]
  },
  {
   "cell_type": "code",
   "execution_count": 471,
   "metadata": {},
   "outputs": [
    {
     "name": "stdout",
     "output_type": "stream",
     "text": [
      "(0, 'index', 'INTEGER', 0, None, 0)\n",
      "(1, 'id', 'TEXT', 0, None, 0)\n",
      "(2, 'name', 'TEXT', 0, None, 0)\n",
      "(3, 'alias', 'TEXT', 0, None, 0)\n",
      "(4, 'iata', 'TEXT', 0, None, 0)\n",
      "(5, 'icao', 'TEXT', 0, None, 0)\n",
      "(6, 'callsign', 'TEXT', 0, None, 0)\n",
      "(7, 'country', 'TEXT', 0, None, 0)\n",
      "(8, 'active', 'TEXT', 0, None, 0)\n"
     ]
    }
   ],
   "source": [
    "cursor.execute(\"PRAGMA table_info(airlines)\")\n",
    "info = cursor.fetchall()   # info is a list of tuples\n",
    "print(*info, sep = \"\\n\")  # unpacking the list of tuples\n",
    "# so it prints each one"
   ]
  },
  {
   "cell_type": "code",
   "execution_count": 474,
   "metadata": {
    "scrolled": true
   },
   "outputs": [
    {
     "name": "stdout",
     "output_type": "stream",
     "text": [
      "(0, 'index', 'INTEGER', 0, None, 0)\n",
      "(1, 'airline', 'TEXT', 0, None, 0)\n",
      "(2, 'airline_id', 'TEXT', 0, None, 0)\n",
      "(3, 'source', 'TEXT', 0, None, 0)\n",
      "(4, 'source_id', 'TEXT', 0, None, 0)\n",
      "(5, 'dest', 'TEXT', 0, None, 0)\n",
      "(6, 'dest_id', 'TEXT', 0, None, 0)\n",
      "(7, 'codeshare', 'TEXT', 0, None, 0)\n",
      "(8, 'stops', 'TEXT', 0, None, 0)\n",
      "(9, 'equipment', 'TEXT', 0, None, 0)\n"
     ]
    }
   ],
   "source": [
    "cursor.execute(\"PRAGMA table_info(routes)\")\n",
    "info = cursor.fetchall()\n",
    "print(*info, sep = \"\\n\")"
   ]
  },
  {
   "cell_type": "code",
   "execution_count": null,
   "metadata": {},
   "outputs": [],
   "source": []
  },
  {
   "cell_type": "markdown",
   "metadata": {},
   "source": [
    "BD Browser time\n"
   ]
  },
  {
   "cell_type": "markdown",
   "metadata": {},
   "source": [
    "open database"
   ]
  },
  {
   "cell_type": "markdown",
   "metadata": {},
   "source": [
    "BD browser for SQL Lite only. it shows the structure of the data, so no real need to use pragma"
   ]
  },
  {
   "cell_type": "markdown",
   "metadata": {},
   "source": [
    "you will use a different tool for a different SQL database type, but you will use a GUI to see the data."
   ]
  },
  {
   "cell_type": "markdown",
   "metadata": {},
   "source": []
  },
  {
   "cell_type": "markdown",
   "metadata": {
    "slideshow": {
     "slide_type": "slide"
    }
   },
   "source": [
    "***\n",
    "## Goal 4: Use basic SQL commands "
   ]
  },
  {
   "cell_type": "markdown",
   "metadata": {
    "slideshow": {
     "slide_type": "slide"
    }
   },
   "source": [
    "### The Structure of a SQL Query"
   ]
  },
  {
   "cell_type": "markdown",
   "metadata": {
    "slideshow": {
     "slide_type": "slide"
    }
   },
   "source": [
    "<img src='img/sql_statement.jpg'/>"
   ]
  },
  {
   "cell_type": "markdown",
   "metadata": {
    "slideshow": {
     "slide_type": "slide"
    }
   },
   "source": [
    "### Constructing SQL queries"
   ]
  },
  {
   "cell_type": "markdown",
   "metadata": {
    "slideshow": {
     "slide_type": "fragment"
    }
   },
   "source": [
    "**`SELECT`**:  The columns you want\n",
    "  - options: `DISTINCT` to pull only unique rows, using `AS` to rename columns, single number aggregates"
   ]
  },
  {
   "cell_type": "markdown",
   "metadata": {
    "slideshow": {
     "slide_type": "fragment"
    }
   },
   "source": [
    "**`FROM`:** the source tables\n",
    "  - options: also uses aliasing with `AS`; joining with `[LEFT|INNER|RIGHT|FULL] JOIN ___ [ON|USING]`"
   ]
  },
  {
   "cell_type": "markdown",
   "metadata": {
    "slideshow": {
     "slide_type": "fragment"
    }
   },
   "source": [
    "**`WHERE`**: your filters\n",
    "  - options: comparators like `=` & `>=`; `BETWEEN`, `IN`, `LIKE` (with wildcards `%`); booleans like `AND`, `OR`, `NOT`"
   ]
  },
  {
   "cell_type": "markdown",
   "metadata": {
    "slideshow": {
     "slide_type": "fragment"
    }
   },
   "source": [
    "**`ORDER BY`**: sorting\n",
    "  - options: `ASC` (default) and `DESC`"
   ]
  },
  {
   "cell_type": "markdown",
   "metadata": {
    "slideshow": {
     "slide_type": "fragment"
    }
   },
   "source": [
    "**`LIMIT`**:  # of rows to return (pair with `OFFSET`)"
   ]
  },
  {
   "cell_type": "markdown",
   "metadata": {
    "slideshow": {
     "slide_type": "slide"
    }
   },
   "source": [
    "**Task**: \n",
    "- Select only active airlines in the UK from the airlines table\n",
    "- Select the unique list of countries with airports"
   ]
  },
  {
   "cell_type": "markdown",
   "metadata": {},
   "source": [
    "go to DB Browser\n",
    "\n",
    "\n",
    "SQL is 1-indexed!!\n",
    "unlike python\n",
    "\n",
    "= in SQL is equality (== in Python)\n",
    "\n",
    "use single quotes for strings! not all SQL databases accept double quote\n",
    "\n",
    "sorting based on ASCII codes: use  lower(name)"
   ]
  },
  {
   "attachments": {
    "image.png": {
     "image/png": "[encoded data removed]"
    }
   },
   "cell_type": "markdown",
   "metadata": {},
   "source": [
    "![image.png](attachment:image.png)"
   ]
  },
  {
   "cell_type": "code",
   "execution_count": 477,
   "metadata": {},
   "outputs": [
    {
     "ename": "SyntaxError",
     "evalue": "invalid syntax (<ipython-input-477-8a4390c93688>, line 1)",
     "output_type": "error",
     "traceback": [
      "\u001b[1;36m  File \u001b[1;32m\"<ipython-input-477-8a4390c93688>\"\u001b[1;36m, line \u001b[1;32m1\u001b[0m\n\u001b[1;33m    SELECT *\u001b[0m\n\u001b[1;37m            ^\u001b[0m\n\u001b[1;31mSyntaxError\u001b[0m\u001b[1;31m:\u001b[0m invalid syntax\n"
     ]
    }
   ],
   "source": [
    "SELECT *\n",
    "FROM airlines\n",
    "WHERE active = 'Y'\n",
    " AND country = 'United Kingdom'\n",
    "ORDER BY lower(name)"
   ]
  },
  {
   "cell_type": "code",
   "execution_count": null,
   "metadata": {},
   "outputs": [],
   "source": [
    "cursor.execute(\"\"\"\n",
    "\n",
    "\n",
    "\n",
    "\"\"\")\n",
    "cursor.fetchall()  "
   ]
  },
  {
   "cell_type": "code",
   "execution_count": 478,
   "metadata": {},
   "outputs": [
    {
     "data": {
      "text/plain": [
       "[(664,\n",
       "  '665',\n",
       "  'AD Aviation',\n",
       "  '\\\\N',\n",
       "  None,\n",
       "  'VUE',\n",
       "  'FLIGHTVUE',\n",
       "  'United Kingdom',\n",
       "  'Y'),\n",
       " (5848,\n",
       "  '16881',\n",
       "  'Air Cudlua',\n",
       "  'Air Cudlua',\n",
       "  None,\n",
       "  'CUD',\n",
       "  'Cudlua',\n",
       "  'United Kingdom',\n",
       "  'Y'),\n",
       " (689, '690', 'Air Foyle', '\\\\N', 'GS', 'UPA', 'FOYLE', 'United Kingdom', 'Y'),\n",
       " (491,\n",
       "  '492',\n",
       "  'Air Southwest',\n",
       "  '\\\\N',\n",
       "  None,\n",
       "  'WOW',\n",
       "  'SWALLOW',\n",
       "  'United Kingdom',\n",
       "  'Y'),\n",
       " (564,\n",
       "  '565',\n",
       "  'Air Wales',\n",
       "  '\\\\N',\n",
       "  '6G',\n",
       "  'AWW',\n",
       "  'RED DRAGON',\n",
       "  'United Kingdom',\n",
       "  'Y'),\n",
       " (6034,\n",
       "  '19808',\n",
       "  'All Europe',\n",
       "  'All Europe',\n",
       "  'N9',\n",
       "  'N99',\n",
       "  None,\n",
       "  'United Kingdom',\n",
       "  'Y'),\n",
       " (111,\n",
       "  '112',\n",
       "  'Astraeus',\n",
       "  '\\\\N',\n",
       "  '5W',\n",
       "  'AEU',\n",
       "  'FLYSTAR',\n",
       "  'United Kingdom',\n",
       "  'Y'),\n",
       " (507,\n",
       "  '508',\n",
       "  'Aurigny Air Services',\n",
       "  '\\\\N',\n",
       "  'GR',\n",
       "  'AUR',\n",
       "  'AYLINE',\n",
       "  'United Kingdom',\n",
       "  'Y'),\n",
       " (1793,\n",
       "  '1795',\n",
       "  'BA CityFlyer',\n",
       "  '\\\\N',\n",
       "  'CJ',\n",
       "  'CFE',\n",
       "  'FLYER',\n",
       "  'United Kingdom',\n",
       "  'Y'),\n",
       " (6010,\n",
       "  '19525',\n",
       "  'BBN-Airways',\n",
       "  'BlackBurn',\n",
       "  None,\n",
       "  'EGH',\n",
       "  'BBN',\n",
       "  'United Kingdom',\n",
       "  'Y'),\n",
       " (1435,\n",
       "  '1437',\n",
       "  'bmi',\n",
       "  'bmi British Midland',\n",
       "  'BD',\n",
       "  'BMA',\n",
       "  'MIDLAND',\n",
       "  'United Kingdom',\n",
       "  'Y'),\n",
       " (1439, '1441', 'bmibaby', '\\\\N', 'WW', 'BMI', 'BABY', 'United Kingdom', 'Y'),\n",
       " (1353,\n",
       "  '1355',\n",
       "  'British Airways',\n",
       "  '\\\\N',\n",
       "  'BA',\n",
       "  'BAW',\n",
       "  'SPEEDBIRD',\n",
       "  'United Kingdom',\n",
       "  'Y'),\n",
       " (1409,\n",
       "  '1411',\n",
       "  'British International Helicopters',\n",
       "  '\\\\N',\n",
       "  'BS',\n",
       "  'BIH',\n",
       "  'BRINTEL',\n",
       "  'United Kingdom',\n",
       "  'Y'),\n",
       " (1541,\n",
       "  '1543',\n",
       "  'British Mediterranean Airways',\n",
       "  '\\\\N',\n",
       "  'KJ',\n",
       "  'LAJ',\n",
       "  'BEE MED',\n",
       "  'United Kingdom',\n",
       "  'Y'),\n",
       " (1443,\n",
       "  '1445',\n",
       "  'British Midland Regional',\n",
       "  '\\\\N',\n",
       "  None,\n",
       "  'BMR',\n",
       "  None,\n",
       "  'United Kingdom',\n",
       "  'Y'),\n",
       " (5782,\n",
       "  '16261',\n",
       "  'CB Airways UK ( Interliging Flights )',\n",
       "  None,\n",
       "  '1F',\n",
       "  'CIF',\n",
       "  None,\n",
       "  'United Kingdom',\n",
       "  'Y'),\n",
       " (1921,\n",
       "  '1923',\n",
       "  'Crest Aviation',\n",
       "  '\\\\N',\n",
       "  None,\n",
       "  'CAN',\n",
       "  'CREST',\n",
       "  'United Kingdom',\n",
       "  'Y'),\n",
       " (2115,\n",
       "  '2117',\n",
       "  'Eastern Airways',\n",
       "  '\\\\N',\n",
       "  'T3',\n",
       "  'EZE',\n",
       "  'EASTFLIGHT',\n",
       "  'United Kingdom',\n",
       "  'Y'),\n",
       " (2295,\n",
       "  '2297',\n",
       "  'easyJet',\n",
       "  'EasyJet Airline',\n",
       "  'U2',\n",
       "  'EZY',\n",
       "  'EASY',\n",
       "  'United Kingdom',\n",
       "  'Y'),\n",
       " (2262,\n",
       "  '2264',\n",
       "  'Excel Airways',\n",
       "  '\\\\N',\n",
       "  'JN',\n",
       "  'XLA',\n",
       "  'EXPO',\n",
       "  'United Kingdom',\n",
       "  'Y'),\n",
       " (2263,\n",
       "  '2265',\n",
       "  'Excel Charter',\n",
       "  '\\\\N',\n",
       "  None,\n",
       "  'XEL',\n",
       "  'HELI EXCEL',\n",
       "  'United Kingdom',\n",
       "  'Y'),\n",
       " (2355,\n",
       "  '2357',\n",
       "  'First Choice Airways',\n",
       "  '\\\\N',\n",
       "  'DP',\n",
       "  'FCA',\n",
       "  'JETSET',\n",
       "  'United Kingdom',\n",
       "  'Y'),\n",
       " (2393,\n",
       "  '2395',\n",
       "  'Flightline',\n",
       "  '\\\\N',\n",
       "  'B5',\n",
       "  'FLT',\n",
       "  'FLIGHTLINE',\n",
       "  'United Kingdom',\n",
       "  'Y'),\n",
       " (2419, '2421', 'Flybe', '\\\\N', 'BE', 'BEE', 'JERSEY', 'United Kingdom', 'Y'),\n",
       " (2423,\n",
       "  '2425',\n",
       "  'Flyglobespan',\n",
       "  '\\\\N',\n",
       "  'B4',\n",
       "  'GSM',\n",
       "  'GLOBESPAN',\n",
       "  'United Kingdom',\n",
       "  'Y'),\n",
       " (2484,\n",
       "  '2486',\n",
       "  'GB Airways',\n",
       "  '\\\\N',\n",
       "  'GT',\n",
       "  'GBL',\n",
       "  'GEEBEE AIRWAYS',\n",
       "  'United Kingdom',\n",
       "  'Y'),\n",
       " (2758,\n",
       "  '2761',\n",
       "  'Highland Airways',\n",
       "  '\\\\N',\n",
       "  None,\n",
       "  'HWY',\n",
       "  'HIWAY',\n",
       "  'United Kingdom',\n",
       "  'Y'),\n",
       " (5589,\n",
       "  '10642',\n",
       "  'Jc royal.britannica',\n",
       "  None,\n",
       "  None,\n",
       "  'JRB',\n",
       "  None,\n",
       "  'United Kingdom',\n",
       "  'Y'),\n",
       " (3023,\n",
       "  '3026',\n",
       "  'Jet2.com',\n",
       "  '\\\\N',\n",
       "  'LS',\n",
       "  'EXS',\n",
       "  'CHANNEX',\n",
       "  'United Kingdom',\n",
       "  'Y'),\n",
       " (4106,\n",
       "  '4113',\n",
       "  'Kinloss Flying Training Unit',\n",
       "  '\\\\N',\n",
       "  None,\n",
       "  'KIN',\n",
       "  'KINLOSS',\n",
       "  'United Kingdom',\n",
       "  'Y'),\n",
       " (3526,\n",
       "  '3532',\n",
       "  'Monarch Airlines',\n",
       "  '\\\\N',\n",
       "  'ZB',\n",
       "  'MON',\n",
       "  'MONARCH',\n",
       "  'United Kingdom',\n",
       "  'Y'),\n",
       " (3562,\n",
       "  '3568',\n",
       "  'MyTravel Airways',\n",
       "  '\\\\N',\n",
       "  'VZ',\n",
       "  'MYT',\n",
       "  'KESTREL',\n",
       "  'United Kingdom',\n",
       "  'Y'),\n",
       " (3678,\n",
       "  '3684',\n",
       "  'Norfolk County Flight College',\n",
       "  '\\\\N',\n",
       "  None,\n",
       "  'NCF',\n",
       "  'COUNTY',\n",
       "  'United Kingdom',\n",
       "  'Y'),\n",
       " (6022,\n",
       "  '19677',\n",
       "  'Rainbow Air Euro',\n",
       "  'Rainbow Air EU',\n",
       "  'RU',\n",
       "  'RUE',\n",
       "  'Rainbow Air',\n",
       "  'United Kingdom',\n",
       "  'Y'),\n",
       " (5724,\n",
       "  '13936',\n",
       "  'Royal European Airlines',\n",
       "  None,\n",
       "  '69',\n",
       "  '\\\\N',\n",
       "  None,\n",
       "  'United Kingdom',\n",
       "  'Y'),\n",
       " (4314,\n",
       "  '4323',\n",
       "  'ScotAirways',\n",
       "  '\\\\N',\n",
       "  None,\n",
       "  'SAY',\n",
       "  'SUCKLING',\n",
       "  'United Kingdom',\n",
       "  'Y'),\n",
       " (4886,\n",
       "  '4897',\n",
       "  'Thomas Cook Airlines',\n",
       "  '\\\\N',\n",
       "  'MT',\n",
       "  'TCX',\n",
       "  'KESTREL',\n",
       "  'United Kingdom',\n",
       "  'Y'),\n",
       " (5002,\n",
       "  '5013',\n",
       "  'Thomsonfly',\n",
       "  '\\\\N',\n",
       "  'BY',\n",
       "  'TOM',\n",
       "  'TOMSON',\n",
       "  'United Kingdom',\n",
       "  'Y'),\n",
       " (5329,\n",
       "  '5347',\n",
       "  'Virgin Atlantic Airways',\n",
       "  '\\\\N',\n",
       "  'VS',\n",
       "  'VIR',\n",
       "  'VIRGIN',\n",
       "  'United Kingdom',\n",
       "  'Y')]"
      ]
     },
     "execution_count": 478,
     "metadata": {},
     "output_type": "execute_result"
    }
   ],
   "source": [
    "cursor.execute(\"\"\"\n",
    "\n",
    "SELECT *\n",
    "FROM airlines\n",
    "WHERE active = 'Y'\n",
    " AND country = 'United Kingdom'\n",
    "ORDER BY lower(name)\n",
    "\n",
    "\"\"\")\n",
    "cursor.fetchall()  "
   ]
  },
  {
   "cell_type": "code",
   "execution_count": null,
   "metadata": {},
   "outputs": [],
   "source": []
  },
  {
   "cell_type": "code",
   "execution_count": 479,
   "metadata": {},
   "outputs": [
    {
     "data": {
      "text/plain": [
       "[('Afghanistan',),\n",
       " ('Albania',),\n",
       " ('Algeria',),\n",
       " ('American Samoa',),\n",
       " ('Angola',),\n",
       " ('Anguilla',),\n",
       " ('Antarctica',),\n",
       " ('Antigua and Barbuda',),\n",
       " ('Argentina',),\n",
       " ('Armenia',),\n",
       " ('Aruba',),\n",
       " ('Australia',),\n",
       " ('Austria',),\n",
       " ('Azerbaijan',),\n",
       " ('Bahamas',),\n",
       " ('Bahrain',),\n",
       " ('Bangladesh',),\n",
       " ('Barbados',),\n",
       " ('Belarus',),\n",
       " ('Belgium',),\n",
       " ('Belize',),\n",
       " ('Benin',),\n",
       " ('Bermuda',),\n",
       " ('Bhutan',),\n",
       " ('Bolivia',),\n",
       " ('Bosnia and Herzegovina',),\n",
       " ('Botswana',),\n",
       " ('Brazil',),\n",
       " ('British Indian Ocean Territory',),\n",
       " ('British Virgin Islands',),\n",
       " ('Brunei',),\n",
       " ('Bulgaria',),\n",
       " ('Burkina Faso',),\n",
       " ('Burma',),\n",
       " ('Burundi',),\n",
       " ('Cambodia',),\n",
       " ('Cameroon',),\n",
       " ('Canada',),\n",
       " ('Cape Verde',),\n",
       " ('Cayman Islands',),\n",
       " ('Central African Republic',),\n",
       " ('Chad',),\n",
       " ('Chile',),\n",
       " ('China',),\n",
       " ('Christmas Island',),\n",
       " ('Cocos (Keeling) Islands',),\n",
       " ('Colombia',),\n",
       " ('Comoros',),\n",
       " ('Congo (Brazzaville)',),\n",
       " ('Congo (Kinshasa)',),\n",
       " ('Cook Islands',),\n",
       " ('Costa Rica',),\n",
       " (\"Cote d'Ivoire\",),\n",
       " ('Croatia',),\n",
       " ('Cuba',),\n",
       " ('Cyprus',),\n",
       " ('Czech Republic',),\n",
       " ('Denmark',),\n",
       " ('Djibouti',),\n",
       " ('Dominica',),\n",
       " ('Dominican Republic',),\n",
       " ('East Timor',),\n",
       " ('Ecuador',),\n",
       " ('Egypt',),\n",
       " ('El Salvador',),\n",
       " ('Equatorial Guinea',),\n",
       " ('Eritrea',),\n",
       " ('Estonia',),\n",
       " ('Ethiopia',),\n",
       " ('Falkland Islands',),\n",
       " ('Faroe Islands',),\n",
       " ('Fiji',),\n",
       " ('Finland',),\n",
       " ('France',),\n",
       " ('French Guiana',),\n",
       " ('French Polynesia',),\n",
       " ('Gabon',),\n",
       " ('Gambia',),\n",
       " ('Georgia',),\n",
       " ('Germany',),\n",
       " ('Ghana',),\n",
       " ('Gibraltar',),\n",
       " ('Greece',),\n",
       " ('Greenland',),\n",
       " ('Grenada',),\n",
       " ('Guadeloupe',),\n",
       " ('Guam',),\n",
       " ('Guatemala',),\n",
       " ('Guernsey',),\n",
       " ('Guinea',),\n",
       " ('Guinea-Bissau',),\n",
       " ('Guyana',),\n",
       " ('Haiti',),\n",
       " ('Honduras',),\n",
       " ('Hong Kong',),\n",
       " ('Hungary',),\n",
       " ('Iceland',),\n",
       " ('India',),\n",
       " ('Indonesia',),\n",
       " ('Iran',),\n",
       " ('Iraq',),\n",
       " ('Ireland',),\n",
       " ('Isle of Man',),\n",
       " ('Israel',),\n",
       " ('Italy',),\n",
       " ('Jamaica',),\n",
       " ('Japan',),\n",
       " ('Jersey',),\n",
       " ('Johnston Atoll',),\n",
       " ('Jordan',),\n",
       " ('Kazakhstan',),\n",
       " ('Kenya',),\n",
       " ('Kiribati',),\n",
       " ('Korea',),\n",
       " ('Kuwait',),\n",
       " ('Kyrgyzstan',),\n",
       " ('Laos',),\n",
       " ('Latvia',),\n",
       " ('Lebanon',),\n",
       " ('Lesotho',),\n",
       " ('Liberia',),\n",
       " ('Libya',),\n",
       " ('Lithuania',),\n",
       " ('Luxembourg',),\n",
       " ('Macau',),\n",
       " ('Macedonia',),\n",
       " ('Madagascar',),\n",
       " ('Malawi',),\n",
       " ('Malaysia',),\n",
       " ('Maldives',),\n",
       " ('Mali',),\n",
       " ('Malta',),\n",
       " ('Marshall Islands',),\n",
       " ('Martinique',),\n",
       " ('Mauritania',),\n",
       " ('Mauritius',),\n",
       " ('Mayotte',),\n",
       " ('Mexico',),\n",
       " ('Micronesia',),\n",
       " ('Midway Islands',),\n",
       " ('Moldova',),\n",
       " ('Monaco',),\n",
       " ('Mongolia',),\n",
       " ('Montenegro',),\n",
       " ('Montserrat',),\n",
       " ('Morocco',),\n",
       " ('Mozambique',),\n",
       " ('Myanmar',),\n",
       " ('Namibia',),\n",
       " ('Nauru',),\n",
       " ('Nepal',),\n",
       " ('Netherlands',),\n",
       " ('Netherlands Antilles',),\n",
       " ('New Caledonia',),\n",
       " ('New Zealand',),\n",
       " ('Nicaragua',),\n",
       " ('Niger',),\n",
       " ('Nigeria',),\n",
       " ('Niue',),\n",
       " ('Norfolk Island',),\n",
       " ('North Korea',),\n",
       " ('Northern Mariana Islands',),\n",
       " ('Norway',),\n",
       " ('Oman',),\n",
       " ('Pakistan',),\n",
       " ('Palau',),\n",
       " ('Palestine',),\n",
       " ('Panama',),\n",
       " ('Papua New Guinea',),\n",
       " ('Paraguay',),\n",
       " ('Peru',),\n",
       " ('Philippines',),\n",
       " ('Poland',),\n",
       " ('Portugal',),\n",
       " ('Puerto Rico',),\n",
       " ('Qatar',),\n",
       " ('Reunion',),\n",
       " ('Romania',),\n",
       " ('Russia',),\n",
       " ('Rwanda',),\n",
       " ('Saint Helena',),\n",
       " ('Saint Kitts and Nevis',),\n",
       " ('Saint Lucia',),\n",
       " ('Saint Pierre and Miquelon',),\n",
       " ('Saint Vincent and the Grenadines',),\n",
       " ('Samoa',),\n",
       " ('Sao Tome and Principe',),\n",
       " ('Saudi Arabia',),\n",
       " ('Senegal',),\n",
       " ('Serbia',),\n",
       " ('Seychelles',),\n",
       " ('Sierra Leone',),\n",
       " ('Singapore',),\n",
       " ('Slovakia',),\n",
       " ('Slovenia',),\n",
       " ('Solomon Islands',),\n",
       " ('Somalia',),\n",
       " ('South Africa',),\n",
       " ('South Georgia and the Islands',),\n",
       " ('South Korea',),\n",
       " ('South Sudan',),\n",
       " ('Spain',),\n",
       " ('Sri Lanka',),\n",
       " ('Sudan',),\n",
       " ('Suriname',),\n",
       " ('Svalbard',),\n",
       " ('Swaziland',),\n",
       " ('Sweden',),\n",
       " ('Switzerland',),\n",
       " ('Syria',),\n",
       " ('Taiwan',),\n",
       " ('Tajikistan',),\n",
       " ('Tanzania',),\n",
       " ('Thailand',),\n",
       " ('Togo',),\n",
       " ('Tonga',),\n",
       " ('Trinidad and Tobago',),\n",
       " ('Tunisia',),\n",
       " ('Turkey',),\n",
       " ('Turkmenistan',),\n",
       " ('Turks and Caicos Islands',),\n",
       " ('Tuvalu',),\n",
       " ('Uganda',),\n",
       " ('Ukraine',),\n",
       " ('United Arab Emirates',),\n",
       " ('United Kingdom',),\n",
       " ('United States',),\n",
       " ('Uruguay',),\n",
       " ('Uzbekistan',),\n",
       " ('Vanuatu',),\n",
       " ('Venezuela',),\n",
       " ('Vietnam',),\n",
       " ('Virgin Islands',),\n",
       " ('Wake Island',),\n",
       " ('Wallis and Futuna',),\n",
       " ('West Bank',),\n",
       " ('Western Sahara',),\n",
       " ('Yemen',),\n",
       " ('Zambia',),\n",
       " ('Zimbabwe',)]"
      ]
     },
     "execution_count": 479,
     "metadata": {},
     "output_type": "execute_result"
    }
   ],
   "source": [
    "cursor.execute(\"\"\"\n",
    "\n",
    "SELECT DISTINCT country\n",
    "FROM airports\n",
    "ORDER by lower(country)\n",
    "\n",
    "\"\"\")\n",
    "cursor.fetchall()  "
   ]
  },
  {
   "cell_type": "code",
   "execution_count": 481,
   "metadata": {},
   "outputs": [
    {
     "data": {
      "text/plain": [
       "[('Afghanistan',),\n",
       " ('Albania',),\n",
       " ('Algeria',),\n",
       " ('American Samoa',),\n",
       " ('Angola',),\n",
       " ('Anguilla',),\n",
       " ('Antarctica',),\n",
       " ('Antigua and Barbuda',),\n",
       " ('Argentina',),\n",
       " ('Armenia',),\n",
       " ('Aruba',),\n",
       " ('Australia',),\n",
       " ('Austria',),\n",
       " ('Azerbaijan',),\n",
       " ('Bahamas',),\n",
       " ('Bahrain',),\n",
       " ('Bangladesh',),\n",
       " ('Barbados',),\n",
       " ('Belarus',),\n",
       " ('Belgium',),\n",
       " ('Belize',),\n",
       " ('Benin',),\n",
       " ('Bermuda',),\n",
       " ('Bhutan',),\n",
       " ('Bolivia',),\n",
       " ('Bosnia and Herzegovina',),\n",
       " ('Botswana',),\n",
       " ('Brazil',),\n",
       " ('British Indian Ocean Territory',),\n",
       " ('British Virgin Islands',),\n",
       " ('Brunei',),\n",
       " ('Bulgaria',),\n",
       " ('Burkina Faso',),\n",
       " ('Burma',),\n",
       " ('Burundi',),\n",
       " ('Cambodia',),\n",
       " ('Cameroon',),\n",
       " ('Canada',),\n",
       " ('Cape Verde',),\n",
       " ('Cayman Islands',),\n",
       " ('Central African Republic',),\n",
       " ('Chad',),\n",
       " ('Chile',),\n",
       " ('China',),\n",
       " ('Christmas Island',),\n",
       " ('Cocos (Keeling) Islands',),\n",
       " ('Colombia',),\n",
       " ('Comoros',),\n",
       " ('Congo (Brazzaville)',),\n",
       " ('Congo (Kinshasa)',),\n",
       " ('Cook Islands',),\n",
       " ('Costa Rica',),\n",
       " (\"Cote d'Ivoire\",),\n",
       " ('Croatia',),\n",
       " ('Cuba',),\n",
       " ('Cyprus',),\n",
       " ('Czech Republic',),\n",
       " ('Denmark',),\n",
       " ('Djibouti',),\n",
       " ('Dominica',),\n",
       " ('Dominican Republic',),\n",
       " ('East Timor',),\n",
       " ('Ecuador',),\n",
       " ('Egypt',),\n",
       " ('El Salvador',),\n",
       " ('Equatorial Guinea',),\n",
       " ('Eritrea',),\n",
       " ('Estonia',),\n",
       " ('Ethiopia',),\n",
       " ('Falkland Islands',),\n",
       " ('Faroe Islands',),\n",
       " ('Fiji',),\n",
       " ('Finland',),\n",
       " ('France',),\n",
       " ('French Guiana',),\n",
       " ('French Polynesia',),\n",
       " ('Gabon',),\n",
       " ('Gambia',),\n",
       " ('Georgia',),\n",
       " ('Germany',),\n",
       " ('Ghana',),\n",
       " ('Gibraltar',),\n",
       " ('Greece',),\n",
       " ('Greenland',),\n",
       " ('Grenada',),\n",
       " ('Guadeloupe',),\n",
       " ('Guam',),\n",
       " ('Guatemala',),\n",
       " ('Guernsey',),\n",
       " ('Guinea',),\n",
       " ('Guinea-Bissau',),\n",
       " ('Guyana',),\n",
       " ('Haiti',),\n",
       " ('Honduras',),\n",
       " ('Hong Kong',),\n",
       " ('Hungary',),\n",
       " ('Iceland',),\n",
       " ('India',),\n",
       " ('Indonesia',),\n",
       " ('Iran',),\n",
       " ('Iraq',),\n",
       " ('Ireland',),\n",
       " ('Isle of Man',),\n",
       " ('Israel',),\n",
       " ('Italy',),\n",
       " ('Jamaica',),\n",
       " ('Japan',),\n",
       " ('Jersey',),\n",
       " ('Johnston Atoll',),\n",
       " ('Jordan',),\n",
       " ('Kazakhstan',),\n",
       " ('Kenya',),\n",
       " ('Kiribati',),\n",
       " ('Korea',),\n",
       " ('Kuwait',),\n",
       " ('Kyrgyzstan',),\n",
       " ('Laos',),\n",
       " ('Latvia',),\n",
       " ('Lebanon',),\n",
       " ('Lesotho',),\n",
       " ('Liberia',),\n",
       " ('Libya',),\n",
       " ('Lithuania',),\n",
       " ('Luxembourg',),\n",
       " ('Macau',),\n",
       " ('Macedonia',),\n",
       " ('Madagascar',),\n",
       " ('Malawi',),\n",
       " ('Malaysia',),\n",
       " ('Maldives',),\n",
       " ('Mali',),\n",
       " ('Malta',),\n",
       " ('Marshall Islands',),\n",
       " ('Martinique',),\n",
       " ('Mauritania',),\n",
       " ('Mauritius',),\n",
       " ('Mayotte',),\n",
       " ('Mexico',),\n",
       " ('Micronesia',),\n",
       " ('Midway Islands',),\n",
       " ('Moldova',),\n",
       " ('Monaco',),\n",
       " ('Mongolia',),\n",
       " ('Montenegro',),\n",
       " ('Montserrat',),\n",
       " ('Morocco',),\n",
       " ('Mozambique',),\n",
       " ('Myanmar',),\n",
       " ('Namibia',),\n",
       " ('Nauru',),\n",
       " ('Nepal',),\n",
       " ('Netherlands',),\n",
       " ('Netherlands Antilles',),\n",
       " ('New Caledonia',),\n",
       " ('New Zealand',),\n",
       " ('Nicaragua',),\n",
       " ('Niger',),\n",
       " ('Nigeria',),\n",
       " ('Niue',),\n",
       " ('Norfolk Island',),\n",
       " ('North Korea',),\n",
       " ('Northern Mariana Islands',),\n",
       " ('Norway',),\n",
       " ('Oman',),\n",
       " ('Pakistan',),\n",
       " ('Palau',),\n",
       " ('Palestine',),\n",
       " ('Panama',),\n",
       " ('Papua New Guinea',),\n",
       " ('Paraguay',),\n",
       " ('Peru',),\n",
       " ('Philippines',),\n",
       " ('Poland',),\n",
       " ('Portugal',),\n",
       " ('Puerto Rico',),\n",
       " ('Qatar',),\n",
       " ('Reunion',),\n",
       " ('Romania',),\n",
       " ('Russia',),\n",
       " ('Rwanda',),\n",
       " ('Saint Helena',),\n",
       " ('Saint Kitts and Nevis',),\n",
       " ('Saint Lucia',),\n",
       " ('Saint Pierre and Miquelon',),\n",
       " ('Saint Vincent and the Grenadines',),\n",
       " ('Samoa',),\n",
       " ('Sao Tome and Principe',),\n",
       " ('Saudi Arabia',),\n",
       " ('Senegal',),\n",
       " ('Serbia',),\n",
       " ('Seychelles',),\n",
       " ('Sierra Leone',),\n",
       " ('Singapore',),\n",
       " ('Slovakia',),\n",
       " ('Slovenia',),\n",
       " ('Solomon Islands',),\n",
       " ('Somalia',),\n",
       " ('South Africa',),\n",
       " ('South Georgia and the Islands',),\n",
       " ('South Korea',),\n",
       " ('South Sudan',),\n",
       " ('Spain',),\n",
       " ('Sri Lanka',),\n",
       " ('Sudan',),\n",
       " ('Suriname',),\n",
       " ('Svalbard',),\n",
       " ('Swaziland',),\n",
       " ('Sweden',),\n",
       " ('Switzerland',),\n",
       " ('Syria',),\n",
       " ('Taiwan',),\n",
       " ('Tajikistan',),\n",
       " ('Tanzania',),\n",
       " ('Thailand',),\n",
       " ('Togo',),\n",
       " ('Tonga',),\n",
       " ('Trinidad and Tobago',),\n",
       " ('Tunisia',),\n",
       " ('Turkey',),\n",
       " ('Turkmenistan',),\n",
       " ('Turks and Caicos Islands',),\n",
       " ('Tuvalu',),\n",
       " ('Uganda',),\n",
       " ('Ukraine',),\n",
       " ('United Arab Emirates',),\n",
       " ('United Kingdom',),\n",
       " ('United States',),\n",
       " ('Uruguay',),\n",
       " ('Uzbekistan',),\n",
       " ('Vanuatu',),\n",
       " ('Venezuela',),\n",
       " ('Vietnam',),\n",
       " ('Virgin Islands',),\n",
       " ('Wake Island',),\n",
       " ('Wallis and Futuna',),\n",
       " ('West Bank',),\n",
       " ('Western Sahara',),\n",
       " ('Yemen',),\n",
       " ('Zambia',),\n",
       " ('Zimbabwe',)]"
      ]
     },
     "execution_count": 481,
     "metadata": {},
     "output_type": "execute_result"
    }
   ],
   "source": [
    "cursor.execute(\"\"\"\n",
    "\n",
    "SELECT country\n",
    "FROM airports\n",
    "GROUP by country\n",
    "ORDER by lower(country)\n",
    "\n",
    "\"\"\")\n",
    "cursor.fetchall()  "
   ]
  },
  {
   "cell_type": "code",
   "execution_count": 480,
   "metadata": {},
   "outputs": [
    {
     "data": {
      "text/plain": [
       "[]"
      ]
     },
     "execution_count": 480,
     "metadata": {},
     "output_type": "execute_result"
    }
   ],
   "source": [
    "#use a DB browser to write SQL queries then import\n",
    "\n",
    "cursor.execute(\"\"\"\n",
    "\n",
    "\n",
    "\n",
    "\"\"\")\n",
    "cursor.fetchall()  "
   ]
  },
  {
   "cell_type": "markdown",
   "metadata": {
    "slideshow": {
     "slide_type": "slide"
    }
   },
   "source": [
    "### SQL Joins"
   ]
  },
  {
   "cell_type": "markdown",
   "metadata": {
    "slideshow": {
     "slide_type": "fragment"
    }
   },
   "source": [
    "SQL joins can be used to both **add** data to a table and **remove** data from a table. "
   ]
  },
  {
   "cell_type": "markdown",
   "metadata": {
    "slideshow": {
     "slide_type": "fragment"
    }
   },
   "source": [
    "<img src=\"img/venn.png\" width=550>"
   ]
  },
  {
   "cell_type": "code",
   "execution_count": null,
   "metadata": {},
   "outputs": [],
   "source": []
  },
  {
   "cell_type": "markdown",
   "metadata": {},
   "source": [
    "- Inner join: default join. only gives where there is a match (values exactly the same)\n",
    "- Left join: every row from A and matching rows from B\n",
    "\n",
    "\n",
    "default join in databases is inner.\n",
    "left is most common."
   ]
  },
  {
   "cell_type": "markdown",
   "metadata": {
    "slideshow": {
     "slide_type": "slide"
    }
   },
   "source": [
    "**Task** Write a query that will join the latitude and longitude data from the airports table to the information on the routes table"
   ]
  },
  {
   "cell_type": "code",
   "execution_count": 482,
   "metadata": {
    "slideshow": {
     "slide_type": "skip"
    }
   },
   "outputs": [
    {
     "name": "stdout",
     "output_type": "stream",
     "text": [
      "('index', None, None, None, None, None, None)\n",
      "('airline', None, None, None, None, None, None)\n",
      "('airline_id', None, None, None, None, None, None)\n",
      "('source', None, None, None, None, None, None)\n",
      "('source_id', None, None, None, None, None, None)\n",
      "('dest', None, None, None, None, None, None)\n",
      "('dest_id', None, None, None, None, None, None)\n",
      "('codeshare', None, None, None, None, None, None)\n",
      "('stops', None, None, None, None, None, None)\n",
      "('equipment', None, None, None, None, None, None)\n",
      "('index', None, None, None, None, None, None)\n",
      "('id', None, None, None, None, None, None)\n",
      "('name', None, None, None, None, None, None)\n",
      "('city', None, None, None, None, None, None)\n",
      "('country', None, None, None, None, None, None)\n",
      "('code', None, None, None, None, None, None)\n",
      "('icao', None, None, None, None, None, None)\n",
      "('latitude', None, None, None, None, None, None)\n",
      "('longitude', None, None, None, None, None, None)\n",
      "('altitude', None, None, None, None, None, None)\n",
      "('offset', None, None, None, None, None, None)\n",
      "('dst', None, None, None, None, None, None)\n",
      "('timezone', None, None, None, None, None, None)\n"
     ]
    }
   ],
   "source": [
    "cursor.execute(\"\"\"\n",
    "SELECT *\n",
    "FROM routes as r\n",
    "JOIN airports as a on source_id = a.id \n",
    "\n",
    "-- default join is inner\n",
    "-- order does not matter in join = statement\n",
    "\"\"\")\n",
    "print(*cursor.description, sep='\\n')"
   ]
  },
  {
   "cell_type": "code",
   "execution_count": 492,
   "metadata": {},
   "outputs": [
    {
     "name": "stdout",
     "output_type": "stream",
     "text": [
      "(0, '2B', '410', 'AER', '2965', 'KZN', '2990', None, '0', 'CR2', 2886, '2965', 'Sochi', 'Sochi', 'Russia', 'AER', 'URSS', '43.449928', '39.956589', '89', '4', 'N', 'Europe/Moscow')\n",
      "(1, '2B', '410', 'ASF', '2966', 'KZN', '2990', None, '0', 'CR2', 2887, '2966', 'Astrakhan', 'Astrakhan', 'Russia', 'ASF', 'URWA', '46.283333', '48.006278', '-65', '4', 'N', 'Europe/Moscow')\n",
      "(2, '2B', '410', 'ASF', '2966', 'MRV', '2962', None, '0', 'CR2', 2887, '2966', 'Astrakhan', 'Astrakhan', 'Russia', 'ASF', 'URWA', '46.283333', '48.006278', '-65', '4', 'N', 'Europe/Moscow')\n",
      "(3, '2B', '410', 'CEK', '2968', 'KZN', '2990', None, '0', 'CR2', 2889, '2968', 'Balandino', 'Chelyabinsk', 'Russia', 'CEK', 'USCC', '55.305836', '61.503333', '769', '6', 'N', 'Asia/Yekaterinburg')\n",
      "(4, '2B', '410', 'CEK', '2968', 'OVB', '4078', None, '0', 'CR2', 2889, '2968', 'Balandino', 'Chelyabinsk', 'Russia', 'CEK', 'USCC', '55.305836', '61.503333', '769', '6', 'N', 'Asia/Yekaterinburg')\n",
      "(5, '2B', '410', 'DME', '4029', 'KZN', '2990', None, '0', 'CR2', 3921, '4029', 'Domododevo', 'Moscow', 'Russia', 'DME', 'UUDD', '55.408611', '37.906111', '588', '4', 'N', 'Europe/Moscow')\n",
      "(6, '2B', '410', 'DME', '4029', 'NBC', '6969', None, '0', 'CR2', 3921, '4029', 'Domododevo', 'Moscow', 'Russia', 'DME', 'UUDD', '55.408611', '37.906111', '588', '4', 'N', 'Europe/Moscow')\n",
      "(7, '2B', '410', 'DME', '4029', 'TGK', '\\\\N', None, '0', 'CR2', 3921, '4029', 'Domododevo', 'Moscow', 'Russia', 'DME', 'UUDD', '55.408611', '37.906111', '588', '4', 'N', 'Europe/Moscow')\n",
      "(8, '2B', '410', 'DME', '4029', 'UUA', '6160', None, '0', 'CR2', 3921, '4029', 'Domododevo', 'Moscow', 'Russia', 'DME', 'UUDD', '55.408611', '37.906111', '588', '4', 'N', 'Europe/Moscow')\n",
      "(9, '2B', '410', 'EGO', '6156', 'KGD', '2952', None, '0', 'CR2', 5029, '6156', 'Belgorod International Airport', 'Belgorod', 'Russia', 'EGO', 'UUOB', '50.6438', '36.5901', '735', '4', 'N', 'Europe/Moscow')\n"
     ]
    }
   ],
   "source": [
    "cursor.execute(\"\"\"\n",
    "SELECT *\n",
    "FROM routes as r\n",
    "JOIN airports as a on source_id = a.id \n",
    "\n",
    "-- default join is inner\n",
    "-- order does not matter in join = statement\n",
    "\"\"\")\n",
    "print(*cursor.fetchmany(10), sep='\\n')"
   ]
  },
  {
   "cell_type": "markdown",
   "metadata": {},
   "source": [
    "list of tuples so we can pd it.\n"
   ]
  },
  {
   "cell_type": "code",
   "execution_count": 501,
   "metadata": {},
   "outputs": [],
   "source": [
    "df = pd.DataFrame(cursor.fetchall())  # but no column names"
   ]
  },
  {
   "cell_type": "code",
   "execution_count": 503,
   "metadata": {},
   "outputs": [
    {
     "ename": "SyntaxError",
     "evalue": "invalid syntax (<ipython-input-503-360e08a61925>, line 1)",
     "output_type": "error",
     "traceback": [
      "\u001b[1;36m  File \u001b[1;32m\"<ipython-input-503-360e08a61925>\"\u001b[1;36m, line \u001b[1;32m1\u001b[0m\n\u001b[1;33m    df.index = [x[0]] for x in cursor.description  # update this by checking andy's\u001b[0m\n\u001b[1;37m                        ^\u001b[0m\n\u001b[1;31mSyntaxError\u001b[0m\u001b[1;31m:\u001b[0m invalid syntax\n"
     ]
    }
   ],
   "source": [
    "df.index = [x[0]] for x in cursor.description  # update this by checking andy's"
   ]
  },
  {
   "cell_type": "code",
   "execution_count": 494,
   "metadata": {
    "slideshow": {
     "slide_type": "skip"
    }
   },
   "outputs": [
    {
     "name": "stdout",
     "output_type": "stream",
     "text": [
      "('index', None, None, None, None, None, None)\n",
      "('airline', None, None, None, None, None, None)\n",
      "('airline_id', None, None, None, None, None, None)\n",
      "('source', None, None, None, None, None, None)\n",
      "('source_id', None, None, None, None, None, None)\n",
      "('dest', None, None, None, None, None, None)\n",
      "('dest_id', None, None, None, None, None, None)\n",
      "('codeshare', None, None, None, None, None, None)\n",
      "('stops', None, None, None, None, None, None)\n",
      "('equipment', None, None, None, None, None, None)\n",
      "('source_lat', None, None, None, None, None, None)\n",
      "('source_lon', None, None, None, None, None, None)\n"
     ]
    }
   ],
   "source": [
    "cursor.execute(\"\"\"\n",
    "SELECT r.*,\n",
    " latitude as source_lat,\n",
    " longitude as source_lon\n",
    "FROM routes as r\n",
    "JOIN airports as a on r.source_id = a.id \n",
    "\"\"\")\n",
    "print(*cursor.description, sep='\\n')"
   ]
  },
  {
   "attachments": {
    "image.png": {
     "image/png": "[encoded data removed]"
    }
   },
   "cell_type": "markdown",
   "metadata": {},
   "source": [
    "![image.png](attachment:image.png)"
   ]
  },
  {
   "cell_type": "code",
   "execution_count": 495,
   "metadata": {},
   "outputs": [
    {
     "ename": "OperationalError",
     "evalue": "near \"dest\": syntax error",
     "output_type": "error",
     "traceback": [
      "\u001b[1;31m---------------------------------------------------------------------------\u001b[0m",
      "\u001b[1;31mOperationalError\u001b[0m                          Traceback (most recent call last)",
      "\u001b[1;32m<ipython-input-495-9c2c7cc12187>\u001b[0m in \u001b[0;36m<module>\u001b[1;34m\u001b[0m\n\u001b[0;32m      9\u001b[0m \u001b[0mJOIN\u001b[0m \u001b[0mairports\u001b[0m \u001b[0msource\u001b[0m \u001b[0mon\u001b[0m \u001b[0msource\u001b[0m\u001b[1;33m.\u001b[0m\u001b[0mid\u001b[0m \u001b[1;33m=\u001b[0m \u001b[0mr\u001b[0m\u001b[1;33m.\u001b[0m\u001b[0msource_id\u001b[0m\u001b[1;33m\u001b[0m\u001b[1;33m\u001b[0m\u001b[0m\n\u001b[0;32m     10\u001b[0m \u001b[0mJOIN\u001b[0m \u001b[0mairports\u001b[0m \u001b[0mdest\u001b[0m \u001b[0mon\u001b[0m \u001b[0mdest\u001b[0m\u001b[1;33m.\u001b[0m\u001b[0mid\u001b[0m \u001b[1;33m=\u001b[0m \u001b[0mr\u001b[0m\u001b[1;33m.\u001b[0m\u001b[0mdest_id\u001b[0m\u001b[1;33m\u001b[0m\u001b[1;33m\u001b[0m\u001b[0m\n\u001b[1;32m---> 11\u001b[1;33m \"\"\")\n\u001b[0m\u001b[0;32m     12\u001b[0m \u001b[0mprint\u001b[0m\u001b[1;33m(\u001b[0m\u001b[1;33m*\u001b[0m\u001b[0mcursor\u001b[0m\u001b[1;33m.\u001b[0m\u001b[0mdescription\u001b[0m\u001b[1;33m,\u001b[0m \u001b[0msep\u001b[0m\u001b[1;33m=\u001b[0m\u001b[1;34m'\\n'\u001b[0m\u001b[1;33m)\u001b[0m\u001b[1;33m\u001b[0m\u001b[1;33m\u001b[0m\u001b[0m\n",
      "\u001b[1;31mOperationalError\u001b[0m: near \"dest\": syntax error"
     ]
    }
   ],
   "source": [
    "cursor.execute(\"\"\"\n",
    "SELECT r.*,\n",
    " source.latitude as source_lat,\n",
    " source.longitude as source_lon\n",
    " dest.latitude as dest_lat,\n",
    " dest.longitude as dest_lon\n",
    " \n",
    "FROM routes as r\n",
    "JOIN airports source on source.id = r.source_id\n",
    "JOIN airports dest on dest.id = r.dest_id\n",
    "\"\"\")\n",
    "print(*cursor.description, sep='\\n')"
   ]
  },
  {
   "cell_type": "markdown",
   "metadata": {
    "slideshow": {
     "slide_type": "slide"
    }
   },
   "source": [
    "### Grouping statements\n",
    "\n",
    "Combines `select` and `group by` when you want aggregates by values"
   ]
  },
  {
   "cell_type": "markdown",
   "metadata": {
    "slideshow": {
     "slide_type": "fragment"
    }
   },
   "source": [
    "`select` `min(x)` ... `max()`, `sum()`, etc"
   ]
  },
  {
   "cell_type": "markdown",
   "metadata": {
    "slideshow": {
     "slide_type": "fragment"
    }
   },
   "source": [
    "`group by x`"
   ]
  },
  {
   "cell_type": "markdown",
   "metadata": {
    "slideshow": {
     "slide_type": "slide"
    }
   },
   "source": [
    "**Task**<br>\n",
    "- Which countries have the highest amount of active airlines?\n",
    "- Which countries have the highest amount of inactive airlines?\n",
    "- What about airports by timezones?"
   ]
  },
  {
   "cell_type": "code",
   "execution_count": null,
   "metadata": {
    "slideshow": {
     "slide_type": "skip"
    }
   },
   "outputs": [],
   "source": [
    "# Which countries have the highest amount of active airports?\n",
    "cursor.execute(\"\"\"\n",
    "-- your code here;\n",
    "\"\"\")\n",
    "print(*cursor.fetchall(), sep='\\n')"
   ]
  },
  {
   "cell_type": "code",
   "execution_count": null,
   "metadata": {
    "slideshow": {
     "slide_type": "skip"
    }
   },
   "outputs": [],
   "source": [
    "# Which countries have the highest amount of inactive airports?\n",
    "cursor.execute(\"\"\"\n",
    "-- your code here;\n",
    "\"\"\")\n",
    "print(*cursor.fetchall(), sep='\\n')"
   ]
  },
  {
   "cell_type": "code",
   "execution_count": null,
   "metadata": {
    "slideshow": {
     "slide_type": "skip"
    }
   },
   "outputs": [],
   "source": [
    "# What about airports by timezones?\n",
    "cursor.execute(\"\"\"\n",
    "-- your code here;\"\"\")\n",
    "print(*cursor.fetchall(), sep='\\n')"
   ]
  },
  {
   "cell_type": "code",
   "execution_count": null,
   "metadata": {},
   "outputs": [],
   "source": [
    "# It's always a good idea to close our connections when we're done\n",
    "cursor.close()\n",
    "con.close()"
   ]
  },
  {
   "cell_type": "markdown",
   "metadata": {
    "slideshow": {
     "slide_type": "slide"
    }
   },
   "source": [
    "## Goal 5: Transfering from sqlite to pandas"
   ]
  },
  {
   "cell_type": "code",
   "execution_count": 496,
   "metadata": {},
   "outputs": [],
   "source": [
    "import pandas as pd"
   ]
  },
  {
   "cell_type": "code",
   "execution_count": 497,
   "metadata": {
    "slideshow": {
     "slide_type": "fragment"
    }
   },
   "outputs": [
    {
     "data": {
      "text/html": [
       "<div>\n",
       "<style scoped>\n",
       "    .dataframe tbody tr th:only-of-type {\n",
       "        vertical-align: middle;\n",
       "    }\n",
       "\n",
       "    .dataframe tbody tr th {\n",
       "        vertical-align: top;\n",
       "    }\n",
       "\n",
       "    .dataframe thead th {\n",
       "        text-align: right;\n",
       "    }\n",
       "</style>\n",
       "<table border=\"1\" class=\"dataframe\">\n",
       "  <thead>\n",
       "    <tr style=\"text-align: right;\">\n",
       "      <th></th>\n",
       "      <th>index</th>\n",
       "      <th>id</th>\n",
       "      <th>name</th>\n",
       "      <th>city</th>\n",
       "      <th>country</th>\n",
       "      <th>code</th>\n",
       "      <th>icao</th>\n",
       "      <th>latitude</th>\n",
       "      <th>longitude</th>\n",
       "      <th>altitude</th>\n",
       "      <th>offset</th>\n",
       "      <th>dst</th>\n",
       "      <th>timezone</th>\n",
       "    </tr>\n",
       "  </thead>\n",
       "  <tbody>\n",
       "    <tr>\n",
       "      <th>0</th>\n",
       "      <td>0</td>\n",
       "      <td>1</td>\n",
       "      <td>Goroka</td>\n",
       "      <td>Goroka</td>\n",
       "      <td>Papua New Guinea</td>\n",
       "      <td>GKA</td>\n",
       "      <td>AYGA</td>\n",
       "      <td>-6.081689</td>\n",
       "      <td>145.391881</td>\n",
       "      <td>5282</td>\n",
       "      <td>10</td>\n",
       "      <td>U</td>\n",
       "      <td>Pacific/Port_Moresby</td>\n",
       "    </tr>\n",
       "    <tr>\n",
       "      <th>1</th>\n",
       "      <td>1</td>\n",
       "      <td>2</td>\n",
       "      <td>Madang</td>\n",
       "      <td>Madang</td>\n",
       "      <td>Papua New Guinea</td>\n",
       "      <td>MAG</td>\n",
       "      <td>AYMD</td>\n",
       "      <td>-5.207083</td>\n",
       "      <td>145.7887</td>\n",
       "      <td>20</td>\n",
       "      <td>10</td>\n",
       "      <td>U</td>\n",
       "      <td>Pacific/Port_Moresby</td>\n",
       "    </tr>\n",
       "    <tr>\n",
       "      <th>2</th>\n",
       "      <td>2</td>\n",
       "      <td>3</td>\n",
       "      <td>Mount Hagen</td>\n",
       "      <td>Mount Hagen</td>\n",
       "      <td>Papua New Guinea</td>\n",
       "      <td>HGU</td>\n",
       "      <td>AYMH</td>\n",
       "      <td>-5.826789</td>\n",
       "      <td>144.295861</td>\n",
       "      <td>5388</td>\n",
       "      <td>10</td>\n",
       "      <td>U</td>\n",
       "      <td>Pacific/Port_Moresby</td>\n",
       "    </tr>\n",
       "    <tr>\n",
       "      <th>3</th>\n",
       "      <td>3</td>\n",
       "      <td>4</td>\n",
       "      <td>Nadzab</td>\n",
       "      <td>Nadzab</td>\n",
       "      <td>Papua New Guinea</td>\n",
       "      <td>LAE</td>\n",
       "      <td>AYNZ</td>\n",
       "      <td>-6.569828</td>\n",
       "      <td>146.726242</td>\n",
       "      <td>239</td>\n",
       "      <td>10</td>\n",
       "      <td>U</td>\n",
       "      <td>Pacific/Port_Moresby</td>\n",
       "    </tr>\n",
       "    <tr>\n",
       "      <th>4</th>\n",
       "      <td>4</td>\n",
       "      <td>5</td>\n",
       "      <td>Port Moresby Jacksons Intl</td>\n",
       "      <td>Port Moresby</td>\n",
       "      <td>Papua New Guinea</td>\n",
       "      <td>POM</td>\n",
       "      <td>AYPY</td>\n",
       "      <td>-9.443383</td>\n",
       "      <td>147.22005</td>\n",
       "      <td>146</td>\n",
       "      <td>10</td>\n",
       "      <td>U</td>\n",
       "      <td>Pacific/Port_Moresby</td>\n",
       "    </tr>\n",
       "  </tbody>\n",
       "</table>\n",
       "</div>"
      ],
      "text/plain": [
       "   index id                        name          city           country code  \\\n",
       "0      0  1                      Goroka        Goroka  Papua New Guinea  GKA   \n",
       "1      1  2                      Madang        Madang  Papua New Guinea  MAG   \n",
       "2      2  3                 Mount Hagen   Mount Hagen  Papua New Guinea  HGU   \n",
       "3      3  4                      Nadzab        Nadzab  Papua New Guinea  LAE   \n",
       "4      4  5  Port Moresby Jacksons Intl  Port Moresby  Papua New Guinea  POM   \n",
       "\n",
       "   icao   latitude   longitude altitude offset dst              timezone  \n",
       "0  AYGA  -6.081689  145.391881     5282     10   U  Pacific/Port_Moresby  \n",
       "1  AYMD  -5.207083    145.7887       20     10   U  Pacific/Port_Moresby  \n",
       "2  AYMH  -5.826789  144.295861     5388     10   U  Pacific/Port_Moresby  \n",
       "3  AYNZ  -6.569828  146.726242      239     10   U  Pacific/Port_Moresby  \n",
       "4  AYPY  -9.443383   147.22005      146     10   U  Pacific/Port_Moresby  "
      ]
     },
     "execution_count": 497,
     "metadata": {},
     "output_type": "execute_result"
    }
   ],
   "source": [
    "pd_con = sqlite3.connect(\"data/flights.db\")\n",
    "df = pd.read_sql_query(\"select * from airports limit 5;\", pd_con)\n",
    "df"
   ]
  },
  {
   "cell_type": "markdown",
   "metadata": {
    "slideshow": {
     "slide_type": "slide"
    }
   },
   "source": [
    "**Task**: \n",
    "Convert one of the earlier queries in the lesson to a pandas data frame"
   ]
  },
  {
   "cell_type": "code",
   "execution_count": 498,
   "metadata": {},
   "outputs": [],
   "source": [
    "df = pd.read_sql_query(\"\"\"\n",
    "SELECT r.*,\n",
    " latitude as source_lat,\n",
    " longitude as source_lon\n",
    "FROM routes as r\n",
    "JOIN airports as a on r.source_id = a.id \n",
    "\"\"\", pd_con)\n"
   ]
  },
  {
   "cell_type": "code",
   "execution_count": 499,
   "metadata": {},
   "outputs": [
    {
     "data": {
      "text/html": [
       "<div>\n",
       "<style scoped>\n",
       "    .dataframe tbody tr th:only-of-type {\n",
       "        vertical-align: middle;\n",
       "    }\n",
       "\n",
       "    .dataframe tbody tr th {\n",
       "        vertical-align: top;\n",
       "    }\n",
       "\n",
       "    .dataframe thead th {\n",
       "        text-align: right;\n",
       "    }\n",
       "</style>\n",
       "<table border=\"1\" class=\"dataframe\">\n",
       "  <thead>\n",
       "    <tr style=\"text-align: right;\">\n",
       "      <th></th>\n",
       "      <th>index</th>\n",
       "      <th>airline</th>\n",
       "      <th>airline_id</th>\n",
       "      <th>source</th>\n",
       "      <th>source_id</th>\n",
       "      <th>dest</th>\n",
       "      <th>dest_id</th>\n",
       "      <th>codeshare</th>\n",
       "      <th>stops</th>\n",
       "      <th>equipment</th>\n",
       "      <th>source_lat</th>\n",
       "      <th>source_lon</th>\n",
       "    </tr>\n",
       "  </thead>\n",
       "  <tbody>\n",
       "    <tr>\n",
       "      <th>0</th>\n",
       "      <td>0</td>\n",
       "      <td>2B</td>\n",
       "      <td>410</td>\n",
       "      <td>AER</td>\n",
       "      <td>2965</td>\n",
       "      <td>KZN</td>\n",
       "      <td>2990</td>\n",
       "      <td>None</td>\n",
       "      <td>0</td>\n",
       "      <td>CR2</td>\n",
       "      <td>43.449928</td>\n",
       "      <td>39.956589</td>\n",
       "    </tr>\n",
       "    <tr>\n",
       "      <th>1</th>\n",
       "      <td>1</td>\n",
       "      <td>2B</td>\n",
       "      <td>410</td>\n",
       "      <td>ASF</td>\n",
       "      <td>2966</td>\n",
       "      <td>KZN</td>\n",
       "      <td>2990</td>\n",
       "      <td>None</td>\n",
       "      <td>0</td>\n",
       "      <td>CR2</td>\n",
       "      <td>46.283333</td>\n",
       "      <td>48.006278</td>\n",
       "    </tr>\n",
       "    <tr>\n",
       "      <th>2</th>\n",
       "      <td>2</td>\n",
       "      <td>2B</td>\n",
       "      <td>410</td>\n",
       "      <td>ASF</td>\n",
       "      <td>2966</td>\n",
       "      <td>MRV</td>\n",
       "      <td>2962</td>\n",
       "      <td>None</td>\n",
       "      <td>0</td>\n",
       "      <td>CR2</td>\n",
       "      <td>46.283333</td>\n",
       "      <td>48.006278</td>\n",
       "    </tr>\n",
       "    <tr>\n",
       "      <th>3</th>\n",
       "      <td>3</td>\n",
       "      <td>2B</td>\n",
       "      <td>410</td>\n",
       "      <td>CEK</td>\n",
       "      <td>2968</td>\n",
       "      <td>KZN</td>\n",
       "      <td>2990</td>\n",
       "      <td>None</td>\n",
       "      <td>0</td>\n",
       "      <td>CR2</td>\n",
       "      <td>55.305836</td>\n",
       "      <td>61.503333</td>\n",
       "    </tr>\n",
       "    <tr>\n",
       "      <th>4</th>\n",
       "      <td>4</td>\n",
       "      <td>2B</td>\n",
       "      <td>410</td>\n",
       "      <td>CEK</td>\n",
       "      <td>2968</td>\n",
       "      <td>OVB</td>\n",
       "      <td>4078</td>\n",
       "      <td>None</td>\n",
       "      <td>0</td>\n",
       "      <td>CR2</td>\n",
       "      <td>55.305836</td>\n",
       "      <td>61.503333</td>\n",
       "    </tr>\n",
       "    <tr>\n",
       "      <th>...</th>\n",
       "      <td>...</td>\n",
       "      <td>...</td>\n",
       "      <td>...</td>\n",
       "      <td>...</td>\n",
       "      <td>...</td>\n",
       "      <td>...</td>\n",
       "      <td>...</td>\n",
       "      <td>...</td>\n",
       "      <td>...</td>\n",
       "      <td>...</td>\n",
       "      <td>...</td>\n",
       "      <td>...</td>\n",
       "    </tr>\n",
       "    <tr>\n",
       "      <th>67419</th>\n",
       "      <td>67658</td>\n",
       "      <td>ZL</td>\n",
       "      <td>4178</td>\n",
       "      <td>WYA</td>\n",
       "      <td>6334</td>\n",
       "      <td>ADL</td>\n",
       "      <td>3341</td>\n",
       "      <td>None</td>\n",
       "      <td>0</td>\n",
       "      <td>SF3</td>\n",
       "      <td>-33.0589</td>\n",
       "      <td>137.514</td>\n",
       "    </tr>\n",
       "    <tr>\n",
       "      <th>67420</th>\n",
       "      <td>67659</td>\n",
       "      <td>ZM</td>\n",
       "      <td>19016</td>\n",
       "      <td>DME</td>\n",
       "      <td>4029</td>\n",
       "      <td>FRU</td>\n",
       "      <td>2912</td>\n",
       "      <td>None</td>\n",
       "      <td>0</td>\n",
       "      <td>734</td>\n",
       "      <td>55.408611</td>\n",
       "      <td>37.906111</td>\n",
       "    </tr>\n",
       "    <tr>\n",
       "      <th>67421</th>\n",
       "      <td>67660</td>\n",
       "      <td>ZM</td>\n",
       "      <td>19016</td>\n",
       "      <td>FRU</td>\n",
       "      <td>2912</td>\n",
       "      <td>DME</td>\n",
       "      <td>4029</td>\n",
       "      <td>None</td>\n",
       "      <td>0</td>\n",
       "      <td>734</td>\n",
       "      <td>43.061306</td>\n",
       "      <td>74.477556</td>\n",
       "    </tr>\n",
       "    <tr>\n",
       "      <th>67422</th>\n",
       "      <td>67661</td>\n",
       "      <td>ZM</td>\n",
       "      <td>19016</td>\n",
       "      <td>FRU</td>\n",
       "      <td>2912</td>\n",
       "      <td>OSS</td>\n",
       "      <td>2913</td>\n",
       "      <td>None</td>\n",
       "      <td>0</td>\n",
       "      <td>734</td>\n",
       "      <td>43.061306</td>\n",
       "      <td>74.477556</td>\n",
       "    </tr>\n",
       "    <tr>\n",
       "      <th>67423</th>\n",
       "      <td>67662</td>\n",
       "      <td>ZM</td>\n",
       "      <td>19016</td>\n",
       "      <td>OSS</td>\n",
       "      <td>2913</td>\n",
       "      <td>FRU</td>\n",
       "      <td>2912</td>\n",
       "      <td>None</td>\n",
       "      <td>0</td>\n",
       "      <td>734</td>\n",
       "      <td>40.608989</td>\n",
       "      <td>72.793269</td>\n",
       "    </tr>\n",
       "  </tbody>\n",
       "</table>\n",
       "<p>67424 rows × 12 columns</p>\n",
       "</div>"
      ],
      "text/plain": [
       "       index airline airline_id source source_id dest dest_id codeshare stops  \\\n",
       "0          0      2B        410    AER      2965  KZN    2990      None     0   \n",
       "1          1      2B        410    ASF      2966  KZN    2990      None     0   \n",
       "2          2      2B        410    ASF      2966  MRV    2962      None     0   \n",
       "3          3      2B        410    CEK      2968  KZN    2990      None     0   \n",
       "4          4      2B        410    CEK      2968  OVB    4078      None     0   \n",
       "...      ...     ...        ...    ...       ...  ...     ...       ...   ...   \n",
       "67419  67658      ZL       4178    WYA      6334  ADL    3341      None     0   \n",
       "67420  67659      ZM      19016    DME      4029  FRU    2912      None     0   \n",
       "67421  67660      ZM      19016    FRU      2912  DME    4029      None     0   \n",
       "67422  67661      ZM      19016    FRU      2912  OSS    2913      None     0   \n",
       "67423  67662      ZM      19016    OSS      2913  FRU    2912      None     0   \n",
       "\n",
       "      equipment source_lat source_lon  \n",
       "0           CR2  43.449928  39.956589  \n",
       "1           CR2  46.283333  48.006278  \n",
       "2           CR2  46.283333  48.006278  \n",
       "3           CR2  55.305836  61.503333  \n",
       "4           CR2  55.305836  61.503333  \n",
       "...         ...        ...        ...  \n",
       "67419       SF3   -33.0589    137.514  \n",
       "67420       734  55.408611  37.906111  \n",
       "67421       734  43.061306  74.477556  \n",
       "67422       734  43.061306  74.477556  \n",
       "67423       734  40.608989  72.793269  \n",
       "\n",
       "[67424 rows x 12 columns]"
      ]
     },
     "execution_count": 499,
     "metadata": {},
     "output_type": "execute_result"
    }
   ],
   "source": [
    "df"
   ]
  },
  {
   "cell_type": "code",
   "execution_count": null,
   "metadata": {},
   "outputs": [],
   "source": [
    "# Which countries have the highest amount of active airports?\n",
    "sql = '''\n",
    "-- YOUR CODE HERE\n",
    "'''\n",
    "pd.read_sql_query(sql, conn)"
   ]
  },
  {
   "cell_type": "code",
   "execution_count": null,
   "metadata": {},
   "outputs": [],
   "source": [
    "pd_con.close()"
   ]
  },
  {
   "cell_type": "markdown",
   "metadata": {
    "slideshow": {
     "slide_type": "slide"
    }
   },
   "source": [
    "## Bonus: SQL-like querying in Pandas\n",
    "\n",
    "`.query()`\n",
    "\n",
    "[query documentation](https://pandas.pydata.org/pandas-docs/stable/reference/api/pandas.DataFrame.query.html)"
   ]
  },
  {
   "cell_type": "code",
   "execution_count": null,
   "metadata": {
    "slideshow": {
     "slide_type": "slide"
    }
   },
   "outputs": [],
   "source": [
    "# Get data for an example\n",
    "import pandas as pd\n",
    "shelter_data=pd.read_csv('https://data.austintexas.gov/api/views/9t4d-g238/rows.csv?accessType=DOWNLOAD')"
   ]
  },
  {
   "cell_type": "code",
   "execution_count": null,
   "metadata": {
    "slideshow": {
     "slide_type": "slide"
    }
   },
   "outputs": [],
   "source": [
    "max_data = shelter_data.query('Name == \"Max\"')\n",
    "max_data.head()\n"
   ]
  },
  {
   "cell_type": "code",
   "execution_count": null,
   "metadata": {},
   "outputs": [],
   "source": [
    "#vs\n",
    "shelter_data[shelter_data['Name']==\"Max\"].head()"
   ]
  },
  {
   "cell_type": "code",
   "execution_count": null,
   "metadata": {
    "slideshow": {
     "slide_type": "slide"
    }
   },
   "outputs": [],
   "source": [
    "shelter_data.query('`Animal Type` == \"Dog\"').head()"
   ]
  },
  {
   "cell_type": "code",
   "execution_count": null,
   "metadata": {},
   "outputs": [],
   "source": []
  }
 ],
 "metadata": {
  "kernelspec": {
   "display_name": "Python 3",
   "language": "python",
   "name": "python3"
  },
  "language_info": {
   "codemirror_mode": {
    "name": "ipython",
    "version": 3
   },
   "file_extension": ".py",
   "mimetype": "text/x-python",
   "name": "python",
   "nbconvert_exporter": "python",
   "pygments_lexer": "ipython3",
   "version": "3.7.6"
  }
 },
 "nbformat": 4,
 "nbformat_minor": 4
}
